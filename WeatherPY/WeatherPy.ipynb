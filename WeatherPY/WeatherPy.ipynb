{
 "cells": [
  {
   "cell_type": "markdown",
   "metadata": {},
   "source": [
    "# WeatherPy\n",
    "----\n",
    "\n",
    "#### Author: Byron Pineda\n",
    "\n",
    "#### Note\n",
    "* Instructions have been included for each segment. You do not have to follow them exactly, but they are included to help you think through the steps."
   ]
  },
  {
   "cell_type": "markdown",
   "metadata": {},
   "source": [
    "#### Observations:\n",
    "\n",
    "These observations were made prior to running it one last time as the cities are random!\n",
    "\n",
    "Temperature (F) vs. Latitude - As the Latitude is increasing between 0 and 40 the temperatures are around 90 degrees. And with decreasing latitude down to -60 the temperature goes down to 35F. When the latitude goes above 40 the temperature also decreases.\n",
    "\n",
    "Humidity (%) vs. Latitude - Most of the humidity is clustered between -40 to 60 latitude points and most of the humidity is between 50 percent and 90 percent.\n",
    "\n",
    "Cloudiness (%) vs. Latitude - There does not look to be anything much to interpret here as the points are so scattered.\n",
    "\n",
    "Wind Speed (mph) vs. Latitude - The wind speed tends to be clustered between 2 mph and 10 mph across the latitude spanning from -40 to 70.+\n",
    "\n",
    "-----------------------------------------------------------------------------------------------------------------------\n",
    "\n",
    "In each graph below linear regression was run.  In each case the R-squared value was so low that a relationship between each of the variables in the graphs was almost non-existent.\n",
    "\n",
    "Northern Hemisphere - Temperature (F) vs. Latitude: The r-squared is: 0.39306815254426325\n",
    "\n",
    "Southern Hemisphere - Temperature (F) vs. Latitude: The r-squared is: 0.586606046029456\n",
    "\n",
    "Northern Hemisphere - Humidity (%) vs. Latitude: The r-squared is: 0.0048415991416849175\n",
    "\n",
    "Southern Hemisphere - Humidity (%) vs. Latitude: The r-squared is: 0.013135269463919226\n",
    "\n",
    "Northern Hemisphere - Cloudiness (%) vs. Latitude: The r-squared is: 0.008855732490045726\n",
    "\n",
    "Southern Hemisphere - Cloudiness (%) vs. Latitude: The r-squared is: 0.0018824705270874982\n",
    "\n",
    "Northern Hemisphere - Wind Speed (mph) vs. Latitude: The r-squared is: 3.534156388902969e-05\n",
    "\n",
    "Southern Hemisphere - Wind Speed (mph) vs. Latitude: The r-squared is: 0.02656269787764726\n",
    "\n",
    "##### Please note that all images are located in the Images folder \\Python-API-challenge\\Images\n"
   ]
  },
  {
   "cell_type": "code",
   "execution_count": 1,
   "metadata": {
    "scrolled": true
   },
   "outputs": [],
   "source": [
    "# Dependencies and Setup\n",
    "import matplotlib.pyplot as plt\n",
    "import pandas as pd\n",
    "import numpy as np\n",
    "import requests\n",
    "import time\n",
    "import datetime\n",
    "from scipy.stats import linregress\n",
    "\n",
    "# Import API key\n",
    "from api_keys import weather_api_key\n",
    "\n",
    "# Incorporated citipy to determine city based on latitude and longitude\n",
    "from citipy import citipy\n",
    "\n",
    "# Output File (CSV)\n",
    "output_data_file = \"../output_data/cities.csv\"\n",
    "\n",
    "# Range of latitudes and longitudes\n",
    "lat_range = (-90, 90)\n",
    "lng_range = (-180, 180)"
   ]
  },
  {
   "cell_type": "markdown",
   "metadata": {},
   "source": [
    "## Generate Cities List"
   ]
  },
  {
   "cell_type": "code",
   "execution_count": 2,
   "metadata": {},
   "outputs": [
    {
     "data": {
      "text/plain": [
       "612"
      ]
     },
     "execution_count": 2,
     "metadata": {},
     "output_type": "execute_result"
    }
   ],
   "source": [
    "# List for holding lat_lngs and cities\n",
    "lat_lngs = []\n",
    "cities = []\n",
    "\n",
    "# Create a set of random lat and lng combinations\n",
    "lats = np.random.uniform(lat_range[0], lat_range[1], size=1500)\n",
    "lngs = np.random.uniform(lng_range[0], lng_range[1], size=1500)\n",
    "lat_lngs = zip(lats, lngs)\n",
    "\n",
    "# Identify nearest city for each lat, lng combination\n",
    "for lat_lng in lat_lngs:\n",
    "    city = citipy.nearest_city(lat_lng[0], lat_lng[1]).city_name\n",
    "\n",
    "    \n",
    "    # If the city is unique, then add it to a our cities list\n",
    "    if city not in cities:\n",
    "        cities.append(city)\n",
    "\n",
    "# Print the city count to confirm sufficient count\n",
    "len(cities)\n"
   ]
  },
  {
   "cell_type": "code",
   "execution_count": 3,
   "metadata": {},
   "outputs": [
    {
     "data": {
      "text/html": [
       "<div>\n",
       "<style scoped>\n",
       "    .dataframe tbody tr th:only-of-type {\n",
       "        vertical-align: middle;\n",
       "    }\n",
       "\n",
       "    .dataframe tbody tr th {\n",
       "        vertical-align: top;\n",
       "    }\n",
       "\n",
       "    .dataframe thead th {\n",
       "        text-align: right;\n",
       "    }\n",
       "</style>\n",
       "<table border=\"1\" class=\"dataframe\">\n",
       "  <thead>\n",
       "    <tr style=\"text-align: right;\">\n",
       "      <th></th>\n",
       "      <th>City</th>\n",
       "      <th>Lat</th>\n",
       "      <th>Lng</th>\n",
       "      <th>Max Temp</th>\n",
       "      <th>Humidity</th>\n",
       "      <th>Cloudiness</th>\n",
       "      <th>Wind Speed</th>\n",
       "      <th>Country</th>\n",
       "      <th>Date</th>\n",
       "    </tr>\n",
       "  </thead>\n",
       "  <tbody>\n",
       "    <tr>\n",
       "      <th>0</th>\n",
       "      <td>yerbogachen</td>\n",
       "      <td></td>\n",
       "      <td></td>\n",
       "      <td></td>\n",
       "      <td></td>\n",
       "      <td></td>\n",
       "      <td></td>\n",
       "      <td></td>\n",
       "      <td></td>\n",
       "    </tr>\n",
       "    <tr>\n",
       "      <th>1</th>\n",
       "      <td>salalah</td>\n",
       "      <td></td>\n",
       "      <td></td>\n",
       "      <td></td>\n",
       "      <td></td>\n",
       "      <td></td>\n",
       "      <td></td>\n",
       "      <td></td>\n",
       "      <td></td>\n",
       "    </tr>\n",
       "    <tr>\n",
       "      <th>2</th>\n",
       "      <td>baykit</td>\n",
       "      <td></td>\n",
       "      <td></td>\n",
       "      <td></td>\n",
       "      <td></td>\n",
       "      <td></td>\n",
       "      <td></td>\n",
       "      <td></td>\n",
       "      <td></td>\n",
       "    </tr>\n",
       "    <tr>\n",
       "      <th>3</th>\n",
       "      <td>hermanus</td>\n",
       "      <td></td>\n",
       "      <td></td>\n",
       "      <td></td>\n",
       "      <td></td>\n",
       "      <td></td>\n",
       "      <td></td>\n",
       "      <td></td>\n",
       "      <td></td>\n",
       "    </tr>\n",
       "    <tr>\n",
       "      <th>4</th>\n",
       "      <td>east london</td>\n",
       "      <td></td>\n",
       "      <td></td>\n",
       "      <td></td>\n",
       "      <td></td>\n",
       "      <td></td>\n",
       "      <td></td>\n",
       "      <td></td>\n",
       "      <td></td>\n",
       "    </tr>\n",
       "  </tbody>\n",
       "</table>\n",
       "</div>"
      ],
      "text/plain": [
       "          City Lat Lng Max Temp Humidity Cloudiness Wind Speed Country Date\n",
       "0  yerbogachen                                                             \n",
       "1      salalah                                                             \n",
       "2       baykit                                                             \n",
       "3     hermanus                                                             \n",
       "4  east london                                                             "
      ]
     },
     "execution_count": 3,
     "metadata": {},
     "output_type": "execute_result"
    }
   ],
   "source": [
    "# Create a DataFrame to store the cities and other information\n",
    "df_countries_weather = pd.DataFrame({'City': cities})\n",
    "\n",
    "# Add the other needed lists \n",
    "df_countries_weather['Lat'] = \"\"\n",
    "df_countries_weather['Lng'] = \"\"\n",
    "df_countries_weather['Max Temp'] = \"\"\n",
    "df_countries_weather['Humidity'] = \"\"\n",
    "df_countries_weather['Cloudiness'] = \"\"\n",
    "df_countries_weather['Wind Speed'] = \"\"\n",
    "df_countries_weather['Country'] = \"\"\n",
    "df_countries_weather['Date'] = \"\"\n",
    "\n",
    "df_countries_weather.head()"
   ]
  },
  {
   "cell_type": "code",
   "execution_count": null,
   "metadata": {
    "scrolled": true
   },
   "outputs": [],
   "source": []
  },
  {
   "cell_type": "markdown",
   "metadata": {},
   "source": [
    "### Perform API Calls\n",
    "* Perform a weather check on each city using a series of successive API calls.\n",
    "* Include a print log of each city as it'sbeing processed (with the city number and city name).\n"
   ]
  },
  {
   "cell_type": "code",
   "execution_count": 4,
   "metadata": {},
   "outputs": [
    {
     "name": "stdout",
     "output_type": "stream",
     "text": [
      "Processing Record 1 of Set # 0 | yerbogachen\n",
      "Processing Record 2 of Set # 0 | salalah\n",
      "Processing Record 3 of Set # 0 | baykit\n",
      "Processing Record 4 of Set # 0 | hermanus\n",
      "Processing Record 5 of Set # 0 | east london\n",
      "Processing Record 6 of Set # 0 | rudnogorsk\n",
      "Processing Record 7 of Set # 0 | rikitea\n",
      "Processing Record 8 of Set # 0 | mataura\n",
      "Processing Record 9 of Set # 0 | port hardy\n",
      "Processing Record 10 of Set # 0 | bluff\n",
      "Processing Record 11 of Set # 0 | brownwood\n",
      "Processing Record 12 of Set # 0 | peniche\n",
      "Processing Record 13 of Set # 0 | cairns\n",
      "Processing Record 14 of Set # 0 | ushuaia\n",
      "Processing Record 15 of Set # 0 | tuktoyaktuk\n",
      "Processing Record 16 of Set # 0 | cape town\n",
      "Processing Record 17 of Set # 0 | ixtapa\n",
      "Processing Record 18 of Set # 0 | agirish\n",
      "Processing Record 19 of Set # 0 | albany\n",
      "Processing Record 20 of Set # 0 | mahebourg\n",
      "Processing Record 21 of Set # 0 | saskylakh\n",
      "Processing Record 22 of Set # 0 | charters towers\n",
      "Processing Record 23 of Set # 0 | severodvinsk\n",
      "Processing Record 24 of Set # 0 | biak\n",
      "Processing Record 25 of Set # 0 | atuona\n",
      "Processing Record 26 of Set # 0 | hilo\n",
      "Processing Record 27 of Set # 0 | bonavista\n",
      "Processing Record 28 of Set # 0 | husavik\n",
      "Processing Record 29 of Set # 0 | komsomolskiy\n",
      "Missing weather information for sinkat ... skipping\n",
      "Processing Record 31 of Set # 0 | saldanha\n",
      "Processing Record 32 of Set # 0 | tuatapere\n",
      "Processing Record 33 of Set # 0 | bethel\n",
      "Processing Record 34 of Set # 0 | carnarvon\n",
      "Processing Record 35 of Set # 0 | kudat\n",
      "Processing Record 36 of Set # 0 | dikson\n",
      "Processing Record 37 of Set # 0 | touros\n",
      "Processing Record 38 of Set # 0 | tiksi\n",
      "Processing Record 39 of Set # 0 | chuy\n",
      "Processing Record 40 of Set # 0 | sept-iles\n",
      "Processing Record 41 of Set # 0 | port blair\n",
      "Processing Record 42 of Set # 0 | vila velha\n",
      "Processing Record 43 of Set # 0 | neryungri\n",
      "Processing Record 44 of Set # 0 | lompoc\n",
      "Processing Record 45 of Set # 0 | barrow\n",
      "Processing Record 46 of Set # 0 | erenhot\n",
      "Processing Record 47 of Set # 0 | hithadhoo\n",
      "Processing Record 48 of Set # 0 | dunedin\n",
      "Processing Record 49 of Set # 0 | tasiilaq\n",
      "Processing Record 50 of Set # 0 | thompson\n",
      "Processing Record 1 of Set # 1 | tagudin\n",
      "Processing Record 2 of Set # 1 | flin flon\n",
      "Processing Record 3 of Set # 1 | sitka\n",
      "Processing Record 4 of Set # 1 | puerto ayora\n",
      "Processing Record 5 of Set # 1 | provideniya\n",
      "Processing Record 6 of Set # 1 | yenangyaung\n",
      "Processing Record 7 of Set # 1 | yellowknife\n",
      "Processing Record 8 of Set # 1 | les cayes\n",
      "Processing Record 9 of Set # 1 | byron bay\n",
      "Processing Record 10 of Set # 1 | camacupa\n",
      "Processing Record 11 of Set # 1 | punta arenas\n",
      "Processing Record 12 of Set # 1 | tazovskiy\n",
      "Processing Record 13 of Set # 1 | kasongo-lunda\n",
      "Processing Record 14 of Set # 1 | new norfolk\n",
      "Processing Record 15 of Set # 1 | new glasgow\n",
      "Processing Record 16 of Set # 1 | urumqi\n",
      "Processing Record 17 of Set # 1 | mazamari\n",
      "Processing Record 18 of Set # 1 | adrar\n",
      "Processing Record 19 of Set # 1 | padang\n",
      "Processing Record 20 of Set # 1 | sumbal\n",
      "Processing Record 21 of Set # 1 | ribeira grande\n",
      "Missing weather information for warqla ... skipping\n",
      "Processing Record 23 of Set # 1 | virden\n",
      "Processing Record 24 of Set # 1 | stornoway\n",
      "Processing Record 25 of Set # 1 | imbituba\n",
      "Processing Record 26 of Set # 1 | pangkalanbuun\n",
      "Processing Record 27 of Set # 1 | poum\n",
      "Processing Record 28 of Set # 1 | aklavik\n",
      "Processing Record 29 of Set # 1 | faanui\n",
      "Processing Record 30 of Set # 1 | russell\n",
      "Missing weather information for samusu ... skipping\n",
      "Processing Record 32 of Set # 1 | cabo san lucas\n",
      "Processing Record 33 of Set # 1 | frome\n",
      "Processing Record 34 of Set # 1 | nanortalik\n",
      "Processing Record 35 of Set # 1 | sao jose de ribamar\n",
      "Processing Record 36 of Set # 1 | santa isabel do rio negro\n",
      "Processing Record 37 of Set # 1 | mineiros\n",
      "Processing Record 38 of Set # 1 | maxixe\n",
      "Processing Record 39 of Set # 1 | kodiak\n",
      "Processing Record 40 of Set # 1 | henties bay\n",
      "Processing Record 41 of Set # 1 | prince rupert\n",
      "Processing Record 42 of Set # 1 | bredasdorp\n",
      "Processing Record 43 of Set # 1 | saint-philippe\n",
      "Processing Record 44 of Set # 1 | malabon\n",
      "Processing Record 45 of Set # 1 | atikokan\n",
      "Processing Record 46 of Set # 1 | saint simons\n",
      "Processing Record 47 of Set # 1 | busselton\n",
      "Processing Record 48 of Set # 1 | vostok\n",
      "Processing Record 49 of Set # 1 | teknaf\n",
      "Processing Record 50 of Set # 1 | puerto quijarro\n",
      "Processing Record 1 of Set # 2 | narsaq\n",
      "Processing Record 2 of Set # 2 | itaituba\n",
      "Processing Record 3 of Set # 2 | castro\n",
      "Processing Record 4 of Set # 2 | karratha\n",
      "Processing Record 5 of Set # 2 | dalbandin\n",
      "Processing Record 6 of Set # 2 | avarua\n",
      "Processing Record 7 of Set # 2 | jalu\n",
      "Processing Record 8 of Set # 2 | verkhnyaya inta\n",
      "Processing Record 9 of Set # 2 | santa marta\n",
      "Processing Record 10 of Set # 2 | upernavik\n",
      "Processing Record 11 of Set # 2 | gilbues\n",
      "Processing Record 12 of Set # 2 | dossor\n",
      "Missing weather information for illoqqortoormiut ... skipping\n",
      "Processing Record 14 of Set # 2 | linxia\n",
      "Processing Record 15 of Set # 2 | kapaa\n",
      "Processing Record 16 of Set # 2 | bambous virieux\n",
      "Processing Record 17 of Set # 2 | port alfred\n",
      "Processing Record 18 of Set # 2 | jamestown\n",
      "Processing Record 19 of Set # 2 | bowen\n",
      "Processing Record 20 of Set # 2 | klaksvik\n",
      "Processing Record 21 of Set # 2 | port elizabeth\n",
      "Processing Record 22 of Set # 2 | esfarayen\n",
      "Missing weather information for lolua ... skipping\n",
      "Processing Record 24 of Set # 2 | nikolayevka\n",
      "Processing Record 25 of Set # 2 | ashland\n",
      "Processing Record 26 of Set # 2 | mantua\n",
      "Missing weather information for taolanaro ... skipping\n",
      "Processing Record 28 of Set # 2 | hobart\n",
      "Processing Record 29 of Set # 2 | vaini\n",
      "Processing Record 30 of Set # 2 | louis trichardt\n",
      "Processing Record 31 of Set # 2 | nouadhibou\n",
      "Processing Record 32 of Set # 2 | iringa\n",
      "Processing Record 33 of Set # 2 | altamont\n",
      "Processing Record 34 of Set # 2 | manggar\n",
      "Missing weather information for tsihombe ... skipping\n",
      "Processing Record 36 of Set # 2 | englewood\n",
      "Processing Record 37 of Set # 2 | sao filipe\n",
      "Processing Record 38 of Set # 2 | maniwaki\n",
      "Processing Record 39 of Set # 2 | redwater\n",
      "Processing Record 40 of Set # 2 | mount gambier\n",
      "Processing Record 41 of Set # 2 | kushmurun\n",
      "Processing Record 42 of Set # 2 | niort\n",
      "Processing Record 43 of Set # 2 | dillon\n",
      "Missing weather information for attawapiskat ... skipping\n",
      "Processing Record 45 of Set # 2 | kavieng\n",
      "Processing Record 46 of Set # 2 | cayenne\n",
      "Processing Record 47 of Set # 2 | coquimbo\n",
      "Processing Record 48 of Set # 2 | sangar\n",
      "Missing weather information for mys shmidta ... skipping\n",
      "Processing Record 50 of Set # 2 | san cristobal\n",
      "Processing Record 1 of Set # 3 | cuicatlan\n",
      "Processing Record 2 of Set # 3 | butaritari\n",
      "Missing weather information for tungkang ... skipping\n",
      "Processing Record 4 of Set # 3 | tual\n",
      "Missing weather information for amderma ... skipping\n",
      "Processing Record 6 of Set # 3 | chokurdakh\n",
      "Processing Record 7 of Set # 3 | singaraja\n",
      "Processing Record 8 of Set # 3 | bakchar\n",
      "Processing Record 9 of Set # 3 | limon\n",
      "Processing Record 10 of Set # 3 | vyazemskiy\n",
      "Processing Record 11 of Set # 3 | roma\n",
      "Processing Record 12 of Set # 3 | beruwala\n",
      "Processing Record 13 of Set # 3 | sampit\n",
      "Processing Record 14 of Set # 3 | rogers\n",
      "Processing Record 15 of Set # 3 | maumere\n",
      "Processing Record 16 of Set # 3 | severo-kurilsk\n",
      "Processing Record 17 of Set # 3 | grindavik\n",
      "Processing Record 18 of Set # 3 | zhigansk\n",
      "Processing Record 19 of Set # 3 | tevaitoa\n",
      "Processing Record 20 of Set # 3 | mar del plata\n",
      "Processing Record 21 of Set # 3 | qaanaaq\n",
      "Processing Record 22 of Set # 3 | lingao\n",
      "Processing Record 23 of Set # 3 | nhulunbuy\n",
      "Processing Record 24 of Set # 3 | sembe\n",
      "Processing Record 25 of Set # 3 | zyryanka\n",
      "Processing Record 26 of Set # 3 | fortuna\n",
      "Processing Record 27 of Set # 3 | georgetown\n",
      "Processing Record 28 of Set # 3 | port macquarie\n",
      "Processing Record 29 of Set # 3 | anyang\n",
      "Missing weather information for marcona ... skipping\n",
      "Processing Record 31 of Set # 3 | tezu\n",
      "Processing Record 32 of Set # 3 | christchurch\n",
      "Processing Record 33 of Set # 3 | bengkulu\n",
      "Processing Record 34 of Set # 3 | ossora\n",
      "Processing Record 35 of Set # 3 | kjollefjord\n",
      "Processing Record 36 of Set # 3 | fairbanks\n",
      "Processing Record 37 of Set # 3 | kaitangata\n"
     ]
    },
    {
     "name": "stdout",
     "output_type": "stream",
     "text": [
      "Processing Record 38 of Set # 3 | caravelas\n",
      "Processing Record 39 of Set # 3 | nikolskoye\n",
      "Processing Record 40 of Set # 3 | bulungu\n",
      "Processing Record 41 of Set # 3 | ilulissat\n",
      "Processing Record 42 of Set # 3 | ushumun\n",
      "Processing Record 43 of Set # 3 | pallasovka\n",
      "Processing Record 44 of Set # 3 | kristianstad\n",
      "Processing Record 45 of Set # 3 | vardo\n",
      "Processing Record 46 of Set # 3 | rovaniemi\n",
      "Processing Record 47 of Set # 3 | sorland\n",
      "Processing Record 48 of Set # 3 | yibin\n",
      "Processing Record 49 of Set # 3 | malkara\n",
      "Processing Record 50 of Set # 3 | north battleford\n",
      "Missing weather information for nizhneyansk ... skipping\n",
      "Processing Record 2 of Set # 4 | constitucion\n",
      "Processing Record 3 of Set # 4 | san quintin\n",
      "Processing Record 4 of Set # 4 | ponta do sol\n",
      "Processing Record 5 of Set # 4 | loviisa\n",
      "Processing Record 6 of Set # 4 | nantucket\n",
      "Processing Record 7 of Set # 4 | palauig\n",
      "Missing weather information for halalo ... skipping\n",
      "Processing Record 9 of Set # 4 | saint-joseph\n",
      "Processing Record 10 of Set # 4 | praia da vitoria\n",
      "Processing Record 11 of Set # 4 | riyadh\n",
      "Processing Record 12 of Set # 4 | cockburn town\n",
      "Processing Record 13 of Set # 4 | sao francisco\n",
      "Processing Record 14 of Set # 4 | broome\n",
      "Processing Record 15 of Set # 4 | manosque\n",
      "Processing Record 16 of Set # 4 | ishigaki\n",
      "Processing Record 17 of Set # 4 | kamenka\n",
      "Processing Record 18 of Set # 4 | kautokeino\n",
      "Processing Record 19 of Set # 4 | cherskiy\n",
      "Missing weather information for saleaula ... skipping\n",
      "Missing weather information for skovde ... skipping\n",
      "Processing Record 22 of Set # 4 | ahipara\n",
      "Processing Record 23 of Set # 4 | arraial do cabo\n",
      "Processing Record 24 of Set # 4 | gairo\n",
      "Processing Record 25 of Set # 4 | homer\n",
      "Processing Record 26 of Set # 4 | talnakh\n",
      "Processing Record 27 of Set # 4 | grimma\n",
      "Processing Record 28 of Set # 4 | cortez\n",
      "Processing Record 29 of Set # 4 | emba\n",
      "Processing Record 30 of Set # 4 | kimbe\n",
      "Processing Record 31 of Set # 4 | ancud\n",
      "Processing Record 32 of Set # 4 | dingle\n",
      "Processing Record 33 of Set # 4 | andros town\n",
      "Processing Record 34 of Set # 4 | ballina\n",
      "Processing Record 35 of Set # 4 | luderitz\n",
      "Processing Record 36 of Set # 4 | lagoa\n",
      "Processing Record 37 of Set # 4 | novhorodka\n",
      "Processing Record 38 of Set # 4 | grand-santi\n",
      "Processing Record 39 of Set # 4 | walvis bay\n",
      "Processing Record 40 of Set # 4 | sucua\n",
      "Processing Record 41 of Set # 4 | tara\n",
      "Processing Record 42 of Set # 4 | tanout\n",
      "Missing weather information for grand river south east ... skipping\n",
      "Processing Record 44 of Set # 4 | comodoro rivadavia\n",
      "Processing Record 45 of Set # 4 | atar\n",
      "Processing Record 46 of Set # 4 | baleshwar\n",
      "Processing Record 47 of Set # 4 | nishihara\n",
      "Processing Record 48 of Set # 4 | dongsheng\n",
      "Processing Record 49 of Set # 4 | ambulu\n",
      "Processing Record 50 of Set # 4 | takoradi\n",
      "Processing Record 1 of Set # 5 | bathsheba\n",
      "Processing Record 2 of Set # 5 | khandbari\n",
      "Processing Record 3 of Set # 5 | constantine\n",
      "Processing Record 4 of Set # 5 | champerico\n",
      "Processing Record 5 of Set # 5 | nabire\n",
      "Missing weather information for paradwip ... skipping\n",
      "Processing Record 7 of Set # 5 | lata\n",
      "Processing Record 8 of Set # 5 | mitsamiouli\n",
      "Processing Record 9 of Set # 5 | presidencia roque saenz pena\n",
      "Processing Record 10 of Set # 5 | sharjah\n",
      "Processing Record 11 of Set # 5 | namatanai\n",
      "Processing Record 12 of Set # 5 | longyearbyen\n",
      "Processing Record 13 of Set # 5 | kahului\n",
      "Missing weather information for khonuu ... skipping\n",
      "Missing weather information for sentyabrskiy ... skipping\n",
      "Processing Record 16 of Set # 5 | coihaique\n",
      "Processing Record 17 of Set # 5 | gat\n",
      "Processing Record 18 of Set # 5 | ust-maya\n",
      "Processing Record 19 of Set # 5 | mocuba\n",
      "Processing Record 20 of Set # 5 | mogadishu\n",
      "Processing Record 21 of Set # 5 | doha\n",
      "Processing Record 22 of Set # 5 | zhanaozen\n",
      "Processing Record 23 of Set # 5 | palafrugell\n",
      "Processing Record 24 of Set # 5 | parauna\n",
      "Processing Record 25 of Set # 5 | ca mau\n",
      "Processing Record 26 of Set # 5 | amos\n",
      "Processing Record 27 of Set # 5 | acapulco\n",
      "Processing Record 28 of Set # 5 | yeppoon\n",
      "Processing Record 29 of Set # 5 | purwodadi\n",
      "Processing Record 30 of Set # 5 | kisangani\n",
      "Processing Record 31 of Set # 5 | maturin\n",
      "Processing Record 32 of Set # 5 | saint-pierre\n",
      "Processing Record 33 of Set # 5 | ulaangom\n",
      "Processing Record 34 of Set # 5 | bereda\n",
      "Processing Record 35 of Set # 5 | victoria\n",
      "Processing Record 36 of Set # 5 | aasiaat\n",
      "Processing Record 37 of Set # 5 | hlobyne\n",
      "Processing Record 38 of Set # 5 | el doncello\n",
      "Processing Record 39 of Set # 5 | abalak\n",
      "Processing Record 40 of Set # 5 | iqaluit\n",
      "Processing Record 41 of Set # 5 | aljezur\n",
      "Processing Record 42 of Set # 5 | cabano\n",
      "Processing Record 43 of Set # 5 | kloulklubed\n",
      "Processing Record 44 of Set # 5 | spornoye\n",
      "Processing Record 45 of Set # 5 | mabaruma\n",
      "Processing Record 46 of Set # 5 | sakakah\n",
      "Processing Record 47 of Set # 5 | santiago del estero\n",
      "Processing Record 48 of Set # 5 | artyom\n",
      "Processing Record 49 of Set # 5 | rumoi\n",
      "Processing Record 50 of Set # 5 | dekar\n",
      "Missing weather information for barentsburg ... skipping\n",
      "Processing Record 2 of Set # 6 | tura\n",
      "Processing Record 3 of Set # 6 | powell\n",
      "Processing Record 4 of Set # 6 | veraval\n",
      "Processing Record 5 of Set # 6 | kirensk\n",
      "Processing Record 6 of Set # 6 | elko\n",
      "Processing Record 7 of Set # 6 | bayanday\n",
      "Processing Record 8 of Set # 6 | laguna\n",
      "Processing Record 9 of Set # 6 | maceio\n",
      "Processing Record 10 of Set # 6 | pevek\n",
      "Processing Record 11 of Set # 6 | nizhnyaya tavda\n",
      "Processing Record 12 of Set # 6 | qaqortoq\n",
      "Processing Record 13 of Set # 6 | agogo\n",
      "Processing Record 14 of Set # 6 | pemangkat\n",
      "Processing Record 15 of Set # 6 | kushima\n",
      "Processing Record 16 of Set # 6 | bara\n",
      "Processing Record 17 of Set # 6 | lancaster\n",
      "Processing Record 18 of Set # 6 | grandola\n",
      "Processing Record 19 of Set # 6 | batemans bay\n",
      "Processing Record 20 of Set # 6 | vanimo\n",
      "Processing Record 21 of Set # 6 | casablanca\n",
      "Missing weather information for grand centre ... skipping\n",
      "Processing Record 23 of Set # 6 | ureki\n",
      "Processing Record 24 of Set # 6 | pacific grove\n",
      "Processing Record 25 of Set # 6 | port hedland\n",
      "Processing Record 26 of Set # 6 | makhinjauri\n",
      "Missing weather information for vaitupu ... skipping\n",
      "Processing Record 28 of Set # 6 | san nicolas\n",
      "Processing Record 29 of Set # 6 | gualaquiza\n",
      "Processing Record 30 of Set # 6 | mehamn\n",
      "Processing Record 31 of Set # 6 | mbekenyera\n",
      "Processing Record 32 of Set # 6 | akdepe\n",
      "Processing Record 33 of Set # 6 | masoko\n",
      "Processing Record 34 of Set # 6 | bilibino\n",
      "Processing Record 35 of Set # 6 | gander\n",
      "Processing Record 36 of Set # 6 | nome\n",
      "Processing Record 37 of Set # 6 | minas\n",
      "Processing Record 38 of Set # 6 | mabama\n",
      "Processing Record 39 of Set # 6 | kurchum\n",
      "Processing Record 40 of Set # 6 | verkhnevilyuysk\n",
      "Processing Record 41 of Set # 6 | hualmay\n",
      "Processing Record 42 of Set # 6 | soyo\n",
      "Processing Record 43 of Set # 6 | manicore\n",
      "Processing Record 44 of Set # 6 | juneau\n",
      "Processing Record 45 of Set # 6 | diourbel\n",
      "Processing Record 46 of Set # 6 | hasaki\n",
      "Processing Record 47 of Set # 6 | tutoia\n",
      "Processing Record 48 of Set # 6 | pervomayskiy\n",
      "Processing Record 49 of Set # 6 | xichang\n",
      "Processing Record 50 of Set # 6 | clyde river\n",
      "Processing Record 1 of Set # 7 | nago\n",
      "Processing Record 2 of Set # 7 | vao\n",
      "Processing Record 3 of Set # 7 | portland\n",
      "Processing Record 4 of Set # 7 | lebu\n",
      "Processing Record 5 of Set # 7 | serebryansk\n",
      "Processing Record 6 of Set # 7 | darhan\n",
      "Processing Record 7 of Set # 7 | te anau\n",
      "Processing Record 8 of Set # 7 | awbari\n",
      "Processing Record 9 of Set # 7 | port said\n",
      "Processing Record 10 of Set # 7 | chuzhou\n",
      "Processing Record 11 of Set # 7 | honningsvag\n",
      "Processing Record 12 of Set # 7 | auki\n",
      "Processing Record 13 of Set # 7 | najran\n",
      "Processing Record 14 of Set # 7 | ostrovnoy\n",
      "Processing Record 15 of Set # 7 | chik\n",
      "Processing Record 16 of Set # 7 | montevideo\n",
      "Processing Record 17 of Set # 7 | payo\n",
      "Processing Record 18 of Set # 7 | saint george\n",
      "Processing Record 19 of Set # 7 | buchanan\n",
      "Missing weather information for meyungs ... skipping\n",
      "Processing Record 21 of Set # 7 | leningradskiy\n",
      "Processing Record 22 of Set # 7 | beringovskiy\n",
      "Processing Record 23 of Set # 7 | srednekolymsk\n",
      "Processing Record 24 of Set # 7 | houma\n",
      "Processing Record 25 of Set # 7 | banda aceh\n"
     ]
    },
    {
     "name": "stdout",
     "output_type": "stream",
     "text": [
      "Processing Record 26 of Set # 7 | canutama\n",
      "Processing Record 27 of Set # 7 | khatanga\n",
      "Processing Record 28 of Set # 7 | hoopstad\n",
      "Processing Record 29 of Set # 7 | ishinomaki\n",
      "Processing Record 30 of Set # 7 | palmer\n",
      "Processing Record 31 of Set # 7 | tabuk\n",
      "Processing Record 32 of Set # 7 | crystal beach\n",
      "Processing Record 33 of Set # 7 | mamallapuram\n",
      "Processing Record 34 of Set # 7 | ceres\n",
      "Processing Record 35 of Set # 7 | aksakovo\n",
      "Processing Record 36 of Set # 7 | havre-saint-pierre\n",
      "Processing Record 37 of Set # 7 | angoche\n",
      "Processing Record 38 of Set # 7 | mackenzie\n",
      "Processing Record 39 of Set # 7 | yamada\n",
      "Processing Record 40 of Set # 7 | yulara\n",
      "Processing Record 41 of Set # 7 | necochea\n",
      "Processing Record 42 of Set # 7 | tiarei\n",
      "Processing Record 43 of Set # 7 | takab\n",
      "Processing Record 44 of Set # 7 | gazanjyk\n",
      "Processing Record 45 of Set # 7 | souillac\n",
      "Processing Record 46 of Set # 7 | deputatskiy\n",
      "Missing weather information for tumannyy ... skipping\n",
      "Processing Record 48 of Set # 7 | sigli\n",
      "Processing Record 49 of Set # 7 | ukiah\n",
      "Processing Record 50 of Set # 7 | aktau\n",
      "Processing Record 1 of Set # 8 | nemuro\n",
      "Processing Record 2 of Set # 8 | golubitskaya\n",
      "Processing Record 3 of Set # 8 | springfield\n",
      "Missing weather information for bur gabo ... skipping\n",
      "Missing weather information for afgoye ... skipping\n",
      "Processing Record 6 of Set # 8 | rincon de la victoria\n",
      "Processing Record 7 of Set # 8 | garissa\n",
      "Processing Record 8 of Set # 8 | cascais\n",
      "Processing Record 9 of Set # 8 | uruzgan\n",
      "Processing Record 10 of Set # 8 | okhotsk\n",
      "Processing Record 11 of Set # 8 | aksu\n",
      "Missing weather information for dolbeau ... skipping\n",
      "Processing Record 13 of Set # 8 | ciudad bolivar\n",
      "Processing Record 14 of Set # 8 | tupik\n",
      "Processing Record 15 of Set # 8 | college\n",
      "Processing Record 16 of Set # 8 | avera\n",
      "Processing Record 17 of Set # 8 | yar-sale\n",
      "Processing Record 18 of Set # 8 | peleduy\n",
      "Processing Record 19 of Set # 8 | tias\n",
      "Processing Record 20 of Set # 8 | raga\n",
      "Processing Record 21 of Set # 8 | guerrero negro\n",
      "Processing Record 22 of Set # 8 | yurga\n",
      "Processing Record 23 of Set # 8 | chimore\n",
      "Processing Record 24 of Set # 8 | esperance\n",
      "Processing Record 25 of Set # 8 | sao joao da barra\n",
      "Processing Record 26 of Set # 8 | puerto rondon\n",
      "Processing Record 27 of Set # 8 | luba\n",
      "Processing Record 28 of Set # 8 | chapais\n",
      "Processing Record 29 of Set # 8 | aloleng\n",
      "Processing Record 30 of Set # 8 | norman wells\n",
      "Processing Record 31 of Set # 8 | great yarmouth\n",
      "Processing Record 32 of Set # 8 | nalut\n",
      "Processing Record 33 of Set # 8 | labuhan\n",
      "Processing Record 34 of Set # 8 | lavrentiya\n",
      "Processing Record 35 of Set # 8 | zaprudnya\n",
      "Processing Record 36 of Set # 8 | aswan\n",
      "Missing weather information for ust-kamchatsk ... skipping\n",
      "Processing Record 38 of Set # 8 | hervey bay\n",
      "Processing Record 39 of Set # 8 | isangel\n",
      "Processing Record 40 of Set # 8 | saint-georges\n",
      "Processing Record 41 of Set # 8 | north bend\n",
      "Processing Record 42 of Set # 8 | itarema\n",
      "Processing Record 43 of Set # 8 | qasigiannguit\n",
      "Processing Record 44 of Set # 8 | nikolayevsk-na-amure\n",
      "Processing Record 45 of Set # 8 | guantanamo\n",
      "Processing Record 46 of Set # 8 | moranbah\n",
      "Missing weather information for haibowan ... skipping\n",
      "Processing Record 48 of Set # 8 | belyy yar\n",
      "Processing Record 49 of Set # 8 | boda\n",
      "Processing Record 50 of Set # 8 | quatre cocos\n",
      "Processing Record 1 of Set # 9 | acarau\n",
      "Processing Record 2 of Set # 9 | buraydah\n",
      "Processing Record 3 of Set # 9 | shalya\n",
      "Processing Record 4 of Set # 9 | puerto del rosario\n",
      "Processing Record 5 of Set # 9 | susanville\n",
      "Processing Record 6 of Set # 9 | samana\n",
      "Missing weather information for belushya guba ... skipping\n",
      "Processing Record 8 of Set # 9 | anuradhapura\n",
      "Processing Record 9 of Set # 9 | buala\n",
      "Processing Record 10 of Set # 9 | naron\n",
      "Processing Record 11 of Set # 9 | cozumel\n",
      "Processing Record 12 of Set # 9 | coolum beach\n",
      "Processing Record 13 of Set # 9 | mao\n",
      "Processing Record 14 of Set # 9 | zhezkazgan\n",
      "Processing Record 15 of Set # 9 | agadez\n",
      "Processing Record 16 of Set # 9 | dubti\n",
      "Processing Record 17 of Set # 9 | temir\n",
      "Processing Record 18 of Set # 9 | kaihua\n",
      "Processing Record 19 of Set # 9 | molchanovo\n",
      "Processing Record 20 of Set # 9 | booue\n",
      "Processing Record 21 of Set # 9 | katsuura\n",
      "Processing Record 22 of Set # 9 | san patricio\n",
      "Processing Record 23 of Set # 9 | windhoek\n",
      "Processing Record 24 of Set # 9 | gombe\n",
      "Processing Record 25 of Set # 9 | mainit\n",
      "Processing Record 26 of Set # 9 | mahina\n",
      "Processing Record 27 of Set # 9 | moosburg\n",
      "Processing Record 28 of Set # 9 | chongoyape\n",
      "Processing Record 29 of Set # 9 | vestmannaeyjar\n",
      "Processing Record 30 of Set # 9 | skala\n",
      "Processing Record 31 of Set # 9 | iwaki\n",
      "Processing Record 32 of Set # 9 | maryborough\n",
      "Processing Record 33 of Set # 9 | kaeo\n",
      "Processing Record 34 of Set # 9 | denpasar\n",
      "Processing Record 35 of Set # 9 | havelock\n",
      "Processing Record 36 of Set # 9 | kavaratti\n",
      "Processing Record 37 of Set # 9 | kruisfontein\n",
      "Processing Record 38 of Set # 9 | kalmunai\n",
      "Processing Record 39 of Set # 9 | faya\n",
      "Processing Record 40 of Set # 9 | plettenberg bay\n",
      "Processing Record 41 of Set # 9 | mugur-aksy\n",
      "Processing Record 42 of Set # 9 | itajai\n",
      "Processing Record 43 of Set # 9 | santa cruz\n",
      "Processing Record 44 of Set # 9 | torbay\n",
      "Processing Record 45 of Set # 9 | cazones\n",
      "Processing Record 46 of Set # 9 | rawson\n",
      "Processing Record 47 of Set # 9 | dukat\n",
      "Processing Record 48 of Set # 9 | uni\n",
      "Missing weather information for linchuan ... skipping\n",
      "Processing Record 50 of Set # 9 | muyuka\n",
      "Processing Record 1 of Set # 10 | tikhvin\n",
      "Processing Record 2 of Set # 10 | diapaga\n",
      "Processing Record 3 of Set # 10 | myingyan\n",
      "Processing Record 4 of Set # 10 | uvinza\n",
      "Processing Record 5 of Set # 10 | worland\n",
      "Processing Record 6 of Set # 10 | rosarito\n",
      "Processing Record 7 of Set # 10 | looc\n",
      "Processing Record 8 of Set # 10 | koudougou\n",
      "Processing Record 9 of Set # 10 | luanda\n",
      "Processing Record 10 of Set # 10 | krasnoarmeysk\n",
      "Processing Record 11 of Set # 10 | srivardhan\n",
      "Processing Record 12 of Set # 10 | wiener neustadt\n",
      "Processing Record 13 of Set # 10 | saquarema\n",
      "Processing Record 14 of Set # 10 | baoding\n",
      "Processing Record 15 of Set # 10 | sabha\n",
      "Processing Record 16 of Set # 10 | mushie\n",
      "Processing Record 17 of Set # 10 | zvishavane\n",
      "Missing weather information for tabiauea ... skipping\n",
      "Missing weather information for umzimvubu ... skipping\n",
      "Processing Record 20 of Set # 10 | kapit\n",
      "Processing Record 21 of Set # 10 | neuquen\n",
      "Processing Record 22 of Set # 10 | taganak\n",
      "Processing Record 23 of Set # 10 | jinxiang\n",
      "Processing Record 24 of Set # 10 | khartoum\n",
      "Processing Record 25 of Set # 10 | bubaque\n",
      "Processing Record 26 of Set # 10 | khvorostyanka\n",
      "Missing weather information for aasmae ... skipping\n",
      "Processing Record 28 of Set # 10 | koumac\n",
      "Processing Record 29 of Set # 10 | geraldton\n",
      "Processing Record 30 of Set # 10 | yangjiang\n",
      "Processing Record 31 of Set # 10 | umm lajj\n",
      "Processing Record 32 of Set # 10 | gamba\n",
      "Processing Record 33 of Set # 10 | dubbo\n",
      "Missing weather information for sumbawa ... skipping\n",
      "Processing Record 35 of Set # 10 | cidreira\n",
      "Processing Record 36 of Set # 10 | port-cartier\n",
      "Processing Record 37 of Set # 10 | vila franca do campo\n",
      "Processing Record 38 of Set # 10 | zalantun\n",
      "Missing weather information for wahran ... skipping\n",
      "Processing Record 40 of Set # 10 | lukaya\n",
      "Processing Record 41 of Set # 10 | borba\n",
      "Processing Record 42 of Set # 10 | olga\n",
      "Processing Record 43 of Set # 10 | belozerskoye\n",
      "Processing Record 44 of Set # 10 | gigmoto\n",
      "Processing Record 45 of Set # 10 | erechim\n",
      "Missing weather information for tabulbah ... skipping\n",
      "Processing Record 47 of Set # 10 | viedma\n",
      "Processing Record 48 of Set # 10 | ashington\n",
      "Processing Record 49 of Set # 10 | chara\n",
      "Processing Record 50 of Set # 10 | pisco\n",
      "Processing Record 1 of Set # 11 | nordby\n",
      "Processing Record 2 of Set # 11 | bandarban\n",
      "Processing Record 3 of Set # 11 | cap malheureux\n",
      "Processing Record 4 of Set # 11 | sumbe\n",
      "Processing Record 5 of Set # 11 | broken hill\n",
      "Processing Record 6 of Set # 11 | carmen\n",
      "Processing Record 7 of Set # 11 | lisala\n",
      "Processing Record 8 of Set # 11 | mangaldai\n",
      "Processing Record 9 of Set # 11 | otane\n",
      "Processing Record 10 of Set # 11 | khash\n",
      "Processing Record 11 of Set # 11 | cookeville\n"
     ]
    },
    {
     "name": "stdout",
     "output_type": "stream",
     "text": [
      "Processing Record 12 of Set # 11 | vyazma\n",
      "Processing Record 13 of Set # 11 | lakes entrance\n",
      "Processing Record 14 of Set # 11 | saint-augustin\n",
      "Processing Record 15 of Set # 11 | airai\n",
      "Processing Record 16 of Set # 11 | port pirie\n",
      "Processing Record 17 of Set # 11 | scottsbluff\n",
      "Processing Record 18 of Set # 11 | oneonta\n",
      "Processing Record 19 of Set # 11 | jishou\n",
      "Processing Record 20 of Set # 11 | birao\n",
      "Processing Record 21 of Set # 11 | bojnurd\n",
      "Processing Record 22 of Set # 11 | japura\n",
      "Processing Record 23 of Set # 11 | nordhorn\n",
      "Processing Record 24 of Set # 11 | kysyl-syr\n",
      "Processing Record 25 of Set # 11 | rocha\n",
      "Processing Record 26 of Set # 11 | uige\n",
      "Processing Record 27 of Set # 11 | pimentel\n",
      "Processing Record 28 of Set # 11 | steinbach\n",
      "Processing Record 29 of Set # 11 | skovorodino\n",
      "Processing Record 30 of Set # 11 | santa maria\n",
      "Missing weather information for tawkar ... skipping\n",
      "Processing Record 32 of Set # 11 | sinnamary\n",
      "Processing Record 33 of Set # 11 | sturgis\n",
      "Processing Record 34 of Set # 11 | arthur\n",
      "Processing Record 35 of Set # 11 | mananara\n",
      "Missing weather information for skalistyy ... skipping\n",
      "Processing Record 37 of Set # 11 | honiara\n",
      "Processing Record 38 of Set # 11 | bandarbeyla\n",
      "Processing Record 39 of Set # 11 | suntar\n",
      "Processing Record 40 of Set # 11 | lamar\n",
      "Processing Record 41 of Set # 11 | masty\n",
      "Missing weather information for chagda ... skipping\n",
      "Processing Record 43 of Set # 11 | kangaatsiaq\n",
      "Processing Record 44 of Set # 11 | tingi\n",
      "Processing Record 45 of Set # 11 | ourossogui\n",
      "Processing Record 46 of Set # 11 | saint-leu\n",
      "Processing Record 47 of Set # 11 | yatou\n",
      "Processing Record 48 of Set # 11 | muros\n",
      "Processing Record 49 of Set # 11 | quepos\n",
      "Processing Record 50 of Set # 11 | iranshahr\n",
      "Processing Record 1 of Set # 12 | asau\n",
      "Processing Record 2 of Set # 12 | ilo\n",
      "Processing Record 3 of Set # 12 | maine-soroa\n",
      "Processing Record 4 of Set # 12 | luau\n",
      "Processing Record 5 of Set # 12 | marawi\n",
      "Processing Record 6 of Set # 12 | upata\n",
      "Processing Record 7 of Set # 12 | margate\n",
      "Processing Record 8 of Set # 12 | palimbang\n",
      "Processing Record 9 of Set # 12 | salta\n",
      "Processing Record 10 of Set # 12 | payson\n",
      "Processing Record 11 of Set # 12 | nara\n",
      "Processing Record 12 of Set # 12 | panaba\n",
      "Processing of weather data successfully completed for 571 cities\n"
     ]
    }
   ],
   "source": [
    "# Starting URL for Weather Map API Call.\n",
    "url = \"http://api.openweathermap.org/data/2.5/weather?\" \n",
    "units = \"imperial\"\n",
    "\n",
    "# keeps count of those cities whose weather information is successfully retrieved\n",
    "cities_cnt = 0\n",
    "\n",
    "# Keep count of the API calls.\n",
    "calls_to_api = 1 \n",
    "\n",
    "# counter to count the number of call sets of 50\n",
    "sets_of_50 = 0 \n",
    "\n",
    "#loop through all rows and fill in values for blank columns in dataframe\n",
    "\n",
    "for index, row in df_countries_weather.iterrows():\n",
    "    city_name = row['City']\n",
    "    \n",
    "    # The targeted API call for all the Cities in the list. \n",
    "    \n",
    "    query_url = url + \"appid=\" + weather_api_key + \"&q=\" + city_name + \"&units=\" + units\n",
    "    \n",
    "    city_wthr = requests.get(query_url).json()\n",
    "        \n",
    "    try:\n",
    "        df_countries_weather.loc[index,'Lat'] = city_wthr['coord']['lat']\n",
    "        df_countries_weather.loc[index,'Lng'] = city_wthr['coord']['lon']\n",
    "        df_countries_weather.loc[index,'Max Temp'] = city_wthr['main']['temp_max']\n",
    "        df_countries_weather.loc[index,'Humidity'] = city_wthr['main']['humidity']\n",
    "        df_countries_weather.loc[index,'Cloudiness'] = city_wthr['clouds']['all']\n",
    "        df_countries_weather.loc[index,'Wind Speed'] = city_wthr['wind']['speed']\n",
    "        df_countries_weather.loc[index,'Country'] = city_wthr['sys']['country']\n",
    "        df_countries_weather.loc[index, 'Date'] = city_wthr['dt']\n",
    "        \n",
    "        # Print the log for each city successfully processed.\n",
    "        print(f'Processing Record {calls_to_api} of Set # {sets_of_50} | {city_name}' )\n",
    "        \n",
    "        # Increment if you successfully retrieve weather information for a city.\n",
    "        cities_cnt += 1 \n",
    "    \n",
    "    except KeyError:\n",
    "        # If the city cannot be processed send a message and continue.\n",
    "        print(f\"Missing weather information for {city_name} ... skipping\")\n",
    "    \n",
    "    calls_to_api += 1  \n",
    "    \n",
    "    # loop to limit 50 API calls per minute as there is an API \n",
    "    # limit on the number of calls per minute\n",
    "    \n",
    "    if calls_to_api > 50: \n",
    "        time.sleep(1)\n",
    "        \n",
    "        # Reset it for next 50 calls\n",
    "        calls_to_api = 1 \n",
    "        \n",
    "        # Increment which set of 50 calls you are on.\n",
    "        sets_of_50 += 1\n",
    "\n",
    "print(f\"Processing of weather data successfully completed for {cities_cnt} cities\")\n",
    "\n"
   ]
  },
  {
   "cell_type": "code",
   "execution_count": 5,
   "metadata": {},
   "outputs": [
    {
     "name": "stdout",
     "output_type": "stream",
     "text": [
      "          City      Lat      Lng Max Temp Humidity Cloudiness Wind Speed  \\\n",
      "0  yerbogachen  61.2767  108.011    86.94       34          4       8.99   \n",
      "1      salalah  17.0151  54.0924    78.89       89         75       5.75   \n",
      "2       baykit    61.67    96.37    86.88       30          2      11.07   \n",
      "3     hermanus -34.4187  19.2345     54.9       68          1      11.18   \n",
      "4  east london -33.0153  27.9116    63.54       29          0       5.75   \n",
      "\n",
      "  Country        Date  \n",
      "0      RU  1627359580  \n",
      "1      OM  1627359581  \n",
      "2      RU  1627359581  \n",
      "3      ZA  1627359581  \n",
      "4      ZA  1627359488  \n"
     ]
    }
   ],
   "source": [
    "# Print header of df_countries_weather DataFrame and write the output file to csv format.\n",
    "print(df_countries_weather.head())"
   ]
  },
  {
   "cell_type": "markdown",
   "metadata": {},
   "source": [
    "### Convert Raw Data to DataFrame\n",
    "* Export the city data into a .csv.\n",
    "* Display the DataFrame"
   ]
  },
  {
   "cell_type": "code",
   "execution_count": 6,
   "metadata": {},
   "outputs": [],
   "source": [
    "# The output file has been \"cleaned\" of NaN data.\n",
    "df_countries_weather.to_csv(output_data_file, encoding=\"utf-8\", index=False)"
   ]
  },
  {
   "cell_type": "code",
   "execution_count": 7,
   "metadata": {},
   "outputs": [
    {
     "data": {
      "text/html": [
       "<div>\n",
       "<style scoped>\n",
       "    .dataframe tbody tr th:only-of-type {\n",
       "        vertical-align: middle;\n",
       "    }\n",
       "\n",
       "    .dataframe tbody tr th {\n",
       "        vertical-align: top;\n",
       "    }\n",
       "\n",
       "    .dataframe thead th {\n",
       "        text-align: right;\n",
       "    }\n",
       "</style>\n",
       "<table border=\"1\" class=\"dataframe\">\n",
       "  <thead>\n",
       "    <tr style=\"text-align: right;\">\n",
       "      <th></th>\n",
       "      <th>City</th>\n",
       "      <th>Lat</th>\n",
       "      <th>Lng</th>\n",
       "      <th>Max Temp</th>\n",
       "      <th>Humidity</th>\n",
       "      <th>Cloudiness</th>\n",
       "      <th>Wind Speed</th>\n",
       "      <th>Country</th>\n",
       "      <th>Date</th>\n",
       "    </tr>\n",
       "  </thead>\n",
       "  <tbody>\n",
       "    <tr>\n",
       "      <th>0</th>\n",
       "      <td>yerbogachen</td>\n",
       "      <td>61.2767</td>\n",
       "      <td>108.0108</td>\n",
       "      <td>86.94</td>\n",
       "      <td>34.0</td>\n",
       "      <td>4.0</td>\n",
       "      <td>8.99</td>\n",
       "      <td>RU</td>\n",
       "      <td>1627359580</td>\n",
       "    </tr>\n",
       "    <tr>\n",
       "      <th>1</th>\n",
       "      <td>salalah</td>\n",
       "      <td>17.0151</td>\n",
       "      <td>54.0924</td>\n",
       "      <td>78.89</td>\n",
       "      <td>89.0</td>\n",
       "      <td>75.0</td>\n",
       "      <td>5.75</td>\n",
       "      <td>OM</td>\n",
       "      <td>1627359581</td>\n",
       "    </tr>\n",
       "    <tr>\n",
       "      <th>2</th>\n",
       "      <td>baykit</td>\n",
       "      <td>61.6700</td>\n",
       "      <td>96.3700</td>\n",
       "      <td>86.88</td>\n",
       "      <td>30.0</td>\n",
       "      <td>2.0</td>\n",
       "      <td>11.07</td>\n",
       "      <td>RU</td>\n",
       "      <td>1627359581</td>\n",
       "    </tr>\n",
       "    <tr>\n",
       "      <th>3</th>\n",
       "      <td>hermanus</td>\n",
       "      <td>-34.4187</td>\n",
       "      <td>19.2345</td>\n",
       "      <td>54.90</td>\n",
       "      <td>68.0</td>\n",
       "      <td>1.0</td>\n",
       "      <td>11.18</td>\n",
       "      <td>ZA</td>\n",
       "      <td>1627359581</td>\n",
       "    </tr>\n",
       "    <tr>\n",
       "      <th>4</th>\n",
       "      <td>east london</td>\n",
       "      <td>-33.0153</td>\n",
       "      <td>27.9116</td>\n",
       "      <td>63.54</td>\n",
       "      <td>29.0</td>\n",
       "      <td>0.0</td>\n",
       "      <td>5.75</td>\n",
       "      <td>ZA</td>\n",
       "      <td>1627359488</td>\n",
       "    </tr>\n",
       "    <tr>\n",
       "      <th>5</th>\n",
       "      <td>rudnogorsk</td>\n",
       "      <td>57.2639</td>\n",
       "      <td>103.7519</td>\n",
       "      <td>85.26</td>\n",
       "      <td>31.0</td>\n",
       "      <td>24.0</td>\n",
       "      <td>3.15</td>\n",
       "      <td>RU</td>\n",
       "      <td>1627359582</td>\n",
       "    </tr>\n",
       "    <tr>\n",
       "      <th>6</th>\n",
       "      <td>rikitea</td>\n",
       "      <td>-23.1203</td>\n",
       "      <td>-134.9692</td>\n",
       "      <td>74.91</td>\n",
       "      <td>79.0</td>\n",
       "      <td>99.0</td>\n",
       "      <td>18.63</td>\n",
       "      <td>PF</td>\n",
       "      <td>1627359582</td>\n",
       "    </tr>\n",
       "    <tr>\n",
       "      <th>7</th>\n",
       "      <td>mataura</td>\n",
       "      <td>-46.1927</td>\n",
       "      <td>168.8643</td>\n",
       "      <td>51.48</td>\n",
       "      <td>74.0</td>\n",
       "      <td>21.0</td>\n",
       "      <td>3.47</td>\n",
       "      <td>NZ</td>\n",
       "      <td>1627359583</td>\n",
       "    </tr>\n",
       "    <tr>\n",
       "      <th>8</th>\n",
       "      <td>port hardy</td>\n",
       "      <td>50.6996</td>\n",
       "      <td>-127.4199</td>\n",
       "      <td>59.18</td>\n",
       "      <td>77.0</td>\n",
       "      <td>75.0</td>\n",
       "      <td>3.44</td>\n",
       "      <td>CA</td>\n",
       "      <td>1627359583</td>\n",
       "    </tr>\n",
       "    <tr>\n",
       "      <th>9</th>\n",
       "      <td>bluff</td>\n",
       "      <td>-46.6000</td>\n",
       "      <td>168.3333</td>\n",
       "      <td>51.80</td>\n",
       "      <td>70.0</td>\n",
       "      <td>20.0</td>\n",
       "      <td>19.35</td>\n",
       "      <td>NZ</td>\n",
       "      <td>1627359583</td>\n",
       "    </tr>\n",
       "  </tbody>\n",
       "</table>\n",
       "</div>"
      ],
      "text/plain": [
       "          City      Lat       Lng  Max Temp  Humidity  Cloudiness  Wind Speed  \\\n",
       "0  yerbogachen  61.2767  108.0108     86.94      34.0         4.0        8.99   \n",
       "1      salalah  17.0151   54.0924     78.89      89.0        75.0        5.75   \n",
       "2       baykit  61.6700   96.3700     86.88      30.0         2.0       11.07   \n",
       "3     hermanus -34.4187   19.2345     54.90      68.0         1.0       11.18   \n",
       "4  east london -33.0153   27.9116     63.54      29.0         0.0        5.75   \n",
       "5   rudnogorsk  57.2639  103.7519     85.26      31.0        24.0        3.15   \n",
       "6      rikitea -23.1203 -134.9692     74.91      79.0        99.0       18.63   \n",
       "7      mataura -46.1927  168.8643     51.48      74.0        21.0        3.47   \n",
       "8   port hardy  50.6996 -127.4199     59.18      77.0        75.0        3.44   \n",
       "9        bluff -46.6000  168.3333     51.80      70.0        20.0       19.35   \n",
       "\n",
       "  Country        Date  \n",
       "0      RU  1627359580  \n",
       "1      OM  1627359581  \n",
       "2      RU  1627359581  \n",
       "3      ZA  1627359581  \n",
       "4      ZA  1627359488  \n",
       "5      RU  1627359582  \n",
       "6      PF  1627359582  \n",
       "7      NZ  1627359583  \n",
       "8      CA  1627359583  \n",
       "9      NZ  1627359583  "
      ]
     },
     "execution_count": 7,
     "metadata": {},
     "output_type": "execute_result"
    }
   ],
   "source": [
    "# Change the data from the api to numerical data\n",
    "\n",
    "df_countries_weather['Lat'] = pd.to_numeric(df_countries_weather['Lat'])\n",
    "df_countries_weather['Lng'] = pd.to_numeric(df_countries_weather['Lng'])\n",
    "df_countries_weather['Max Temp'] = pd.to_numeric(df_countries_weather['Max Temp'])\n",
    "df_countries_weather['Humidity'] = pd.to_numeric(df_countries_weather['Humidity'])\n",
    "df_countries_weather['Cloudiness'] = pd.to_numeric(df_countries_weather['Cloudiness'])\n",
    "df_countries_weather['Wind Speed'] = pd.to_numeric(df_countries_weather['Wind Speed'])\n",
    "\n",
    "# Get rid of rows with NaN values from the DataFrame df_countries_weather\n",
    "df_countries_weather = df_countries_weather.dropna()\n",
    "\n",
    "df_countries_weather = df_countries_weather[[\"City\",\"Lat\",\"Lng\",\"Max Temp\",\"Humidity\",\n",
    "                                             \"Cloudiness\",\"Wind Speed\",\"Country\",\"Date\"]]\n",
    "\n",
    "df_countries_weather.head(10)\n",
    "\n"
   ]
  },
  {
   "cell_type": "markdown",
   "metadata": {},
   "source": [
    "### There were no cities with humidity over 100%"
   ]
  },
  {
   "cell_type": "code",
   "execution_count": 8,
   "metadata": {},
   "outputs": [
    {
     "data": {
      "text/plain": [
       "Series([], Name: City, dtype: object)"
      ]
     },
     "execution_count": 8,
     "metadata": {},
     "output_type": "execute_result"
    }
   ],
   "source": [
    "# Humidity over 100%\n",
    "high_humidity = df_countries_weather.loc[df_countries_weather[\"Humidity\"] > 100][\"City\"]\n",
    "high_humidity\n"
   ]
  },
  {
   "cell_type": "markdown",
   "metadata": {},
   "source": [
    "## Inspect the data and remove the cities where the humidity > 100%.\n",
    "----\n",
    "Skip this step if there are no cities that have humidity > 100%. "
   ]
  },
  {
   "cell_type": "markdown",
   "metadata": {},
   "source": [
    "### The output shows no cities with humidity over 100%.  This was confirmed in the list high_humidity above."
   ]
  },
  {
   "cell_type": "code",
   "execution_count": null,
   "metadata": {},
   "outputs": [],
   "source": []
  },
  {
   "cell_type": "code",
   "execution_count": 9,
   "metadata": {},
   "outputs": [],
   "source": [
    "#  Get the indices of cities that have humidity over 100%.\n",
    "#  There were no cities with humidity over 100%"
   ]
  },
  {
   "cell_type": "code",
   "execution_count": 10,
   "metadata": {},
   "outputs": [],
   "source": [
    "# Make a new DataFrame equal to the city data to drop all humidity outliers by index.\n",
    "# Passing \"inplace=False\" will make a copy of the city_data DataFrame, which we call \"clean_city_data\".\n",
    "\n",
    "# No need to cleanup as shown by high_humidity which had no cities with a humidity over 100%.\n"
   ]
  },
  {
   "cell_type": "markdown",
   "metadata": {},
   "source": [
    "## Plotting the Data\n",
    "* Use proper labeling of the plots using plot titles (including date of analysis) and axes labels.\n",
    "* Save the plotted figures as .pngs."
   ]
  },
  {
   "cell_type": "markdown",
   "metadata": {},
   "source": [
    "## Latitude vs. Temperature Plot"
   ]
  },
  {
   "cell_type": "markdown",
   "metadata": {},
   "source": [
    "As the Latitude is increasing between 0 and 40 the temperatures are around 90 degrees. And with decreasing latitude down to -60 the temperature goes down to 35F.  When the latitude goes above 40 the temperature also decreases."
   ]
  },
  {
   "cell_type": "code",
   "execution_count": 11,
   "metadata": {},
   "outputs": [
    {
     "data": {
      "text/plain": [
       "<function matplotlib.pyplot.show(*args, **kw)>"
      ]
     },
     "execution_count": 11,
     "metadata": {},
     "output_type": "execute_result"
    },
    {
     "data": {
      "image/png": "[encoded data removed]",
      "text/plain": [
       "<Figure size 576x432 with 1 Axes>"
      ]
     },
     "metadata": {
      "needs_background": "light"
     },
     "output_type": "display_data"
    }
   ],
   "source": [
    "# Latitude vs. Temperature Plot\n",
    "plt.figure(figsize=(8,6))\n",
    "plt.scatter(df_countries_weather[\"Lat\"], df_countries_weather[\"Max Temp\"], color='b', alpha=0.5)\n",
    "plt.grid()\n",
    "plt.title(f'City Latitude vs. Max Temperature ({datetime.datetime.now().strftime(\"%D\")})')\n",
    "plt.xlabel(\"Latitude\")\n",
    "plt.ylabel(\"Max Temperature (F)\")\n",
    "plt.savefig(\"../Images/Latitude_vs_Max_Temp.png\")\n",
    "plt.show"
   ]
  },
  {
   "cell_type": "markdown",
   "metadata": {},
   "source": [
    "## Latitude vs. Humidity Plot"
   ]
  },
  {
   "cell_type": "markdown",
   "metadata": {},
   "source": [
    "Most of the humidity is clustered between -40 to 60 latitude points and most of the humidity is between 50 percent and 90 percent."
   ]
  },
  {
   "cell_type": "code",
   "execution_count": 12,
   "metadata": {},
   "outputs": [
    {
     "data": {
      "image/png": "[encoded data removed]",
      "text/plain": [
       "<Figure size 576x432 with 1 Axes>"
      ]
     },
     "metadata": {
      "needs_background": "light"
     },
     "output_type": "display_data"
    }
   ],
   "source": [
    "# Latitude vs. Humidity Plot\n",
    "plt.figure(figsize=(8,6))\n",
    "plt.scatter(df_countries_weather[\"Lat\"], df_countries_weather[\"Humidity\"], color='blue', alpha=0.5)\n",
    "plt.ylim(10,120)\n",
    "plt.grid()\n",
    "plt.xlabel('Latitude')\n",
    "plt.ylabel('Humidity (%)')\n",
    "plt.title(f'City Latitude vs Humidity ({datetime.datetime.now().strftime(\"%D\")})')\n",
    "plt.savefig(\"../Images/Latitude_vs_Humidity.png\")\n",
    "plt.show()\n"
   ]
  },
  {
   "cell_type": "markdown",
   "metadata": {},
   "source": [
    "## Latitude vs. Cloudiness Plot"
   ]
  },
  {
   "cell_type": "markdown",
   "metadata": {},
   "source": [
    "There does not look to be anything much to interpret here other than a greater percentage of cloudiness data points when close to 100 percent cloudiness."
   ]
  },
  {
   "cell_type": "code",
   "execution_count": 13,
   "metadata": {},
   "outputs": [
    {
     "data": {
      "image/png": "[encoded data removed]",
      "text/plain": [
       "<Figure size 576x432 with 1 Axes>"
      ]
     },
     "metadata": {
      "needs_background": "light"
     },
     "output_type": "display_data"
    }
   ],
   "source": [
    "# Latitude vs. Cloudiness Plot\n",
    "plt.figure(figsize=(8,6))\n",
    "plt.scatter(df_countries_weather[\"Lat\"], df_countries_weather[\"Cloudiness\"], color='b', alpha=0.5)\n",
    "plt.grid()\n",
    "plt.ylim(-5,(df_countries_weather[\"Cloudiness\"].max()+10))\n",
    "plt.xlabel('Latitude')\n",
    "plt.ylabel('Cloudiness (%)')\n",
    "plt.title(f'City Latitude vs Cloudiness ({datetime.datetime.now().strftime(\"%D\")})')\n",
    "plt.savefig(\"../Images/Latitude_vs_Cloudiness.png\")\n",
    "plt.show()\n"
   ]
  },
  {
   "cell_type": "markdown",
   "metadata": {},
   "source": [
    "## Latitude vs. Wind Speed Plot"
   ]
  },
  {
   "cell_type": "markdown",
   "metadata": {},
   "source": [
    "The wind speed tends to be clustered between 2 mph and 10 mph across the latitude spanning from -40 to 70."
   ]
  },
  {
   "cell_type": "code",
   "execution_count": 14,
   "metadata": {},
   "outputs": [
    {
     "data": {
      "image/png": "[encoded data removed]",
      "text/plain": [
       "<Figure size 576x432 with 1 Axes>"
      ]
     },
     "metadata": {
      "needs_background": "light"
     },
     "output_type": "display_data"
    }
   ],
   "source": [
    "# Latitude vs. Wind Speed Plot\n",
    "plt.figure(figsize=(8,6))\n",
    "plt.scatter(df_countries_weather[\"Lat\"], df_countries_weather[\"Wind Speed\"], color='blue', alpha=0.5)\n",
    "plt.grid()\n",
    "plt.ylim((df_countries_weather[\"Wind Speed\"].min()-1),(df_countries_weather[\"Wind Speed\"].max()+2))\n",
    "plt.xlabel('Latitude')\n",
    "plt.ylabel('Wind Speed (mph)')\n",
    "plt.title(f'City Latitude vs Wind Speed ({datetime.datetime.now().strftime(\"%D\")})')\n",
    "plt.savefig(\"../Images/Latitude_vs_Wind_Speed.png\")\n",
    "plt.show()\n"
   ]
  },
  {
   "cell_type": "markdown",
   "metadata": {},
   "source": [
    "## Linear Regression"
   ]
  },
  {
   "cell_type": "code",
   "execution_count": 15,
   "metadata": {},
   "outputs": [],
   "source": [
    "# Run linear regression on each relationship. This time, separate the plots into \n",
    "# Northern Hemisphere (greater than or equal to 0 degrees latitude) and \n",
    "# Southern Hemisphere (less than 0 degrees latitude)."
   ]
  },
  {
   "cell_type": "code",
   "execution_count": 16,
   "metadata": {},
   "outputs": [
    {
     "data": {
      "text/html": [
       "<div>\n",
       "<style scoped>\n",
       "    .dataframe tbody tr th:only-of-type {\n",
       "        vertical-align: middle;\n",
       "    }\n",
       "\n",
       "    .dataframe tbody tr th {\n",
       "        vertical-align: top;\n",
       "    }\n",
       "\n",
       "    .dataframe thead th {\n",
       "        text-align: right;\n",
       "    }\n",
       "</style>\n",
       "<table border=\"1\" class=\"dataframe\">\n",
       "  <thead>\n",
       "    <tr style=\"text-align: right;\">\n",
       "      <th></th>\n",
       "      <th>City</th>\n",
       "      <th>Lat</th>\n",
       "      <th>Lng</th>\n",
       "      <th>Max Temp</th>\n",
       "      <th>Humidity</th>\n",
       "      <th>Cloudiness</th>\n",
       "      <th>Wind Speed</th>\n",
       "      <th>Country</th>\n",
       "      <th>Date</th>\n",
       "    </tr>\n",
       "  </thead>\n",
       "  <tbody>\n",
       "    <tr>\n",
       "      <th>0</th>\n",
       "      <td>yerbogachen</td>\n",
       "      <td>61.2767</td>\n",
       "      <td>108.0108</td>\n",
       "      <td>86.94</td>\n",
       "      <td>34.0</td>\n",
       "      <td>4.0</td>\n",
       "      <td>8.99</td>\n",
       "      <td>RU</td>\n",
       "      <td>1627359580</td>\n",
       "    </tr>\n",
       "    <tr>\n",
       "      <th>1</th>\n",
       "      <td>salalah</td>\n",
       "      <td>17.0151</td>\n",
       "      <td>54.0924</td>\n",
       "      <td>78.89</td>\n",
       "      <td>89.0</td>\n",
       "      <td>75.0</td>\n",
       "      <td>5.75</td>\n",
       "      <td>OM</td>\n",
       "      <td>1627359581</td>\n",
       "    </tr>\n",
       "    <tr>\n",
       "      <th>2</th>\n",
       "      <td>baykit</td>\n",
       "      <td>61.6700</td>\n",
       "      <td>96.3700</td>\n",
       "      <td>86.88</td>\n",
       "      <td>30.0</td>\n",
       "      <td>2.0</td>\n",
       "      <td>11.07</td>\n",
       "      <td>RU</td>\n",
       "      <td>1627359581</td>\n",
       "    </tr>\n",
       "    <tr>\n",
       "      <th>5</th>\n",
       "      <td>rudnogorsk</td>\n",
       "      <td>57.2639</td>\n",
       "      <td>103.7519</td>\n",
       "      <td>85.26</td>\n",
       "      <td>31.0</td>\n",
       "      <td>24.0</td>\n",
       "      <td>3.15</td>\n",
       "      <td>RU</td>\n",
       "      <td>1627359582</td>\n",
       "    </tr>\n",
       "    <tr>\n",
       "      <th>8</th>\n",
       "      <td>port hardy</td>\n",
       "      <td>50.6996</td>\n",
       "      <td>-127.4199</td>\n",
       "      <td>59.18</td>\n",
       "      <td>77.0</td>\n",
       "      <td>75.0</td>\n",
       "      <td>3.44</td>\n",
       "      <td>CA</td>\n",
       "      <td>1627359583</td>\n",
       "    </tr>\n",
       "  </tbody>\n",
       "</table>\n",
       "</div>"
      ],
      "text/plain": [
       "          City      Lat       Lng  Max Temp  Humidity  Cloudiness  Wind Speed  \\\n",
       "0  yerbogachen  61.2767  108.0108     86.94      34.0         4.0        8.99   \n",
       "1      salalah  17.0151   54.0924     78.89      89.0        75.0        5.75   \n",
       "2       baykit  61.6700   96.3700     86.88      30.0         2.0       11.07   \n",
       "5   rudnogorsk  57.2639  103.7519     85.26      31.0        24.0        3.15   \n",
       "8   port hardy  50.6996 -127.4199     59.18      77.0        75.0        3.44   \n",
       "\n",
       "  Country        Date  \n",
       "0      RU  1627359580  \n",
       "1      OM  1627359581  \n",
       "2      RU  1627359581  \n",
       "5      RU  1627359582  \n",
       "8      CA  1627359583  "
      ]
     },
     "execution_count": 16,
     "metadata": {},
     "output_type": "execute_result"
    }
   ],
   "source": [
    "North_Hemi = df_countries_weather.loc[df_countries_weather[\"Lat\"]>= 0]\n",
    "North_Hemi.head()"
   ]
  },
  {
   "cell_type": "code",
   "execution_count": 17,
   "metadata": {},
   "outputs": [
    {
     "data": {
      "text/html": [
       "<div>\n",
       "<style scoped>\n",
       "    .dataframe tbody tr th:only-of-type {\n",
       "        vertical-align: middle;\n",
       "    }\n",
       "\n",
       "    .dataframe tbody tr th {\n",
       "        vertical-align: top;\n",
       "    }\n",
       "\n",
       "    .dataframe thead th {\n",
       "        text-align: right;\n",
       "    }\n",
       "</style>\n",
       "<table border=\"1\" class=\"dataframe\">\n",
       "  <thead>\n",
       "    <tr style=\"text-align: right;\">\n",
       "      <th></th>\n",
       "      <th>City</th>\n",
       "      <th>Lat</th>\n",
       "      <th>Lng</th>\n",
       "      <th>Max Temp</th>\n",
       "      <th>Humidity</th>\n",
       "      <th>Cloudiness</th>\n",
       "      <th>Wind Speed</th>\n",
       "      <th>Country</th>\n",
       "      <th>Date</th>\n",
       "    </tr>\n",
       "  </thead>\n",
       "  <tbody>\n",
       "    <tr>\n",
       "      <th>3</th>\n",
       "      <td>hermanus</td>\n",
       "      <td>-34.4187</td>\n",
       "      <td>19.2345</td>\n",
       "      <td>54.90</td>\n",
       "      <td>68.0</td>\n",
       "      <td>1.0</td>\n",
       "      <td>11.18</td>\n",
       "      <td>ZA</td>\n",
       "      <td>1627359581</td>\n",
       "    </tr>\n",
       "    <tr>\n",
       "      <th>4</th>\n",
       "      <td>east london</td>\n",
       "      <td>-33.0153</td>\n",
       "      <td>27.9116</td>\n",
       "      <td>63.54</td>\n",
       "      <td>29.0</td>\n",
       "      <td>0.0</td>\n",
       "      <td>5.75</td>\n",
       "      <td>ZA</td>\n",
       "      <td>1627359488</td>\n",
       "    </tr>\n",
       "    <tr>\n",
       "      <th>6</th>\n",
       "      <td>rikitea</td>\n",
       "      <td>-23.1203</td>\n",
       "      <td>-134.9692</td>\n",
       "      <td>74.91</td>\n",
       "      <td>79.0</td>\n",
       "      <td>99.0</td>\n",
       "      <td>18.63</td>\n",
       "      <td>PF</td>\n",
       "      <td>1627359582</td>\n",
       "    </tr>\n",
       "    <tr>\n",
       "      <th>7</th>\n",
       "      <td>mataura</td>\n",
       "      <td>-46.1927</td>\n",
       "      <td>168.8643</td>\n",
       "      <td>51.48</td>\n",
       "      <td>74.0</td>\n",
       "      <td>21.0</td>\n",
       "      <td>3.47</td>\n",
       "      <td>NZ</td>\n",
       "      <td>1627359583</td>\n",
       "    </tr>\n",
       "    <tr>\n",
       "      <th>9</th>\n",
       "      <td>bluff</td>\n",
       "      <td>-46.6000</td>\n",
       "      <td>168.3333</td>\n",
       "      <td>51.80</td>\n",
       "      <td>70.0</td>\n",
       "      <td>20.0</td>\n",
       "      <td>19.35</td>\n",
       "      <td>NZ</td>\n",
       "      <td>1627359583</td>\n",
       "    </tr>\n",
       "  </tbody>\n",
       "</table>\n",
       "</div>"
      ],
      "text/plain": [
       "          City      Lat       Lng  Max Temp  Humidity  Cloudiness  Wind Speed  \\\n",
       "3     hermanus -34.4187   19.2345     54.90      68.0         1.0       11.18   \n",
       "4  east london -33.0153   27.9116     63.54      29.0         0.0        5.75   \n",
       "6      rikitea -23.1203 -134.9692     74.91      79.0        99.0       18.63   \n",
       "7      mataura -46.1927  168.8643     51.48      74.0        21.0        3.47   \n",
       "9        bluff -46.6000  168.3333     51.80      70.0        20.0       19.35   \n",
       "\n",
       "  Country        Date  \n",
       "3      ZA  1627359581  \n",
       "4      ZA  1627359488  \n",
       "6      PF  1627359582  \n",
       "7      NZ  1627359583  \n",
       "9      NZ  1627359583  "
      ]
     },
     "execution_count": 17,
     "metadata": {},
     "output_type": "execute_result"
    }
   ],
   "source": [
    "South_Hemi = df_countries_weather.loc[df_countries_weather[\"Lat\"]< 0]\n",
    "South_Hemi.head()"
   ]
  },
  {
   "cell_type": "markdown",
   "metadata": {},
   "source": [
    "####  Northern Hemisphere - Max Temp vs. Latitude Linear Regression"
   ]
  },
  {
   "cell_type": "markdown",
   "metadata": {},
   "source": [
    "R-squared is only .39 between max temperature and latitude which indicates there is not a strong relationship between those two variables."
   ]
  },
  {
   "cell_type": "code",
   "execution_count": 18,
   "metadata": {},
   "outputs": [
    {
     "name": "stdout",
     "output_type": "stream",
     "text": [
      "The r-squared is: 0.4177882052689539\n"
     ]
    },
    {
     "data": {
      "image/png": "[encoded data removed]",
      "text/plain": [
       "<Figure size 432x288 with 1 Axes>"
      ]
     },
     "metadata": {
      "needs_background": "light"
     },
     "output_type": "display_data"
    }
   ],
   "source": [
    "# Create a scatter plot of the x and y values for the Northern Hemisphere.\n",
    "x_values = North_Hemi[\"Lat\"]\n",
    "y_values = North_Hemi[\"Max Temp\"] \n",
    "\n",
    "(slope, intercept, rvalue, pvalue, stderr) = linregress(x_values, y_values)\n",
    "regress_values = x_values * slope + intercept\n",
    "line_eq = \"y = \" + str(round(slope,2)) + \"x + \" + str(round(intercept,2))\n",
    "plt.scatter(x_values,y_values)\n",
    "plt.plot(x_values,regress_values,\"r-\")\n",
    "plt.title(f'Northern Hemisphere Max Temperature vs. Latitude ({datetime.datetime.now().strftime(\"%D\")})')\n",
    "plt.annotate(line_eq,(20,90),fontsize=15,color=\"red\")\n",
    "plt.xlabel('Latitude')\n",
    "plt.ylabel('Max Temp')\n",
    "print(f\"The r-squared is: {rvalue**2}\")\n",
    "plt.savefig(\"../Images/Linear Regression North Hemi Max Temp vs. Lat.png\")\n",
    "plt.show()\n"
   ]
  },
  {
   "cell_type": "markdown",
   "metadata": {},
   "source": [
    "####  Southern Hemisphere - Max Temp vs. Latitude Linear Regression"
   ]
  },
  {
   "cell_type": "markdown",
   "metadata": {},
   "source": [
    "R-squared is .58 between max temperature and latitude. The relationship is not a strong between those two variables."
   ]
  },
  {
   "cell_type": "code",
   "execution_count": 19,
   "metadata": {},
   "outputs": [
    {
     "name": "stdout",
     "output_type": "stream",
     "text": [
      "The r-squared is: 0.4299261766695917\n"
     ]
    },
    {
     "data": {
      "image/png": "[encoded data removed]",
      "text/plain": [
       "<Figure size 432x288 with 1 Axes>"
      ]
     },
     "metadata": {
      "needs_background": "light"
     },
     "output_type": "display_data"
    }
   ],
   "source": [
    "# Create a scatter plot of the x and y values for the Southern Hemisphere.\n",
    "x_values = South_Hemi[\"Lat\"]\n",
    "y_values = South_Hemi[\"Max Temp\"] \n",
    "\n",
    "(slope, intercept, rvalue, pvalue, stderr) = linregress(x_values, y_values)\n",
    "regress_values = x_values * slope + intercept\n",
    "line_eq = \"y = \" + str(round(slope,2)) + \"x + \" + str(round(intercept,2))\n",
    "plt.scatter(x_values,y_values)\n",
    "plt.plot(x_values,regress_values,\"r-\")\n",
    "plt.title(f'Southern Hemisphere Max Temperature vs. Latitude ({datetime.datetime.now().strftime(\"%D\")})')\n",
    "plt.annotate(line_eq,(-55,80),fontsize=15,color=\"red\")\n",
    "plt.xlabel('Latitude')\n",
    "plt.ylabel('Max Temp')\n",
    "print(f\"The r-squared is: {rvalue**2}\")\n",
    "plt.savefig(\"../Images/Linear Regression South Hemi Max Temp vs. Lat.png\")\n",
    "plt.show()"
   ]
  },
  {
   "cell_type": "markdown",
   "metadata": {},
   "source": [
    "####  Northern Hemisphere - Humidity (%) vs. Latitude Linear Regression"
   ]
  },
  {
   "cell_type": "markdown",
   "metadata": {},
   "source": [
    "R-squared is just 0.0048 which indicates the relationship between humidity and latitude is almost non-existent."
   ]
  },
  {
   "cell_type": "code",
   "execution_count": 20,
   "metadata": {},
   "outputs": [
    {
     "name": "stdout",
     "output_type": "stream",
     "text": [
      "The r-squared is: 0.009268393309582346\n"
     ]
    },
    {
     "data": {
      "image/png": "[encoded data removed]",
      "text/plain": [
       "<Figure size 432x288 with 1 Axes>"
      ]
     },
     "metadata": {
      "needs_background": "light"
     },
     "output_type": "display_data"
    }
   ],
   "source": [
    "# Create a scatter plot of the x and y values for the Northern Hemisphere.\n",
    "x_values = North_Hemi[\"Lat\"]\n",
    "y_values = North_Hemi[\"Humidity\"] \n",
    "\n",
    "(slope, intercept, rvalue, pvalue, stderr) = linregress(x_values, y_values)\n",
    "regress_values = x_values * slope + intercept\n",
    "line_eq = \"y = \" + str(round(slope,2)) + \"x + \" + str(round(intercept,2))\n",
    "plt.scatter(x_values,y_values)\n",
    "plt.plot(x_values,regress_values,\"r-\")\n",
    "plt.title(f'Northern Hemisphere Humidity vs. Latitude ({datetime.datetime.now().strftime(\"%D\")})')\n",
    "plt.annotate(line_eq,(45,90),fontsize=15,color=\"red\")\n",
    "plt.xlabel('Latitude')\n",
    "plt.ylabel('Humidity')\n",
    "print(f\"The r-squared is: {rvalue**2}\")\n",
    "plt.savefig(\"../Images/Linear Regression North Hemi Humidity vs. Lat.png\")\n",
    "plt.show()"
   ]
  },
  {
   "cell_type": "markdown",
   "metadata": {},
   "source": [
    "####  Southern Hemisphere - Humidity (%) vs. Latitude Linear Regression"
   ]
  },
  {
   "cell_type": "markdown",
   "metadata": {},
   "source": [
    "R-squared is just .013 so the relationship between humidity and latitude is almost non-existent."
   ]
  },
  {
   "cell_type": "code",
   "execution_count": 21,
   "metadata": {},
   "outputs": [
    {
     "name": "stdout",
     "output_type": "stream",
     "text": [
      "The r-squared is: 0.006403839647754205\n"
     ]
    },
    {
     "data": {
      "image/png": "[encoded data removed]",
      "text/plain": [
       "<Figure size 432x288 with 1 Axes>"
      ]
     },
     "metadata": {
      "needs_background": "light"
     },
     "output_type": "display_data"
    }
   ],
   "source": [
    "# Create a scatter plot of the x and y values for the Southern Hemisphere.\n",
    "x_values = South_Hemi[\"Lat\"]\n",
    "y_values = South_Hemi[\"Humidity\"] \n",
    "\n",
    "(slope, intercept, rvalue, pvalue, stderr) = linregress(x_values, y_values)\n",
    "regress_values = x_values * slope + intercept\n",
    "line_eq = \"y = \" + str(round(slope,2)) + \"x + \" + str(round(intercept,2))\n",
    "plt.scatter(x_values,y_values)\n",
    "plt.plot(x_values,regress_values,\"r-\")\n",
    "plt.title(f'Southern Hemisphere Humidity vs. Latitude ({datetime.datetime.now().strftime(\"%D\")})')\n",
    "plt.annotate(line_eq,(-55,80),fontsize=15,color=\"red\")\n",
    "plt.xlabel('Latitude')\n",
    "plt.ylabel('Max Temp')\n",
    "print(f\"The r-squared is: {rvalue**2}\")\n",
    "plt.savefig(\"../Images/Linear Regression South Hemi Humidity vs. Lat.png\")\n",
    "plt.show()"
   ]
  },
  {
   "cell_type": "markdown",
   "metadata": {},
   "source": [
    "####  Northern Hemisphere - Cloudiness (%) vs. Latitude Linear Regression"
   ]
  },
  {
   "cell_type": "markdown",
   "metadata": {},
   "source": [
    "R-squared at .0088 is so low that the relationship between cloudiness and latitude is almost non-existent."
   ]
  },
  {
   "cell_type": "code",
   "execution_count": 22,
   "metadata": {},
   "outputs": [
    {
     "name": "stdout",
     "output_type": "stream",
     "text": [
      "The r-squared is: 0.023013346698993995\n"
     ]
    },
    {
     "data": {
      "image/png": "[encoded data removed]",
      "text/plain": [
       "<Figure size 432x288 with 1 Axes>"
      ]
     },
     "metadata": {
      "needs_background": "light"
     },
     "output_type": "display_data"
    }
   ],
   "source": [
    "# Create a scatter plot of the x and y values for the Northern Hemisphere.\n",
    "x_values = North_Hemi[\"Lat\"]\n",
    "y_values = North_Hemi[\"Cloudiness\"] \n",
    "\n",
    "(slope, intercept, rvalue, pvalue, stderr) = linregress(x_values, y_values)\n",
    "regress_values = x_values * slope + intercept\n",
    "line_eq = \"y = \" + str(round(slope,2)) + \"x + \" + str(round(intercept,2))\n",
    "plt.scatter(x_values,y_values)\n",
    "plt.plot(x_values,regress_values,\"r-\")\n",
    "plt.title(f'Northern Hemisphere Cloudiness vs. Latitude ({datetime.datetime.now().strftime(\"%D\")})')\n",
    "plt.annotate(line_eq,(45,70),fontsize=15,color=\"red\")\n",
    "plt.xlabel('Latitude')\n",
    "plt.ylabel('Cloudiness')\n",
    "print(f\"The r-squared is: {rvalue**2}\")\n",
    "plt.savefig(\"../Images/Linear Regression North Hemi Cloudiness vs. Lat.png\")\n",
    "plt.show()"
   ]
  },
  {
   "cell_type": "markdown",
   "metadata": {},
   "source": [
    "####  Southern Hemisphere - Cloudiness (%) vs. Latitude Linear Regression"
   ]
  },
  {
   "cell_type": "markdown",
   "metadata": {},
   "source": [
    "R-squared is just 0.00188 and this indicates the relationship between cloudiness and latitude is almost non-existent."
   ]
  },
  {
   "cell_type": "code",
   "execution_count": 23,
   "metadata": {},
   "outputs": [
    {
     "name": "stdout",
     "output_type": "stream",
     "text": [
      "The r-squared is: 0.03253757907692905\n"
     ]
    },
    {
     "data": {
      "image/png": "[encoded data removed]",
      "text/plain": [
       "<Figure size 432x288 with 1 Axes>"
      ]
     },
     "metadata": {
      "needs_background": "light"
     },
     "output_type": "display_data"
    }
   ],
   "source": [
    "# Create a scatter plot of the x and y values for the Southern Hemisphere.\n",
    "x_values = South_Hemi[\"Lat\"]\n",
    "y_values = South_Hemi[\"Cloudiness\"] \n",
    "\n",
    "(slope, intercept, rvalue, pvalue, stderr) = linregress(x_values, y_values)\n",
    "regress_values = x_values * slope + intercept\n",
    "line_eq = \"y = \" + str(round(slope,2)) + \"x + \" + str(round(intercept,2))\n",
    "plt.scatter(x_values,y_values)\n",
    "plt.plot(x_values,regress_values,\"r-\")\n",
    "plt.title(f'Southern Hemisphere Cloudiness vs. Latitude ({datetime.datetime.now().strftime(\"%D\")})')\n",
    "plt.annotate(line_eq,(-55,45),fontsize=15,color=\"red\")\n",
    "plt.xlabel('Latitude')\n",
    "plt.ylabel('Cloudiness')\n",
    "print(f\"The r-squared is: {rvalue**2}\")\n",
    "plt.savefig(\"../Images/Linear Regression South Hemi Cloudiness vs. Lat.png\")\n",
    "plt.show()"
   ]
  },
  {
   "cell_type": "markdown",
   "metadata": {},
   "source": [
    "####  Northern Hemisphere - Wind Speed (mph) vs. Latitude Linear Regression"
   ]
  },
  {
   "cell_type": "markdown",
   "metadata": {},
   "source": [
    "An R-sqared of 3.53e-05 is so low R-squared and this indicates the relationship between wind speed and latitude is almost non-existent."
   ]
  },
  {
   "cell_type": "code",
   "execution_count": 24,
   "metadata": {},
   "outputs": [
    {
     "name": "stdout",
     "output_type": "stream",
     "text": [
      "The r-squared is: 0.0015873226276657939\n"
     ]
    },
    {
     "data": {
      "image/png": "[encoded data removed]",
      "text/plain": [
       "<Figure size 432x288 with 1 Axes>"
      ]
     },
     "metadata": {
      "needs_background": "light"
     },
     "output_type": "display_data"
    }
   ],
   "source": [
    "# Create a scatter plot of the x and y values for the Northern Hemisphere.\n",
    "x_values = North_Hemi[\"Lat\"]\n",
    "y_values = North_Hemi[\"Wind Speed\"] \n",
    "\n",
    "(slope, intercept, rvalue, pvalue, stderr) = linregress(x_values, y_values)\n",
    "regress_values = x_values * slope + intercept\n",
    "line_eq = \"y = \" + str(round(slope,2)) + \"x + \" + str(round(intercept,2))\n",
    "plt.scatter(x_values,y_values)\n",
    "plt.plot(x_values,regress_values,\"r-\")\n",
    "plt.title(f'Northern Hemisphere Wind Speed (mph) vs. Latitude ({datetime.datetime.now().strftime(\"%D\")})')\n",
    "plt.annotate(line_eq,(40,15),fontsize=15,color=\"red\")\n",
    "plt.xlabel('Latitude')\n",
    "plt.ylabel('Wind Speed')\n",
    "print(f\"The r-squared is: {rvalue**2}\")\n",
    "plt.savefig(\"../Images/Linear Regression North Hemi Wind speed vs. Latitude.png\")\n",
    "plt.show()\n",
    "\n"
   ]
  },
  {
   "cell_type": "markdown",
   "metadata": {},
   "source": [
    "####  Southern Hemisphere - Wind Speed (mph) vs. Latitude Linear Regression"
   ]
  },
  {
   "cell_type": "markdown",
   "metadata": {},
   "source": [
    "An R-sqared of .0265 is very low R-squared and this indicates the relationship between wind speed and latitude is almost non-existent."
   ]
  },
  {
   "cell_type": "code",
   "execution_count": 25,
   "metadata": {},
   "outputs": [
    {
     "name": "stdout",
     "output_type": "stream",
     "text": [
      "The r-squared is: 0.11511234637528385\n"
     ]
    },
    {
     "data": {
      "image/png": "[encoded data removed]",
      "text/plain": [
       "<Figure size 432x288 with 1 Axes>"
      ]
     },
     "metadata": {
      "needs_background": "light"
     },
     "output_type": "display_data"
    }
   ],
   "source": [
    "# Create a scatter plot of the x and y values for the Southern Hemisphere.\n",
    "x_values = South_Hemi[\"Lat\"]\n",
    "y_values = South_Hemi[\"Wind Speed\"] \n",
    "\n",
    "(slope, intercept, rvalue, pvalue, stderr) = linregress(x_values, y_values)\n",
    "regress_values = x_values * slope + intercept\n",
    "line_eq = \"y = \" + str(round(slope,2)) + \"x + \" + str(round(intercept,2))\n",
    "plt.scatter(x_values,y_values)\n",
    "plt.plot(x_values,regress_values,\"r-\")\n",
    "plt.title(f'Southern Hemisphere Wind Speed vs. Latitude ({datetime.datetime.now().strftime(\"%D\")})')\n",
    "plt.annotate(line_eq,(-50,10),fontsize=15,color=\"red\")\n",
    "plt.xlabel('Latitude')\n",
    "plt.ylabel('Wind Speed')\n",
    "print(f\"The r-squared is: {rvalue**2}\")\n",
    "plt.savefig(\"../Images/Linear Regression South Hemi Wind speed vs. Latitude.png\")\n",
    "plt.show()"
   ]
  },
  {
   "cell_type": "code",
   "execution_count": null,
   "metadata": {},
   "outputs": [],
   "source": []
  }
 ],
 "metadata": {
  "anaconda-cloud": {},
  "kernel_info": {
   "name": "python3"
  },
  "kernelspec": {
   "display_name": "Python [conda env:PythonData] *",
   "language": "python",
   "name": "conda-env-PythonData-py"
  },
  "language_info": {
   "codemirror_mode": {
    "name": "ipython",
    "version": 3
   },
   "file_extension": ".py",
   "mimetype": "text/x-python",
   "name": "python",
   "nbconvert_exporter": "python",
   "pygments_lexer": "ipython3",
   "version": "3.6.10"
  },
  "latex_envs": {
   "LaTeX_envs_menu_present": true,
   "autoclose": false,
   "autocomplete": true,
   "bibliofile": "biblio.bib",
   "cite_by": "apalike",
   "current_citInitial": 1,
   "eqLabelWithNumbers": true,
   "eqNumInitial": 1,
   "hotkeys": {
    "equation": "Ctrl-E",
    "itemize": "Ctrl-I"
   },
   "labels_anchors": false,
   "latex_user_defs": false,
   "report_style_numbering": false,
   "user_envs_cfg": false
  },
  "nteract": {
   "version": "0.12.3"
  }
 },
 "nbformat": 4,
 "nbformat_minor": 2
}
