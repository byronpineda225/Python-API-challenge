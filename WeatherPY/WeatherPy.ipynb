{
 "cells": [
  {
   "cell_type": "markdown",
   "metadata": {},
   "source": [
    "# WeatherPy\n",
    "----\n",
    "\n",
    "#### Author: Byron Pineda\n",
    "\n",
    "#### Note\n",
    "* Instructions have been included for each segment. You do not have to follow them exactly, but they are included to help you think through the steps."
   ]
  },
  {
   "cell_type": "markdown",
   "metadata": {},
   "source": [
    "#### Observations:\n",
    "\n",
    "These observations were made prior to running it one last time as the cities are random!\n",
    "\n",
    "Temperature (F) vs. Latitude - As the Latitude is increasing between 0 and 40 the temperatures are around 90 degrees. And with decreasing latitude down to -60 the temperature goes down to 35F. When the latitude goes above 40 the temperature also decreases.\n",
    "\n",
    "Humidity (%) vs. Latitude - Most of the humidity is clustered between -40 to 60 latitude points and most of the humidity is between 50 percent and 90 percent.\n",
    "\n",
    "Cloudiness (%) vs. Latitude - There does not look to be anything much to interpret here as the points are so scattered.\n",
    "\n",
    "Wind Speed (mph) vs. Latitude - The wind speed tends to be clustered between 2 mph and 10 mph across the latitude spanning from -40 to 70.+\n",
    "\n",
    "-----------------------------------------------------------------------------------------------------------------------\n",
    "\n",
    "In each graph below linear regression was run.  In each case the R-squared value was so low, except for the Southern Hemisphere Temp vs. Latitude which had a .71 R-squared, that a relationship between each of the variables in the graphs was almost non-existent.\n",
    "\n",
    "Northern Hemisphere - Temperature (F) vs. Latitude: The r-squared is: 0.39306815254426325\n",
    "\n",
    "Southern Hemisphere - Temperature (F) vs. Latitude: The r-squared is: .71  The relationship is fairly strong between Max Temp and Latitude.\n",
    "\n",
    "Northern Hemisphere - Humidity (%) vs. Latitude: The r-squared is: 0.0048415991416849175\n",
    "\n",
    "Southern Hemisphere - Humidity (%) vs. Latitude: The r-squared is: 0.013135269463919226\n",
    "\n",
    "Northern Hemisphere - Cloudiness (%) vs. Latitude: The r-squared is: 0.008855732490045726\n",
    "\n",
    "Southern Hemisphere - Cloudiness (%) vs. Latitude: The r-squared is: 0.0018824705270874982\n",
    "\n",
    "Northern Hemisphere - Wind Speed (mph) vs. Latitude: The r-squared is: 3.534156388902969e-05\n",
    "\n",
    "Southern Hemisphere - Wind Speed (mph) vs. Latitude: The r-squared is: 0.02656269787764726\n",
    "\n",
    "##### Please note that all images are located in the Images folder \\Python-API-challenge\\Images\n"
   ]
  },
  {
   "cell_type": "code",
   "execution_count": 1,
   "metadata": {
    "scrolled": true
   },
   "outputs": [],
   "source": [
    "# Dependencies and Setup\n",
    "import matplotlib.pyplot as plt\n",
    "import pandas as pd\n",
    "import numpy as np\n",
    "import requests\n",
    "import time\n",
    "import datetime\n",
    "from scipy.stats import linregress\n",
    "\n",
    "# Import API key\n",
    "from api_keys import weather_api_key\n",
    "\n",
    "# Incorporated citipy to determine city based on latitude and longitude\n",
    "from citipy import citipy\n",
    "\n",
    "# Output File (CSV)\n",
    "output_data_file = \"../output_data/cities.csv\"\n",
    "\n",
    "# Range of latitudes and longitudes\n",
    "lat_range = (-90, 90)\n",
    "lng_range = (-180, 180)"
   ]
  },
  {
   "cell_type": "markdown",
   "metadata": {},
   "source": [
    "## Generate Cities List"
   ]
  },
  {
   "cell_type": "code",
   "execution_count": 2,
   "metadata": {},
   "outputs": [
    {
     "data": {
      "text/plain": [
       "602"
      ]
     },
     "execution_count": 2,
     "metadata": {},
     "output_type": "execute_result"
    }
   ],
   "source": [
    "# List for holding lat_lngs and cities\n",
    "lat_lngs = []\n",
    "cities = []\n",
    "\n",
    "# Create a set of random lat and lng combinations\n",
    "lats = np.random.uniform(lat_range[0], lat_range[1], size=1500)\n",
    "lngs = np.random.uniform(lng_range[0], lng_range[1], size=1500)\n",
    "lat_lngs = zip(lats, lngs)\n",
    "\n",
    "# Identify nearest city for each lat, lng combination\n",
    "for lat_lng in lat_lngs:\n",
    "    city = citipy.nearest_city(lat_lng[0], lat_lng[1]).city_name\n",
    "\n",
    "    \n",
    "    # If the city is unique, then add it to a our cities list\n",
    "    if city not in cities:\n",
    "        cities.append(city)\n",
    "\n",
    "# Print the city count to confirm sufficient count\n",
    "len(cities)\n"
   ]
  },
  {
   "cell_type": "code",
   "execution_count": 3,
   "metadata": {},
   "outputs": [
    {
     "data": {
      "text/html": [
       "<div>\n",
       "<style scoped>\n",
       "    .dataframe tbody tr th:only-of-type {\n",
       "        vertical-align: middle;\n",
       "    }\n",
       "\n",
       "    .dataframe tbody tr th {\n",
       "        vertical-align: top;\n",
       "    }\n",
       "\n",
       "    .dataframe thead th {\n",
       "        text-align: right;\n",
       "    }\n",
       "</style>\n",
       "<table border=\"1\" class=\"dataframe\">\n",
       "  <thead>\n",
       "    <tr style=\"text-align: right;\">\n",
       "      <th></th>\n",
       "      <th>City</th>\n",
       "      <th>Lat</th>\n",
       "      <th>Lng</th>\n",
       "      <th>Max Temp</th>\n",
       "      <th>Humidity</th>\n",
       "      <th>Cloudiness</th>\n",
       "      <th>Wind Speed</th>\n",
       "      <th>Country</th>\n",
       "      <th>Date</th>\n",
       "    </tr>\n",
       "  </thead>\n",
       "  <tbody>\n",
       "    <tr>\n",
       "      <th>0</th>\n",
       "      <td>husavik</td>\n",
       "      <td></td>\n",
       "      <td></td>\n",
       "      <td></td>\n",
       "      <td></td>\n",
       "      <td></td>\n",
       "      <td></td>\n",
       "      <td></td>\n",
       "      <td></td>\n",
       "    </tr>\n",
       "    <tr>\n",
       "      <th>1</th>\n",
       "      <td>kapaa</td>\n",
       "      <td></td>\n",
       "      <td></td>\n",
       "      <td></td>\n",
       "      <td></td>\n",
       "      <td></td>\n",
       "      <td></td>\n",
       "      <td></td>\n",
       "      <td></td>\n",
       "    </tr>\n",
       "    <tr>\n",
       "      <th>2</th>\n",
       "      <td>mbaiki</td>\n",
       "      <td></td>\n",
       "      <td></td>\n",
       "      <td></td>\n",
       "      <td></td>\n",
       "      <td></td>\n",
       "      <td></td>\n",
       "      <td></td>\n",
       "      <td></td>\n",
       "    </tr>\n",
       "    <tr>\n",
       "      <th>3</th>\n",
       "      <td>crab hill</td>\n",
       "      <td></td>\n",
       "      <td></td>\n",
       "      <td></td>\n",
       "      <td></td>\n",
       "      <td></td>\n",
       "      <td></td>\n",
       "      <td></td>\n",
       "      <td></td>\n",
       "    </tr>\n",
       "    <tr>\n",
       "      <th>4</th>\n",
       "      <td>yellowknife</td>\n",
       "      <td></td>\n",
       "      <td></td>\n",
       "      <td></td>\n",
       "      <td></td>\n",
       "      <td></td>\n",
       "      <td></td>\n",
       "      <td></td>\n",
       "      <td></td>\n",
       "    </tr>\n",
       "  </tbody>\n",
       "</table>\n",
       "</div>"
      ],
      "text/plain": [
       "          City Lat Lng Max Temp Humidity Cloudiness Wind Speed Country Date\n",
       "0      husavik                                                             \n",
       "1        kapaa                                                             \n",
       "2       mbaiki                                                             \n",
       "3    crab hill                                                             \n",
       "4  yellowknife                                                             "
      ]
     },
     "execution_count": 3,
     "metadata": {},
     "output_type": "execute_result"
    }
   ],
   "source": [
    "# Create a DataFrame to store the cities and other information\n",
    "df_countries_weather = pd.DataFrame({'City': cities})\n",
    "\n",
    "# Add the other needed lists \n",
    "df_countries_weather['Lat'] = \"\"\n",
    "df_countries_weather['Lng'] = \"\"\n",
    "df_countries_weather['Max Temp'] = \"\"\n",
    "df_countries_weather['Humidity'] = \"\"\n",
    "df_countries_weather['Cloudiness'] = \"\"\n",
    "df_countries_weather['Wind Speed'] = \"\"\n",
    "df_countries_weather['Country'] = \"\"\n",
    "df_countries_weather['Date'] = \"\"\n",
    "\n",
    "df_countries_weather.head()"
   ]
  },
  {
   "cell_type": "code",
   "execution_count": null,
   "metadata": {
    "scrolled": true
   },
   "outputs": [],
   "source": []
  },
  {
   "cell_type": "markdown",
   "metadata": {},
   "source": [
    "### Perform API Calls\n",
    "* Perform a weather check on each city using a series of successive API calls.\n",
    "* Include a print log of each city as it'sbeing processed (with the city number and city name).\n"
   ]
  },
  {
   "cell_type": "code",
   "execution_count": 4,
   "metadata": {},
   "outputs": [
    {
     "name": "stdout",
     "output_type": "stream",
     "text": [
      "Processing Record 1 of Set # 0 | husavik\n",
      "Processing Record 2 of Set # 0 | kapaa\n",
      "Processing Record 3 of Set # 0 | mbaiki\n",
      "Missing weather information for crab hill ... skipping\n",
      "Processing Record 5 of Set # 0 | yellowknife\n",
      "Processing Record 6 of Set # 0 | severo-kurilsk\n",
      "Processing Record 7 of Set # 0 | cape town\n",
      "Processing Record 8 of Set # 0 | butaritari\n",
      "Processing Record 9 of Set # 0 | longyearbyen\n",
      "Processing Record 10 of Set # 0 | okhotsk\n",
      "Processing Record 11 of Set # 0 | hithadhoo\n",
      "Missing weather information for ruatoria ... skipping\n",
      "Processing Record 13 of Set # 0 | albany\n",
      "Processing Record 14 of Set # 0 | norman wells\n",
      "Processing Record 15 of Set # 0 | bathsheba\n",
      "Processing Record 16 of Set # 0 | san cristobal\n",
      "Processing Record 17 of Set # 0 | mataura\n",
      "Processing Record 18 of Set # 0 | rikitea\n",
      "Processing Record 19 of Set # 0 | bambous virieux\n",
      "Processing Record 20 of Set # 0 | jamkhandi\n",
      "Processing Record 21 of Set # 0 | port alfred\n",
      "Processing Record 22 of Set # 0 | raga\n",
      "Processing Record 23 of Set # 0 | ribeira grande\n",
      "Processing Record 24 of Set # 0 | akyab\n",
      "Processing Record 25 of Set # 0 | tuktoyaktuk\n",
      "Processing Record 26 of Set # 0 | punta arenas\n",
      "Processing Record 27 of Set # 0 | tianpeng\n",
      "Processing Record 28 of Set # 0 | oum hadjer\n",
      "Processing Record 29 of Set # 0 | buluang\n",
      "Processing Record 30 of Set # 0 | provideniya\n",
      "Processing Record 31 of Set # 0 | ahipara\n",
      "Processing Record 32 of Set # 0 | batagay-alyta\n",
      "Processing Record 33 of Set # 0 | kearney\n",
      "Processing Record 34 of Set # 0 | mar del plata\n",
      "Processing Record 35 of Set # 0 | miloslavskoye\n",
      "Processing Record 36 of Set # 0 | carnarvon\n",
      "Processing Record 37 of Set # 0 | upernavik\n",
      "Processing Record 38 of Set # 0 | vaini\n",
      "Processing Record 39 of Set # 0 | tricase\n",
      "Processing Record 40 of Set # 0 | tiksi\n",
      "Processing Record 41 of Set # 0 | sitka\n",
      "Processing Record 42 of Set # 0 | tara\n",
      "Processing Record 43 of Set # 0 | atuona\n",
      "Processing Record 44 of Set # 0 | neryungri\n",
      "Processing Record 45 of Set # 0 | castro\n",
      "Processing Record 46 of Set # 0 | ushuaia\n",
      "Processing Record 47 of Set # 0 | labrea\n",
      "Processing Record 48 of Set # 0 | avarua\n",
      "Processing Record 49 of Set # 0 | impfondo\n",
      "Processing Record 50 of Set # 0 | magadan\n",
      "Processing Record 1 of Set # 1 | busselton\n",
      "Processing Record 2 of Set # 1 | kaa-khem\n",
      "Processing Record 3 of Set # 1 | chuy\n",
      "Processing Record 4 of Set # 1 | esperance\n",
      "Processing Record 5 of Set # 1 | havre-saint-pierre\n",
      "Processing Record 6 of Set # 1 | chokurdakh\n",
      "Processing Record 7 of Set # 1 | nikolskoye\n",
      "Processing Record 8 of Set # 1 | loreto\n",
      "Processing Record 9 of Set # 1 | qaanaaq\n",
      "Processing Record 10 of Set # 1 | flinders\n",
      "Processing Record 11 of Set # 1 | east london\n",
      "Processing Record 12 of Set # 1 | aykhal\n",
      "Processing Record 13 of Set # 1 | palmer\n",
      "Processing Record 14 of Set # 1 | bellefontaine\n",
      "Processing Record 15 of Set # 1 | isla mujeres\n",
      "Processing Record 16 of Set # 1 | arraial do cabo\n",
      "Processing Record 17 of Set # 1 | waverley\n",
      "Processing Record 18 of Set # 1 | bengkulu\n",
      "Processing Record 19 of Set # 1 | sept-iles\n",
      "Processing Record 20 of Set # 1 | jamestown\n",
      "Processing Record 21 of Set # 1 | pevek\n",
      "Processing Record 22 of Set # 1 | kavaratti\n",
      "Processing Record 23 of Set # 1 | dandong\n",
      "Processing Record 24 of Set # 1 | barrow\n",
      "Processing Record 25 of Set # 1 | beckley\n",
      "Processing Record 26 of Set # 1 | kolyvan\n",
      "Processing Record 27 of Set # 1 | saldanha\n",
      "Missing weather information for ambodifototra ... skipping\n",
      "Processing Record 29 of Set # 1 | puerto ayora\n",
      "Processing Record 30 of Set # 1 | hobart\n",
      "Processing Record 31 of Set # 1 | loa janan\n",
      "Processing Record 32 of Set # 1 | besskorbnaya\n",
      "Processing Record 33 of Set # 1 | port elizabeth\n",
      "Missing weather information for grand river south east ... skipping\n",
      "Processing Record 35 of Set # 1 | cururupu\n",
      "Processing Record 36 of Set # 1 | tateyama\n",
      "Processing Record 37 of Set # 1 | buala\n",
      "Processing Record 38 of Set # 1 | saint george\n",
      "Processing Record 39 of Set # 1 | miri\n",
      "Processing Record 40 of Set # 1 | berlevag\n",
      "Processing Record 41 of Set # 1 | kisangani\n",
      "Missing weather information for tumannyy ... skipping\n",
      "Processing Record 43 of Set # 1 | avera\n",
      "Missing weather information for sentyabrskiy ... skipping\n",
      "Processing Record 45 of Set # 1 | manado\n",
      "Processing Record 46 of Set # 1 | khatanga\n",
      "Processing Record 47 of Set # 1 | bredasdorp\n",
      "Processing Record 48 of Set # 1 | bluff\n",
      "Processing Record 49 of Set # 1 | maiduguri\n",
      "Processing Record 50 of Set # 1 | vardo\n",
      "Missing weather information for taolanaro ... skipping\n",
      "Processing Record 2 of Set # 2 | fairbanks\n",
      "Processing Record 3 of Set # 2 | pedernales\n",
      "Missing weather information for nizhneyansk ... skipping\n",
      "Processing Record 5 of Set # 2 | lompoc\n",
      "Processing Record 6 of Set # 2 | makakilo city\n",
      "Processing Record 7 of Set # 2 | port pirie\n",
      "Processing Record 8 of Set # 2 | borogontsy\n",
      "Processing Record 9 of Set # 2 | kavieng\n",
      "Processing Record 10 of Set # 2 | perry\n",
      "Processing Record 11 of Set # 2 | fortuna\n",
      "Processing Record 12 of Set # 2 | krasnoselkup\n",
      "Processing Record 13 of Set # 2 | dhrol\n",
      "Processing Record 14 of Set # 2 | mount gambier\n",
      "Processing Record 15 of Set # 2 | batangafo\n",
      "Processing Record 16 of Set # 2 | flin flon\n",
      "Processing Record 17 of Set # 2 | antalaha\n",
      "Processing Record 18 of Set # 2 | thompson\n",
      "Processing Record 19 of Set # 2 | puerto narino\n",
      "Processing Record 20 of Set # 2 | hilo\n",
      "Processing Record 21 of Set # 2 | jagdalpur\n",
      "Processing Record 22 of Set # 2 | georgetown\n",
      "Processing Record 23 of Set # 2 | marfino\n",
      "Processing Record 24 of Set # 2 | luena\n",
      "Missing weather information for barentsburg ... skipping\n",
      "Processing Record 26 of Set # 2 | tyazhinskiy\n",
      "Processing Record 27 of Set # 2 | paamiut\n",
      "Processing Record 28 of Set # 2 | adrar\n",
      "Missing weather information for umzimvubu ... skipping\n",
      "Processing Record 30 of Set # 2 | sorong\n",
      "Processing Record 31 of Set # 2 | baghmara\n",
      "Missing weather information for samusu ... skipping\n",
      "Processing Record 33 of Set # 2 | lagoa\n",
      "Processing Record 34 of Set # 2 | rosarito\n",
      "Processing Record 35 of Set # 2 | new norfolk\n",
      "Processing Record 36 of Set # 2 | dhidhdhoo\n",
      "Processing Record 37 of Set # 2 | kodiak\n",
      "Processing Record 38 of Set # 2 | ongandjera\n",
      "Processing Record 39 of Set # 2 | half moon bay\n",
      "Processing Record 40 of Set # 2 | cabo san lucas\n",
      "Processing Record 41 of Set # 2 | faanui\n",
      "Processing Record 42 of Set # 2 | oussouye\n",
      "Processing Record 43 of Set # 2 | bahraich\n",
      "Processing Record 44 of Set # 2 | luis correia\n",
      "Processing Record 45 of Set # 2 | cam ranh\n",
      "Processing Record 46 of Set # 2 | mogadishu\n",
      "Processing Record 47 of Set # 2 | portland\n",
      "Processing Record 48 of Set # 2 | kirakira\n",
      "Processing Record 49 of Set # 2 | pacifica\n",
      "Processing Record 50 of Set # 2 | airai\n",
      "Processing Record 1 of Set # 3 | salalah\n",
      "Processing Record 2 of Set # 3 | bichena\n",
      "Processing Record 3 of Set # 3 | nuuk\n",
      "Processing Record 4 of Set # 3 | zhanaozen\n",
      "Processing Record 5 of Set # 3 | cidreira\n",
      "Processing Record 6 of Set # 3 | egvekinot\n",
      "Processing Record 7 of Set # 3 | awjilah\n",
      "Processing Record 8 of Set # 3 | nioro\n",
      "Processing Record 9 of Set # 3 | bonthe\n",
      "Processing Record 10 of Set # 3 | port hardy\n",
      "Processing Record 11 of Set # 3 | kurilsk\n",
      "Processing Record 12 of Set # 3 | tura\n",
      "Processing Record 13 of Set # 3 | port blair\n",
      "Processing Record 14 of Set # 3 | hasaki\n",
      "Processing Record 15 of Set # 3 | saint-philippe\n",
      "Processing Record 16 of Set # 3 | eagle pass\n",
      "Processing Record 17 of Set # 3 | russell\n",
      "Processing Record 18 of Set # 3 | valparaiso\n",
      "Processing Record 19 of Set # 3 | the valley\n",
      "Processing Record 20 of Set # 3 | bad kreuznach\n",
      "Processing Record 21 of Set # 3 | hermanus\n",
      "Processing Record 22 of Set # 3 | bitung\n",
      "Processing Record 23 of Set # 3 | tasiilaq\n",
      "Processing Record 24 of Set # 3 | meulaboh\n",
      "Processing Record 25 of Set # 3 | pochutla\n",
      "Processing Record 26 of Set # 3 | marsa matruh\n",
      "Processing Record 27 of Set # 3 | klaksvik\n",
      "Processing Record 28 of Set # 3 | lebu\n",
      "Processing Record 29 of Set # 3 | kudahuvadhoo\n",
      "Processing Record 30 of Set # 3 | cherskiy\n",
      "Processing Record 31 of Set # 3 | margate\n",
      "Missing weather information for ituni ... skipping\n",
      "Processing Record 33 of Set # 3 | luorong\n",
      "Processing Record 34 of Set # 3 | beringovskiy\n",
      "Processing Record 35 of Set # 3 | tahoua\n",
      "Processing Record 36 of Set # 3 | kununurra\n"
     ]
    },
    {
     "name": "stdout",
     "output_type": "stream",
     "text": [
      "Processing Record 37 of Set # 3 | souillac\n",
      "Processing Record 38 of Set # 3 | gympie\n",
      "Processing Record 39 of Set # 3 | nijar\n",
      "Processing Record 40 of Set # 3 | chapais\n",
      "Processing Record 41 of Set # 3 | darhan\n",
      "Processing Record 42 of Set # 3 | trincomalee\n",
      "Processing Record 43 of Set # 3 | cabra\n",
      "Processing Record 44 of Set # 3 | danjiangkou\n",
      "Processing Record 45 of Set # 3 | cayenne\n",
      "Processing Record 46 of Set # 3 | tynda\n",
      "Processing Record 47 of Set # 3 | nizhnevartovsk\n",
      "Missing weather information for bacuit ... skipping\n",
      "Processing Record 49 of Set # 3 | espinosa\n",
      "Processing Record 50 of Set # 3 | lodja\n",
      "Processing Record 1 of Set # 4 | ilulissat\n",
      "Processing Record 2 of Set # 4 | emba\n",
      "Processing Record 3 of Set # 4 | yar-sale\n",
      "Processing Record 4 of Set # 4 | oranjemund\n",
      "Processing Record 5 of Set # 4 | liwale\n",
      "Processing Record 6 of Set # 4 | bonavista\n",
      "Processing Record 7 of Set # 4 | nova olinda do norte\n",
      "Processing Record 8 of Set # 4 | manokwari\n",
      "Processing Record 9 of Set # 4 | ialibu\n",
      "Processing Record 10 of Set # 4 | samarai\n",
      "Processing Record 11 of Set # 4 | gornyy\n",
      "Processing Record 12 of Set # 4 | kulhudhuffushi\n",
      "Processing Record 13 of Set # 4 | gumdag\n",
      "Processing Record 14 of Set # 4 | verkhnyaya toyma\n",
      "Processing Record 15 of Set # 4 | tres arroyos\n",
      "Processing Record 16 of Set # 4 | mildura\n",
      "Processing Record 17 of Set # 4 | fukue\n",
      "Processing Record 18 of Set # 4 | burnie\n",
      "Processing Record 19 of Set # 4 | luderitz\n",
      "Processing Record 20 of Set # 4 | port lincoln\n",
      "Processing Record 21 of Set # 4 | vila velha\n",
      "Missing weather information for aflu ... skipping\n",
      "Processing Record 23 of Set # 4 | saint anthony\n",
      "Processing Record 24 of Set # 4 | seymchan\n",
      "Processing Record 25 of Set # 4 | ermelo\n",
      "Missing weather information for khonuu ... skipping\n",
      "Processing Record 27 of Set # 4 | rio gallegos\n",
      "Processing Record 28 of Set # 4 | atambua\n",
      "Processing Record 29 of Set # 4 | leningradskiy\n",
      "Processing Record 30 of Set # 4 | mount isa\n",
      "Processing Record 31 of Set # 4 | zyryanovsk\n",
      "Processing Record 32 of Set # 4 | isangel\n",
      "Missing weather information for illoqqortoormiut ... skipping\n",
      "Processing Record 34 of Set # 4 | kamenka\n",
      "Missing weather information for skalistyy ... skipping\n",
      "Processing Record 36 of Set # 4 | traverse city\n",
      "Missing weather information for cam pha ... skipping\n",
      "Missing weather information for belushya guba ... skipping\n",
      "Processing Record 39 of Set # 4 | luanda\n",
      "Processing Record 40 of Set # 4 | azul\n",
      "Processing Record 41 of Set # 4 | guia de isora\n",
      "Processing Record 42 of Set # 4 | moussoro\n",
      "Processing Record 43 of Set # 4 | cartagena\n",
      "Processing Record 44 of Set # 4 | rawson\n",
      "Processing Record 45 of Set # 4 | cozumel\n",
      "Processing Record 46 of Set # 4 | victoria\n",
      "Processing Record 47 of Set # 4 | lorengau\n",
      "Processing Record 48 of Set # 4 | charters towers\n",
      "Processing Record 49 of Set # 4 | navirai\n",
      "Missing weather information for mentok ... skipping\n",
      "Processing Record 1 of Set # 5 | saint-francois\n",
      "Processing Record 2 of Set # 5 | semnan\n",
      "Processing Record 3 of Set # 5 | nome\n",
      "Processing Record 4 of Set # 5 | pak phanang\n",
      "Missing weather information for toliary ... skipping\n",
      "Processing Record 6 of Set # 5 | touros\n",
      "Processing Record 7 of Set # 5 | torbay\n",
      "Processing Record 8 of Set # 5 | mvuma\n",
      "Processing Record 9 of Set # 5 | atar\n",
      "Processing Record 10 of Set # 5 | shingu\n",
      "Processing Record 11 of Set # 5 | boende\n",
      "Processing Record 12 of Set # 5 | san borja\n",
      "Processing Record 13 of Set # 5 | royan\n",
      "Processing Record 14 of Set # 5 | chokwe\n",
      "Processing Record 15 of Set # 5 | lena\n",
      "Processing Record 16 of Set # 5 | marzuq\n",
      "Processing Record 17 of Set # 5 | indian head\n",
      "Processing Record 18 of Set # 5 | hervey bay\n",
      "Processing Record 19 of Set # 5 | sao miguel do araguaia\n",
      "Processing Record 20 of Set # 5 | dingle\n",
      "Processing Record 21 of Set # 5 | iskateley\n",
      "Processing Record 22 of Set # 5 | teahupoo\n",
      "Missing weather information for makung ... skipping\n",
      "Processing Record 24 of Set # 5 | acari\n",
      "Processing Record 25 of Set # 5 | ancud\n",
      "Processing Record 26 of Set # 5 | dzaoudzi\n",
      "Missing weather information for viligili ... skipping\n",
      "Processing Record 28 of Set # 5 | khipro\n",
      "Processing Record 29 of Set # 5 | zhigansk\n",
      "Processing Record 30 of Set # 5 | teya\n",
      "Processing Record 31 of Set # 5 | banes\n",
      "Missing weather information for solsvik ... skipping\n",
      "Processing Record 33 of Set # 5 | conakry\n",
      "Processing Record 34 of Set # 5 | katsuura\n",
      "Processing Record 35 of Set # 5 | manoel urbano\n",
      "Processing Record 36 of Set # 5 | kendari\n",
      "Processing Record 37 of Set # 5 | bethel\n",
      "Processing Record 38 of Set # 5 | newport\n",
      "Processing Record 39 of Set # 5 | zhob\n",
      "Missing weather information for amderma ... skipping\n",
      "Processing Record 41 of Set # 5 | izumo\n",
      "Processing Record 42 of Set # 5 | la tuque\n",
      "Processing Record 43 of Set # 5 | bar bigha\n",
      "Processing Record 44 of Set # 5 | mnogovershinnyy\n",
      "Processing Record 45 of Set # 5 | manzhouli\n",
      "Processing Record 46 of Set # 5 | goderich\n",
      "Processing Record 47 of Set # 5 | ifakara\n",
      "Processing Record 48 of Set # 5 | tecoanapa\n",
      "Processing Record 49 of Set # 5 | bartow\n",
      "Processing Record 50 of Set # 5 | innisfail\n",
      "Processing Record 1 of Set # 6 | parkes\n",
      "Processing Record 2 of Set # 6 | srednekolymsk\n",
      "Processing Record 3 of Set # 6 | laurel\n",
      "Processing Record 4 of Set # 6 | kedrovyy\n",
      "Processing Record 5 of Set # 6 | lazaro cardenas\n",
      "Processing Record 6 of Set # 6 | loukhi\n",
      "Processing Record 7 of Set # 6 | acarau\n",
      "Processing Record 8 of Set # 6 | kjopsvik\n",
      "Missing weather information for stoyba ... skipping\n",
      "Processing Record 10 of Set # 6 | coquimbo\n",
      "Processing Record 11 of Set # 6 | dauphin\n",
      "Processing Record 12 of Set # 6 | kenai\n",
      "Processing Record 13 of Set # 6 | mandurah\n",
      "Processing Record 14 of Set # 6 | kaitangata\n",
      "Processing Record 15 of Set # 6 | yulara\n",
      "Processing Record 16 of Set # 6 | umm lajj\n",
      "Processing Record 17 of Set # 6 | kruisfontein\n",
      "Processing Record 18 of Set # 6 | aklavik\n",
      "Missing weather information for saleaula ... skipping\n",
      "Processing Record 20 of Set # 6 | log\n",
      "Processing Record 21 of Set # 6 | saint-augustin\n",
      "Processing Record 22 of Set # 6 | klyuchi\n",
      "Processing Record 23 of Set # 6 | pacific grove\n",
      "Processing Record 24 of Set # 6 | yarada\n",
      "Processing Record 25 of Set # 6 | hurghada\n",
      "Processing Record 26 of Set # 6 | paraiso\n",
      "Processing Record 27 of Set # 6 | katy\n",
      "Processing Record 28 of Set # 6 | paltin\n",
      "Processing Record 29 of Set # 6 | vostok\n",
      "Processing Record 30 of Set # 6 | sao joao da barra\n",
      "Processing Record 31 of Set # 6 | narsaq\n",
      "Processing Record 32 of Set # 6 | soure\n",
      "Processing Record 33 of Set # 6 | topolobampo\n",
      "Processing Record 34 of Set # 6 | alice springs\n",
      "Processing Record 35 of Set # 6 | grand gaube\n",
      "Processing Record 36 of Set # 6 | itoman\n",
      "Processing Record 37 of Set # 6 | sangar\n",
      "Processing Record 38 of Set # 6 | kampong cham\n",
      "Processing Record 39 of Set # 6 | rocha\n",
      "Processing Record 40 of Set # 6 | mackay\n",
      "Processing Record 41 of Set # 6 | springbok\n",
      "Processing Record 42 of Set # 6 | falmouth\n",
      "Processing Record 43 of Set # 6 | quirinopolis\n",
      "Processing Record 44 of Set # 6 | alta floresta\n",
      "Processing Record 45 of Set # 6 | kovdor\n",
      "Processing Record 46 of Set # 6 | namatanai\n",
      "Processing Record 47 of Set # 6 | leh\n",
      "Processing Record 48 of Set # 6 | baykit\n",
      "Processing Record 49 of Set # 6 | maasim\n",
      "Processing Record 50 of Set # 6 | pospelikha\n",
      "Processing Record 1 of Set # 7 | harlow\n",
      "Missing weather information for vaitupu ... skipping\n",
      "Processing Record 3 of Set # 7 | mountain home\n",
      "Processing Record 4 of Set # 7 | imbituba\n",
      "Missing weather information for attawapiskat ... skipping\n",
      "Processing Record 6 of Set # 7 | bikaner\n",
      "Processing Record 7 of Set # 7 | fez\n",
      "Processing Record 8 of Set # 7 | hamilton\n",
      "Processing Record 9 of Set # 7 | christchurch\n",
      "Processing Record 10 of Set # 7 | pontianak\n",
      "Processing Record 11 of Set # 7 | ambilobe\n",
      "Processing Record 12 of Set # 7 | ararat\n",
      "Processing Record 13 of Set # 7 | kumla\n",
      "Processing Record 14 of Set # 7 | inhambane\n",
      "Processing Record 15 of Set # 7 | mahebourg\n",
      "Processing Record 16 of Set # 7 | riyadh\n",
      "Processing Record 17 of Set # 7 | baruun-urt\n",
      "Missing weather information for chom bung ... skipping\n",
      "Processing Record 19 of Set # 7 | talnakh\n",
      "Processing Record 20 of Set # 7 | kloulklubed\n",
      "Processing Record 21 of Set # 7 | bilma\n",
      "Processing Record 22 of Set # 7 | valleyview\n",
      "Processing Record 23 of Set # 7 | acapulco\n"
     ]
    },
    {
     "name": "stdout",
     "output_type": "stream",
     "text": [
      "Processing Record 24 of Set # 7 | kieta\n",
      "Processing Record 25 of Set # 7 | mascote\n",
      "Processing Record 26 of Set # 7 | eydhafushi\n",
      "Processing Record 27 of Set # 7 | kitob\n",
      "Processing Record 28 of Set # 7 | namibe\n",
      "Processing Record 29 of Set # 7 | toora-khem\n",
      "Processing Record 30 of Set # 7 | cascais\n",
      "Processing Record 31 of Set # 7 | moscow\n",
      "Processing Record 32 of Set # 7 | haines junction\n",
      "Missing weather information for dekoa ... skipping\n",
      "Processing Record 34 of Set # 7 | tyukalinsk\n",
      "Processing Record 35 of Set # 7 | cockburn town\n",
      "Processing Record 36 of Set # 7 | bay roberts\n",
      "Processing Record 37 of Set # 7 | juegang\n",
      "Processing Record 38 of Set # 7 | ambon\n",
      "Processing Record 39 of Set # 7 | cosoleacaque\n",
      "Processing Record 40 of Set # 7 | jalu\n",
      "Processing Record 41 of Set # 7 | aden\n",
      "Processing Record 42 of Set # 7 | kalabo\n",
      "Processing Record 43 of Set # 7 | poya\n",
      "Processing Record 44 of Set # 7 | challans\n",
      "Processing Record 45 of Set # 7 | coihaique\n",
      "Processing Record 46 of Set # 7 | campo maior\n",
      "Processing Record 47 of Set # 7 | los angeles\n",
      "Processing Record 48 of Set # 7 | muscat\n",
      "Processing Record 49 of Set # 7 | arlit\n",
      "Processing Record 50 of Set # 7 | jacqueville\n",
      "Processing Record 1 of Set # 8 | zeya\n",
      "Processing Record 2 of Set # 8 | hobyo\n",
      "Processing Record 3 of Set # 8 | kurumkan\n",
      "Processing Record 4 of Set # 8 | alyangula\n",
      "Processing Record 5 of Set # 8 | havoysund\n",
      "Processing Record 6 of Set # 8 | mandera\n",
      "Missing weather information for kuche ... skipping\n",
      "Processing Record 8 of Set # 8 | batouri\n",
      "Processing Record 9 of Set # 8 | westport\n",
      "Missing weather information for palabuhanratu ... skipping\n",
      "Processing Record 11 of Set # 8 | balkanabat\n",
      "Processing Record 12 of Set # 8 | lamu\n",
      "Processing Record 13 of Set # 8 | biryusinsk\n",
      "Processing Record 14 of Set # 8 | mariestad\n",
      "Processing Record 15 of Set # 8 | coronado\n",
      "Missing weather information for louisbourg ... skipping\n",
      "Processing Record 17 of Set # 8 | butwal\n",
      "Processing Record 18 of Set # 8 | pitimbu\n",
      "Processing Record 19 of Set # 8 | antigonish\n",
      "Processing Record 20 of Set # 8 | yeppoon\n",
      "Processing Record 21 of Set # 8 | vitim\n",
      "Processing Record 22 of Set # 8 | tromso\n",
      "Processing Record 23 of Set # 8 | camocim\n",
      "Missing weather information for bolungarvik ... skipping\n",
      "Processing Record 25 of Set # 8 | seoul\n",
      "Processing Record 26 of Set # 8 | bud\n",
      "Processing Record 27 of Set # 8 | wellington\n",
      "Processing Record 28 of Set # 8 | moree\n",
      "Processing Record 29 of Set # 8 | sambava\n",
      "Processing Record 30 of Set # 8 | qostanay\n",
      "Processing Record 31 of Set # 8 | poum\n",
      "Processing Record 32 of Set # 8 | changping\n",
      "Processing Record 33 of Set # 8 | iqaluit\n",
      "Processing Record 34 of Set # 8 | normandin\n",
      "Processing Record 35 of Set # 8 | nicoya\n",
      "Processing Record 36 of Set # 8 | baraki barak\n",
      "Processing Record 37 of Set # 8 | labuhan\n",
      "Processing Record 38 of Set # 8 | alghero\n",
      "Missing weather information for silyanah ... skipping\n",
      "Processing Record 40 of Set # 8 | pafos\n",
      "Processing Record 41 of Set # 8 | kizhinga\n",
      "Processing Record 42 of Set # 8 | bundaberg\n",
      "Processing Record 43 of Set # 8 | nouakchott\n",
      "Processing Record 44 of Set # 8 | sturgeon falls\n",
      "Processing Record 45 of Set # 8 | saskylakh\n",
      "Processing Record 46 of Set # 8 | vila do maio\n",
      "Processing Record 47 of Set # 8 | caravelas\n",
      "Processing Record 48 of Set # 8 | nanortalik\n",
      "Processing Record 49 of Set # 8 | college\n",
      "Processing Record 50 of Set # 8 | mancio lima\n",
      "Processing Record 1 of Set # 9 | sauda\n",
      "Processing Record 2 of Set # 9 | pareora\n",
      "Processing Record 3 of Set # 9 | udachnyy\n",
      "Processing Record 4 of Set # 9 | padang\n",
      "Missing weather information for kazalinsk ... skipping\n",
      "Missing weather information for chagda ... skipping\n",
      "Processing Record 7 of Set # 9 | geraldton\n",
      "Processing Record 8 of Set # 9 | gilgit\n",
      "Processing Record 9 of Set # 9 | sola\n",
      "Processing Record 10 of Set # 9 | dakar\n",
      "Processing Record 11 of Set # 9 | upata\n",
      "Processing Record 12 of Set # 9 | halifax\n",
      "Processing Record 13 of Set # 9 | tuatapere\n",
      "Processing Record 14 of Set # 9 | tual\n",
      "Processing Record 15 of Set # 9 | newport news\n",
      "Processing Record 16 of Set # 9 | capoterra\n",
      "Processing Record 17 of Set # 9 | vanimo\n",
      "Processing Record 18 of Set # 9 | avila\n",
      "Processing Record 19 of Set # 9 | aripuana\n",
      "Processing Record 20 of Set # 9 | panguna\n",
      "Processing Record 21 of Set # 9 | odweyne\n",
      "Processing Record 22 of Set # 9 | miracema do tocantins\n",
      "Processing Record 23 of Set # 9 | camacupa\n",
      "Processing Record 24 of Set # 9 | praia\n",
      "Processing Record 25 of Set # 9 | ciudad bolivar\n",
      "Processing Record 26 of Set # 9 | karasjok\n",
      "Processing Record 27 of Set # 9 | bemidji\n",
      "Processing Record 28 of Set # 9 | santona\n",
      "Processing Record 29 of Set # 9 | ahuimanu\n",
      "Processing Record 30 of Set # 9 | ati\n",
      "Processing Record 31 of Set # 9 | vestmannaeyjar\n",
      "Processing Record 32 of Set # 9 | sao filipe\n",
      "Processing Record 33 of Set # 9 | lavrentiya\n",
      "Processing Record 34 of Set # 9 | tucupita\n",
      "Processing Record 35 of Set # 9 | saraland\n",
      "Processing Record 36 of Set # 9 | kontagora\n",
      "Processing Record 37 of Set # 9 | bambanglipuro\n",
      "Processing Record 38 of Set # 9 | tagusao\n",
      "Processing Record 39 of Set # 9 | tautira\n",
      "Processing Record 40 of Set # 9 | teseney\n",
      "Processing Record 41 of Set # 9 | sao lourenco do sul\n",
      "Processing Record 42 of Set # 9 | vila franca do campo\n",
      "Processing Record 43 of Set # 9 | alekseyevka\n",
      "Processing Record 44 of Set # 9 | orsk\n",
      "Processing Record 45 of Set # 9 | murgab\n",
      "Processing Record 46 of Set # 9 | bojnurd\n",
      "Processing Record 47 of Set # 9 | batemans bay\n",
      "Processing Record 48 of Set # 9 | keti bandar\n",
      "Processing Record 49 of Set # 9 | abu samrah\n",
      "Processing Record 50 of Set # 9 | alofi\n",
      "Processing Record 1 of Set # 10 | port macquarie\n",
      "Processing Record 2 of Set # 10 | coihueco\n",
      "Processing Record 3 of Set # 10 | muzhi\n",
      "Processing Record 4 of Set # 10 | pangkalanbuun\n",
      "Processing Record 5 of Set # 10 | bras-panon\n",
      "Processing Record 6 of Set # 10 | walldurn\n",
      "Processing Record 7 of Set # 10 | teacapan\n",
      "Missing weather information for sidi bu zayd ... skipping\n",
      "Processing Record 9 of Set # 10 | maningrida\n",
      "Processing Record 10 of Set # 10 | kupang\n",
      "Processing Record 11 of Set # 10 | sokoni\n",
      "Missing weather information for sataua ... skipping\n",
      "Processing Record 13 of Set # 10 | irtyshskiy\n",
      "Processing Record 14 of Set # 10 | san juan de los morros\n",
      "Processing Record 15 of Set # 10 | itarema\n",
      "Processing Record 16 of Set # 10 | gaya\n",
      "Processing Record 17 of Set # 10 | san ignacio\n",
      "Processing Record 18 of Set # 10 | gigmoto\n",
      "Processing Record 19 of Set # 10 | puerto quijarro\n",
      "Processing Record 20 of Set # 10 | moose factory\n",
      "Processing Record 21 of Set # 10 | cap malheureux\n",
      "Processing Record 22 of Set # 10 | riacho de santana\n",
      "Processing Record 23 of Set # 10 | nedjo\n",
      "Processing Record 24 of Set # 10 | imeni morozova\n",
      "Processing Record 25 of Set # 10 | yerbogachen\n",
      "Processing Record 26 of Set # 10 | makhachkala\n",
      "Processing Record 27 of Set # 10 | amravati\n",
      "Processing Record 28 of Set # 10 | dikson\n",
      "Processing Record 29 of Set # 10 | te anau\n",
      "Processing Record 30 of Set # 10 | sri aman\n",
      "Processing Record 31 of Set # 10 | basco\n",
      "Processing Record 32 of Set # 10 | roznava\n",
      "Missing weather information for tsihombe ... skipping\n",
      "Processing Record 34 of Set # 10 | betare oya\n",
      "Processing Record 35 of Set # 10 | nenjiang\n",
      "Processing Record 36 of Set # 10 | antofagasta\n",
      "Processing Record 37 of Set # 10 | marietta\n",
      "Processing Record 38 of Set # 10 | viet tri\n",
      "Processing Record 39 of Set # 10 | rafaela\n",
      "Processing Record 40 of Set # 10 | khani\n",
      "Processing Record 41 of Set # 10 | kalikapur\n",
      "Processing Record 42 of Set # 10 | bayan\n",
      "Processing Record 43 of Set # 10 | svetlogorsk\n",
      "Processing Record 44 of Set # 10 | mandalgovi\n",
      "Processing Record 45 of Set # 10 | khasan\n",
      "Processing Record 46 of Set # 10 | pisco\n",
      "Processing Record 47 of Set # 10 | constitucion\n",
      "Processing Record 48 of Set # 10 | sisimiut\n",
      "Processing Record 49 of Set # 10 | georgiyevka\n",
      "Processing Record 50 of Set # 10 | lahaina\n",
      "Processing Record 1 of Set # 11 | port-cartier\n",
      "Processing Record 2 of Set # 11 | lata\n",
      "Processing Record 3 of Set # 11 | san patricio\n",
      "Processing Record 4 of Set # 11 | codrington\n",
      "Processing Record 5 of Set # 11 | yacuiba\n",
      "Processing Record 6 of Set # 11 | gander\n",
      "Processing Record 7 of Set # 11 | ponta do sol\n",
      "Processing Record 8 of Set # 11 | syntul\n",
      "Processing Record 9 of Set # 11 | wuwei\n",
      "Processing Record 10 of Set # 11 | vitoria\n"
     ]
    },
    {
     "name": "stdout",
     "output_type": "stream",
     "text": [
      "Processing Record 11 of Set # 11 | grindavik\n",
      "Processing Record 12 of Set # 11 | zhuhai\n",
      "Processing Record 13 of Set # 11 | buzdyak\n",
      "Processing Record 14 of Set # 11 | ocampo\n",
      "Processing Record 15 of Set # 11 | tshikapa\n",
      "Processing Record 16 of Set # 11 | wanning\n",
      "Processing Record 17 of Set # 11 | state college\n",
      "Processing Record 18 of Set # 11 | miguelopolis\n",
      "Processing Record 19 of Set # 11 | mayya\n",
      "Processing Record 20 of Set # 11 | mehamn\n",
      "Processing Record 21 of Set # 11 | rio grande\n",
      "Processing Record 22 of Set # 11 | keetmanshoop\n",
      "Processing Record 23 of Set # 11 | kenora\n",
      "Processing Record 24 of Set # 11 | raudeberg\n",
      "Processing Record 25 of Set # 11 | porto santo\n",
      "Processing Record 26 of Set # 11 | xuanhua\n",
      "Processing Record 27 of Set # 11 | la serena\n",
      "Processing Record 28 of Set # 11 | laupheim\n",
      "Processing Record 29 of Set # 11 | mayo\n",
      "Processing Record 30 of Set # 11 | menongue\n",
      "Processing Record 31 of Set # 11 | mataram\n",
      "Processing Record 32 of Set # 11 | sur\n",
      "Processing Record 33 of Set # 11 | mingshui\n",
      "Processing Record 34 of Set # 11 | kokoda\n",
      "Processing Record 35 of Set # 11 | bagdarin\n",
      "Processing Record 36 of Set # 11 | komsomolskiy\n",
      "Processing Record 37 of Set # 11 | soe\n",
      "Processing Record 38 of Set # 11 | boyolangu\n",
      "Missing weather information for lolua ... skipping\n",
      "Processing Record 40 of Set # 11 | copiapo\n",
      "Processing Record 41 of Set # 11 | sunrise manor\n",
      "Processing Record 42 of Set # 11 | ugoofaaru\n",
      "Missing weather information for tir pol ... skipping\n",
      "Processing Record 44 of Set # 11 | bosaso\n",
      "Processing Record 45 of Set # 11 | tukrah\n",
      "Processing Record 46 of Set # 11 | konevo\n",
      "Missing weather information for sayalgudi ... skipping\n",
      "Processing Record 48 of Set # 11 | huancavelica\n",
      "Processing Record 49 of Set # 11 | moindou\n",
      "Processing Record 50 of Set # 11 | usinsk\n",
      "Processing Record 1 of Set # 12 | abu kamal\n",
      "Processing Record 2 of Set # 12 | quatre cocos\n",
      "Processing of weather data successfully completed for 558 cities\n"
     ]
    }
   ],
   "source": [
    "# Starting URL for Weather Map API Call.\n",
    "url = \"http://api.openweathermap.org/data/2.5/weather?\" \n",
    "units = \"imperial\"\n",
    "\n",
    "# keeps count of those cities whose weather information is successfully retrieved\n",
    "cities_cnt = 0\n",
    "\n",
    "# Keep count of the API calls.\n",
    "calls_to_api = 1 \n",
    "\n",
    "# counter to count the number of call sets of 50\n",
    "sets_of_50 = 0 \n",
    "\n",
    "#loop through all rows and fill in values for blank columns in dataframe\n",
    "\n",
    "for index, row in df_countries_weather.iterrows():\n",
    "    city_name = row['City']\n",
    "    \n",
    "    # The targeted API call for all the Cities in the list. \n",
    "    \n",
    "    query_url = url + \"appid=\" + weather_api_key + \"&q=\" + city_name + \"&units=\" + units\n",
    "    \n",
    "    city_wthr = requests.get(query_url).json()\n",
    "        \n",
    "    try:\n",
    "        df_countries_weather.loc[index,'Lat'] = city_wthr['coord']['lat']\n",
    "        df_countries_weather.loc[index,'Lng'] = city_wthr['coord']['lon']\n",
    "        df_countries_weather.loc[index,'Max Temp'] = city_wthr['main']['temp_max']\n",
    "        df_countries_weather.loc[index,'Humidity'] = city_wthr['main']['humidity']\n",
    "        df_countries_weather.loc[index,'Cloudiness'] = city_wthr['clouds']['all']\n",
    "        df_countries_weather.loc[index,'Wind Speed'] = city_wthr['wind']['speed']\n",
    "        df_countries_weather.loc[index,'Country'] = city_wthr['sys']['country']\n",
    "        df_countries_weather.loc[index, 'Date'] = city_wthr['dt']\n",
    "        \n",
    "        # Print the log for each city successfully processed.\n",
    "        print(f'Processing Record {calls_to_api} of Set # {sets_of_50} | {city_name}' )\n",
    "        \n",
    "        # Increment if you successfully retrieve weather information for a city.\n",
    "        cities_cnt += 1 \n",
    "    \n",
    "    except KeyError:\n",
    "        # If the city cannot be processed send a message and continue.\n",
    "        print(f\"Missing weather information for {city_name} ... skipping\")\n",
    "    \n",
    "    calls_to_api += 1  \n",
    "    \n",
    "    # loop to limit 50 API calls per minute as there is an API \n",
    "    # limit on the number of calls per minute\n",
    "    \n",
    "    if calls_to_api > 50: \n",
    "        time.sleep(1)\n",
    "        \n",
    "        # Reset it for next 50 calls\n",
    "        calls_to_api = 1 \n",
    "        \n",
    "        # Increment which set of 50 calls you are on.\n",
    "        sets_of_50 += 1\n",
    "\n",
    "print(f\"Processing of weather data successfully completed for {cities_cnt} cities\")\n",
    "\n"
   ]
  },
  {
   "cell_type": "code",
   "execution_count": 5,
   "metadata": {},
   "outputs": [
    {
     "name": "stdout",
     "output_type": "stream",
     "text": [
      "          City      Lat      Lng Max Temp Humidity Cloudiness Wind Speed  \\\n",
      "0      husavik  66.0449 -17.3389    49.91       98        100      11.03   \n",
      "1        kapaa  22.0752 -159.319    77.32       80         40      10.36   \n",
      "2       mbaiki   3.8678  17.9892     77.5       68        100       1.66   \n",
      "3    crab hill                                                             \n",
      "4  yellowknife   62.456 -114.353    62.33       72         75       9.22   \n",
      "\n",
      "  Country        Date  \n",
      "0      IS  1627489590  \n",
      "1      US  1627489590  \n",
      "2      CF  1627489591  \n",
      "3                      \n",
      "4      CA  1627489591  \n"
     ]
    }
   ],
   "source": [
    "# Print header of df_countries_weather DataFrame and write the output file to csv format.\n",
    "print(df_countries_weather.head())"
   ]
  },
  {
   "cell_type": "markdown",
   "metadata": {},
   "source": [
    "### Convert Raw Data to DataFrame\n",
    "* Export the city data into a .csv.\n",
    "* Display the DataFrame"
   ]
  },
  {
   "cell_type": "code",
   "execution_count": 6,
   "metadata": {},
   "outputs": [],
   "source": [
    "# The output file has been \"cleaned\" of NaN data.\n",
    "df_countries_weather.to_csv(output_data_file, encoding=\"utf-8\", index=False)"
   ]
  },
  {
   "cell_type": "code",
   "execution_count": 7,
   "metadata": {},
   "outputs": [
    {
     "data": {
      "text/html": [
       "<div>\n",
       "<style scoped>\n",
       "    .dataframe tbody tr th:only-of-type {\n",
       "        vertical-align: middle;\n",
       "    }\n",
       "\n",
       "    .dataframe tbody tr th {\n",
       "        vertical-align: top;\n",
       "    }\n",
       "\n",
       "    .dataframe thead th {\n",
       "        text-align: right;\n",
       "    }\n",
       "</style>\n",
       "<table border=\"1\" class=\"dataframe\">\n",
       "  <thead>\n",
       "    <tr style=\"text-align: right;\">\n",
       "      <th></th>\n",
       "      <th>City</th>\n",
       "      <th>Lat</th>\n",
       "      <th>Lng</th>\n",
       "      <th>Max Temp</th>\n",
       "      <th>Humidity</th>\n",
       "      <th>Cloudiness</th>\n",
       "      <th>Wind Speed</th>\n",
       "      <th>Country</th>\n",
       "      <th>Date</th>\n",
       "    </tr>\n",
       "  </thead>\n",
       "  <tbody>\n",
       "    <tr>\n",
       "      <th>0</th>\n",
       "      <td>husavik</td>\n",
       "      <td>66.0449</td>\n",
       "      <td>-17.3389</td>\n",
       "      <td>49.91</td>\n",
       "      <td>98.0</td>\n",
       "      <td>100.0</td>\n",
       "      <td>11.03</td>\n",
       "      <td>IS</td>\n",
       "      <td>1627489590</td>\n",
       "    </tr>\n",
       "    <tr>\n",
       "      <th>1</th>\n",
       "      <td>kapaa</td>\n",
       "      <td>22.0752</td>\n",
       "      <td>-159.3190</td>\n",
       "      <td>77.32</td>\n",
       "      <td>80.0</td>\n",
       "      <td>40.0</td>\n",
       "      <td>10.36</td>\n",
       "      <td>US</td>\n",
       "      <td>1627489590</td>\n",
       "    </tr>\n",
       "    <tr>\n",
       "      <th>2</th>\n",
       "      <td>mbaiki</td>\n",
       "      <td>3.8678</td>\n",
       "      <td>17.9892</td>\n",
       "      <td>77.50</td>\n",
       "      <td>68.0</td>\n",
       "      <td>100.0</td>\n",
       "      <td>1.66</td>\n",
       "      <td>CF</td>\n",
       "      <td>1627489591</td>\n",
       "    </tr>\n",
       "    <tr>\n",
       "      <th>4</th>\n",
       "      <td>yellowknife</td>\n",
       "      <td>62.4560</td>\n",
       "      <td>-114.3525</td>\n",
       "      <td>62.33</td>\n",
       "      <td>72.0</td>\n",
       "      <td>75.0</td>\n",
       "      <td>9.22</td>\n",
       "      <td>CA</td>\n",
       "      <td>1627489591</td>\n",
       "    </tr>\n",
       "    <tr>\n",
       "      <th>5</th>\n",
       "      <td>severo-kurilsk</td>\n",
       "      <td>50.6789</td>\n",
       "      <td>156.1250</td>\n",
       "      <td>56.16</td>\n",
       "      <td>95.0</td>\n",
       "      <td>100.0</td>\n",
       "      <td>7.85</td>\n",
       "      <td>RU</td>\n",
       "      <td>1627489591</td>\n",
       "    </tr>\n",
       "    <tr>\n",
       "      <th>6</th>\n",
       "      <td>cape town</td>\n",
       "      <td>-33.9258</td>\n",
       "      <td>18.4232</td>\n",
       "      <td>56.26</td>\n",
       "      <td>71.0</td>\n",
       "      <td>75.0</td>\n",
       "      <td>3.00</td>\n",
       "      <td>ZA</td>\n",
       "      <td>1627489592</td>\n",
       "    </tr>\n",
       "    <tr>\n",
       "      <th>7</th>\n",
       "      <td>butaritari</td>\n",
       "      <td>3.0707</td>\n",
       "      <td>172.7902</td>\n",
       "      <td>81.95</td>\n",
       "      <td>73.0</td>\n",
       "      <td>99.0</td>\n",
       "      <td>9.06</td>\n",
       "      <td>KI</td>\n",
       "      <td>1627489592</td>\n",
       "    </tr>\n",
       "    <tr>\n",
       "      <th>8</th>\n",
       "      <td>longyearbyen</td>\n",
       "      <td>78.2186</td>\n",
       "      <td>15.6401</td>\n",
       "      <td>44.44</td>\n",
       "      <td>87.0</td>\n",
       "      <td>90.0</td>\n",
       "      <td>12.66</td>\n",
       "      <td>SJ</td>\n",
       "      <td>1627489592</td>\n",
       "    </tr>\n",
       "    <tr>\n",
       "      <th>9</th>\n",
       "      <td>okhotsk</td>\n",
       "      <td>59.3833</td>\n",
       "      <td>143.3000</td>\n",
       "      <td>54.63</td>\n",
       "      <td>94.0</td>\n",
       "      <td>99.0</td>\n",
       "      <td>5.10</td>\n",
       "      <td>RU</td>\n",
       "      <td>1627489593</td>\n",
       "    </tr>\n",
       "    <tr>\n",
       "      <th>10</th>\n",
       "      <td>hithadhoo</td>\n",
       "      <td>-0.6000</td>\n",
       "      <td>73.0833</td>\n",
       "      <td>82.58</td>\n",
       "      <td>75.0</td>\n",
       "      <td>100.0</td>\n",
       "      <td>10.67</td>\n",
       "      <td>MV</td>\n",
       "      <td>1627489593</td>\n",
       "    </tr>\n",
       "  </tbody>\n",
       "</table>\n",
       "</div>"
      ],
      "text/plain": [
       "              City      Lat       Lng  Max Temp  Humidity  Cloudiness  \\\n",
       "0          husavik  66.0449  -17.3389     49.91      98.0       100.0   \n",
       "1            kapaa  22.0752 -159.3190     77.32      80.0        40.0   \n",
       "2           mbaiki   3.8678   17.9892     77.50      68.0       100.0   \n",
       "4      yellowknife  62.4560 -114.3525     62.33      72.0        75.0   \n",
       "5   severo-kurilsk  50.6789  156.1250     56.16      95.0       100.0   \n",
       "6        cape town -33.9258   18.4232     56.26      71.0        75.0   \n",
       "7       butaritari   3.0707  172.7902     81.95      73.0        99.0   \n",
       "8     longyearbyen  78.2186   15.6401     44.44      87.0        90.0   \n",
       "9          okhotsk  59.3833  143.3000     54.63      94.0        99.0   \n",
       "10       hithadhoo  -0.6000   73.0833     82.58      75.0       100.0   \n",
       "\n",
       "    Wind Speed Country        Date  \n",
       "0        11.03      IS  1627489590  \n",
       "1        10.36      US  1627489590  \n",
       "2         1.66      CF  1627489591  \n",
       "4         9.22      CA  1627489591  \n",
       "5         7.85      RU  1627489591  \n",
       "6         3.00      ZA  1627489592  \n",
       "7         9.06      KI  1627489592  \n",
       "8        12.66      SJ  1627489592  \n",
       "9         5.10      RU  1627489593  \n",
       "10       10.67      MV  1627489593  "
      ]
     },
     "execution_count": 7,
     "metadata": {},
     "output_type": "execute_result"
    }
   ],
   "source": [
    "# Change the data from the api to numerical data\n",
    "\n",
    "df_countries_weather['Lat'] = pd.to_numeric(df_countries_weather['Lat'])\n",
    "df_countries_weather['Lng'] = pd.to_numeric(df_countries_weather['Lng'])\n",
    "df_countries_weather['Max Temp'] = pd.to_numeric(df_countries_weather['Max Temp'])\n",
    "df_countries_weather['Humidity'] = pd.to_numeric(df_countries_weather['Humidity'])\n",
    "df_countries_weather['Cloudiness'] = pd.to_numeric(df_countries_weather['Cloudiness'])\n",
    "df_countries_weather['Wind Speed'] = pd.to_numeric(df_countries_weather['Wind Speed'])\n",
    "\n",
    "# Get rid of rows with NaN values from the DataFrame df_countries_weather\n",
    "df_countries_weather = df_countries_weather.dropna()\n",
    "\n",
    "df_countries_weather = df_countries_weather[[\"City\",\"Lat\",\"Lng\",\"Max Temp\",\"Humidity\",\n",
    "                                             \"Cloudiness\",\"Wind Speed\",\"Country\",\"Date\"]]\n",
    "\n",
    "df_countries_weather.head(10)\n",
    "\n"
   ]
  },
  {
   "cell_type": "markdown",
   "metadata": {},
   "source": [
    "### There were no cities with humidity over 100%"
   ]
  },
  {
   "cell_type": "code",
   "execution_count": 8,
   "metadata": {},
   "outputs": [
    {
     "data": {
      "text/plain": [
       "Series([], Name: City, dtype: object)"
      ]
     },
     "execution_count": 8,
     "metadata": {},
     "output_type": "execute_result"
    }
   ],
   "source": [
    "# Humidity over 100%\n",
    "high_humidity = df_countries_weather.loc[df_countries_weather[\"Humidity\"] > 100][\"City\"]\n",
    "high_humidity\n"
   ]
  },
  {
   "cell_type": "markdown",
   "metadata": {},
   "source": [
    "## Inspect the data and remove the cities where the humidity > 100%.\n",
    "----\n",
    "Skip this step if there are no cities that have humidity > 100%. "
   ]
  },
  {
   "cell_type": "markdown",
   "metadata": {},
   "source": [
    "### The output shows no cities with humidity over 100%.  This was confirmed in the list high_humidity above."
   ]
  },
  {
   "cell_type": "code",
   "execution_count": null,
   "metadata": {},
   "outputs": [],
   "source": []
  },
  {
   "cell_type": "code",
   "execution_count": 9,
   "metadata": {},
   "outputs": [],
   "source": [
    "#  Get the indices of cities that have humidity over 100%.\n",
    "#  There were no cities with humidity over 100%"
   ]
  },
  {
   "cell_type": "code",
   "execution_count": 10,
   "metadata": {},
   "outputs": [],
   "source": [
    "# Make a new DataFrame equal to the city data to drop all humidity outliers by index.\n",
    "# Passing \"inplace=False\" will make a copy of the city_data DataFrame, which we call \"clean_city_data\".\n",
    "\n",
    "# No need to cleanup as shown by high_humidity which had no cities with a humidity over 100%.\n"
   ]
  },
  {
   "cell_type": "markdown",
   "metadata": {},
   "source": [
    "## Plotting the Data\n",
    "* Use proper labeling of the plots using plot titles (including date of analysis) and axes labels.\n",
    "* Save the plotted figures as .pngs."
   ]
  },
  {
   "cell_type": "markdown",
   "metadata": {},
   "source": [
    "## Latitude vs. Temperature Plot"
   ]
  },
  {
   "cell_type": "markdown",
   "metadata": {},
   "source": [
    "As the Latitude is increasing between 0 and 40 the temperatures are around 90 degrees. And with decreasing latitude down to -60 the temperature goes down to 35F.  When the latitude goes above 40 the temperature also decreases."
   ]
  },
  {
   "cell_type": "code",
   "execution_count": 11,
   "metadata": {},
   "outputs": [
    {
     "data": {
      "text/plain": [
       "<function matplotlib.pyplot.show(*args, **kw)>"
      ]
     },
     "execution_count": 11,
     "metadata": {},
     "output_type": "execute_result"
    },
    {
     "data": {
      "image/png": "[encoded data removed]",
      "text/plain": [
       "<Figure size 576x432 with 1 Axes>"
      ]
     },
     "metadata": {
      "needs_background": "light"
     },
     "output_type": "display_data"
    }
   ],
   "source": [
    "# Latitude vs. Temperature Plot\n",
    "plt.figure(figsize=(8,6))\n",
    "plt.scatter(df_countries_weather[\"Lat\"], df_countries_weather[\"Max Temp\"], color='b', alpha=0.5)\n",
    "plt.grid()\n",
    "plt.title(f'City Latitude vs. Max Temperature ({datetime.datetime.now().strftime(\"%D\")})')\n",
    "plt.xlabel(\"Latitude\")\n",
    "plt.ylabel(\"Max Temperature (F)\")\n",
    "plt.savefig(\"../Images/Latitude_vs_Max_Temp.png\")\n",
    "plt.show"
   ]
  },
  {
   "cell_type": "markdown",
   "metadata": {},
   "source": [
    "## Latitude vs. Humidity Plot"
   ]
  },
  {
   "cell_type": "markdown",
   "metadata": {},
   "source": [
    "Most of the humidity is clustered between -40 to 60 latitude points and most of the humidity is between 50 percent and 90 percent."
   ]
  },
  {
   "cell_type": "code",
   "execution_count": 12,
   "metadata": {},
   "outputs": [
    {
     "data": {
      "image/png": "[encoded data removed]",
      "text/plain": [
       "<Figure size 576x432 with 1 Axes>"
      ]
     },
     "metadata": {
      "needs_background": "light"
     },
     "output_type": "display_data"
    }
   ],
   "source": [
    "# Latitude vs. Humidity Plot\n",
    "plt.figure(figsize=(8,6))\n",
    "plt.scatter(df_countries_weather[\"Lat\"], df_countries_weather[\"Humidity\"], color='blue', alpha=0.5)\n",
    "plt.ylim(10,120)\n",
    "plt.grid()\n",
    "plt.xlabel('Latitude')\n",
    "plt.ylabel('Humidity (%)')\n",
    "plt.title(f'City Latitude vs Humidity ({datetime.datetime.now().strftime(\"%D\")})')\n",
    "plt.savefig(\"../Images/Latitude_vs_Humidity.png\")\n",
    "plt.show()\n"
   ]
  },
  {
   "cell_type": "markdown",
   "metadata": {},
   "source": [
    "## Latitude vs. Cloudiness Plot"
   ]
  },
  {
   "cell_type": "markdown",
   "metadata": {},
   "source": [
    "There does not look to be anything much to interpret here other than a greater percentage of cloudiness data points when close to 100 percent cloudiness."
   ]
  },
  {
   "cell_type": "code",
   "execution_count": 13,
   "metadata": {},
   "outputs": [
    {
     "data": {
      "image/png": "[encoded data removed]",
      "text/plain": [
       "<Figure size 576x432 with 1 Axes>"
      ]
     },
     "metadata": {
      "needs_background": "light"
     },
     "output_type": "display_data"
    }
   ],
   "source": [
    "# Latitude vs. Cloudiness Plot\n",
    "plt.figure(figsize=(8,6))\n",
    "plt.scatter(df_countries_weather[\"Lat\"], df_countries_weather[\"Cloudiness\"], color='b', alpha=0.5)\n",
    "plt.grid()\n",
    "plt.ylim(-5,(df_countries_weather[\"Cloudiness\"].max()+10))\n",
    "plt.xlabel('Latitude')\n",
    "plt.ylabel('Cloudiness (%)')\n",
    "plt.title(f'City Latitude vs Cloudiness ({datetime.datetime.now().strftime(\"%D\")})')\n",
    "plt.savefig(\"../Images/Latitude_vs_Cloudiness.png\")\n",
    "plt.show()\n"
   ]
  },
  {
   "cell_type": "markdown",
   "metadata": {},
   "source": [
    "## Latitude vs. Wind Speed Plot"
   ]
  },
  {
   "cell_type": "markdown",
   "metadata": {},
   "source": [
    "The wind speed tends to be clustered between 2 mph and 10 mph across the latitude spanning from -40 to 70."
   ]
  },
  {
   "cell_type": "code",
   "execution_count": 14,
   "metadata": {},
   "outputs": [
    {
     "data": {
      "image/png": "[encoded data removed]",
      "text/plain": [
       "<Figure size 576x432 with 1 Axes>"
      ]
     },
     "metadata": {
      "needs_background": "light"
     },
     "output_type": "display_data"
    }
   ],
   "source": [
    "# Latitude vs. Wind Speed Plot\n",
    "plt.figure(figsize=(8,6))\n",
    "plt.scatter(df_countries_weather[\"Lat\"], df_countries_weather[\"Wind Speed\"], color='blue', alpha=0.5)\n",
    "plt.grid()\n",
    "plt.ylim((df_countries_weather[\"Wind Speed\"].min()-1),(df_countries_weather[\"Wind Speed\"].max()+2))\n",
    "plt.xlabel('Latitude')\n",
    "plt.ylabel('Wind Speed (mph)')\n",
    "plt.title(f'City Latitude vs Wind Speed ({datetime.datetime.now().strftime(\"%D\")})')\n",
    "plt.savefig(\"../Images/Latitude_vs_Wind_Speed.png\")\n",
    "plt.show()\n"
   ]
  },
  {
   "cell_type": "markdown",
   "metadata": {},
   "source": [
    "## Linear Regression"
   ]
  },
  {
   "cell_type": "code",
   "execution_count": 15,
   "metadata": {},
   "outputs": [],
   "source": [
    "# Run linear regression on each relationship. This time, separate the plots into \n",
    "# Northern Hemisphere (greater than or equal to 0 degrees latitude) and \n",
    "# Southern Hemisphere (less than 0 degrees latitude)."
   ]
  },
  {
   "cell_type": "code",
   "execution_count": 16,
   "metadata": {},
   "outputs": [
    {
     "data": {
      "text/html": [
       "<div>\n",
       "<style scoped>\n",
       "    .dataframe tbody tr th:only-of-type {\n",
       "        vertical-align: middle;\n",
       "    }\n",
       "\n",
       "    .dataframe tbody tr th {\n",
       "        vertical-align: top;\n",
       "    }\n",
       "\n",
       "    .dataframe thead th {\n",
       "        text-align: right;\n",
       "    }\n",
       "</style>\n",
       "<table border=\"1\" class=\"dataframe\">\n",
       "  <thead>\n",
       "    <tr style=\"text-align: right;\">\n",
       "      <th></th>\n",
       "      <th>City</th>\n",
       "      <th>Lat</th>\n",
       "      <th>Lng</th>\n",
       "      <th>Max Temp</th>\n",
       "      <th>Humidity</th>\n",
       "      <th>Cloudiness</th>\n",
       "      <th>Wind Speed</th>\n",
       "      <th>Country</th>\n",
       "      <th>Date</th>\n",
       "    </tr>\n",
       "  </thead>\n",
       "  <tbody>\n",
       "    <tr>\n",
       "      <th>0</th>\n",
       "      <td>husavik</td>\n",
       "      <td>66.0449</td>\n",
       "      <td>-17.3389</td>\n",
       "      <td>49.91</td>\n",
       "      <td>98.0</td>\n",
       "      <td>100.0</td>\n",
       "      <td>11.03</td>\n",
       "      <td>IS</td>\n",
       "      <td>1627489590</td>\n",
       "    </tr>\n",
       "    <tr>\n",
       "      <th>1</th>\n",
       "      <td>kapaa</td>\n",
       "      <td>22.0752</td>\n",
       "      <td>-159.3190</td>\n",
       "      <td>77.32</td>\n",
       "      <td>80.0</td>\n",
       "      <td>40.0</td>\n",
       "      <td>10.36</td>\n",
       "      <td>US</td>\n",
       "      <td>1627489590</td>\n",
       "    </tr>\n",
       "    <tr>\n",
       "      <th>2</th>\n",
       "      <td>mbaiki</td>\n",
       "      <td>3.8678</td>\n",
       "      <td>17.9892</td>\n",
       "      <td>77.50</td>\n",
       "      <td>68.0</td>\n",
       "      <td>100.0</td>\n",
       "      <td>1.66</td>\n",
       "      <td>CF</td>\n",
       "      <td>1627489591</td>\n",
       "    </tr>\n",
       "    <tr>\n",
       "      <th>4</th>\n",
       "      <td>yellowknife</td>\n",
       "      <td>62.4560</td>\n",
       "      <td>-114.3525</td>\n",
       "      <td>62.33</td>\n",
       "      <td>72.0</td>\n",
       "      <td>75.0</td>\n",
       "      <td>9.22</td>\n",
       "      <td>CA</td>\n",
       "      <td>1627489591</td>\n",
       "    </tr>\n",
       "    <tr>\n",
       "      <th>5</th>\n",
       "      <td>severo-kurilsk</td>\n",
       "      <td>50.6789</td>\n",
       "      <td>156.1250</td>\n",
       "      <td>56.16</td>\n",
       "      <td>95.0</td>\n",
       "      <td>100.0</td>\n",
       "      <td>7.85</td>\n",
       "      <td>RU</td>\n",
       "      <td>1627489591</td>\n",
       "    </tr>\n",
       "  </tbody>\n",
       "</table>\n",
       "</div>"
      ],
      "text/plain": [
       "             City      Lat       Lng  Max Temp  Humidity  Cloudiness  \\\n",
       "0         husavik  66.0449  -17.3389     49.91      98.0       100.0   \n",
       "1           kapaa  22.0752 -159.3190     77.32      80.0        40.0   \n",
       "2          mbaiki   3.8678   17.9892     77.50      68.0       100.0   \n",
       "4     yellowknife  62.4560 -114.3525     62.33      72.0        75.0   \n",
       "5  severo-kurilsk  50.6789  156.1250     56.16      95.0       100.0   \n",
       "\n",
       "   Wind Speed Country        Date  \n",
       "0       11.03      IS  1627489590  \n",
       "1       10.36      US  1627489590  \n",
       "2        1.66      CF  1627489591  \n",
       "4        9.22      CA  1627489591  \n",
       "5        7.85      RU  1627489591  "
      ]
     },
     "execution_count": 16,
     "metadata": {},
     "output_type": "execute_result"
    }
   ],
   "source": [
    "North_Hemi = df_countries_weather.loc[df_countries_weather[\"Lat\"]>= 0]\n",
    "North_Hemi.head()"
   ]
  },
  {
   "cell_type": "code",
   "execution_count": 17,
   "metadata": {},
   "outputs": [
    {
     "data": {
      "text/html": [
       "<div>\n",
       "<style scoped>\n",
       "    .dataframe tbody tr th:only-of-type {\n",
       "        vertical-align: middle;\n",
       "    }\n",
       "\n",
       "    .dataframe tbody tr th {\n",
       "        vertical-align: top;\n",
       "    }\n",
       "\n",
       "    .dataframe thead th {\n",
       "        text-align: right;\n",
       "    }\n",
       "</style>\n",
       "<table border=\"1\" class=\"dataframe\">\n",
       "  <thead>\n",
       "    <tr style=\"text-align: right;\">\n",
       "      <th></th>\n",
       "      <th>City</th>\n",
       "      <th>Lat</th>\n",
       "      <th>Lng</th>\n",
       "      <th>Max Temp</th>\n",
       "      <th>Humidity</th>\n",
       "      <th>Cloudiness</th>\n",
       "      <th>Wind Speed</th>\n",
       "      <th>Country</th>\n",
       "      <th>Date</th>\n",
       "    </tr>\n",
       "  </thead>\n",
       "  <tbody>\n",
       "    <tr>\n",
       "      <th>6</th>\n",
       "      <td>cape town</td>\n",
       "      <td>-33.9258</td>\n",
       "      <td>18.4232</td>\n",
       "      <td>56.26</td>\n",
       "      <td>71.0</td>\n",
       "      <td>75.0</td>\n",
       "      <td>3.00</td>\n",
       "      <td>ZA</td>\n",
       "      <td>1627489592</td>\n",
       "    </tr>\n",
       "    <tr>\n",
       "      <th>10</th>\n",
       "      <td>hithadhoo</td>\n",
       "      <td>-0.6000</td>\n",
       "      <td>73.0833</td>\n",
       "      <td>82.58</td>\n",
       "      <td>75.0</td>\n",
       "      <td>100.0</td>\n",
       "      <td>10.67</td>\n",
       "      <td>MV</td>\n",
       "      <td>1627489593</td>\n",
       "    </tr>\n",
       "    <tr>\n",
       "      <th>16</th>\n",
       "      <td>mataura</td>\n",
       "      <td>-46.1927</td>\n",
       "      <td>168.8643</td>\n",
       "      <td>43.48</td>\n",
       "      <td>98.0</td>\n",
       "      <td>40.0</td>\n",
       "      <td>3.67</td>\n",
       "      <td>NZ</td>\n",
       "      <td>1627489595</td>\n",
       "    </tr>\n",
       "    <tr>\n",
       "      <th>17</th>\n",
       "      <td>rikitea</td>\n",
       "      <td>-23.1203</td>\n",
       "      <td>-134.9692</td>\n",
       "      <td>74.44</td>\n",
       "      <td>78.0</td>\n",
       "      <td>100.0</td>\n",
       "      <td>13.94</td>\n",
       "      <td>PF</td>\n",
       "      <td>1627489595</td>\n",
       "    </tr>\n",
       "    <tr>\n",
       "      <th>18</th>\n",
       "      <td>bambous virieux</td>\n",
       "      <td>-20.3428</td>\n",
       "      <td>57.7575</td>\n",
       "      <td>68.25</td>\n",
       "      <td>94.0</td>\n",
       "      <td>75.0</td>\n",
       "      <td>14.97</td>\n",
       "      <td>MU</td>\n",
       "      <td>1627489595</td>\n",
       "    </tr>\n",
       "  </tbody>\n",
       "</table>\n",
       "</div>"
      ],
      "text/plain": [
       "               City      Lat       Lng  Max Temp  Humidity  Cloudiness  \\\n",
       "6         cape town -33.9258   18.4232     56.26      71.0        75.0   \n",
       "10        hithadhoo  -0.6000   73.0833     82.58      75.0       100.0   \n",
       "16          mataura -46.1927  168.8643     43.48      98.0        40.0   \n",
       "17          rikitea -23.1203 -134.9692     74.44      78.0       100.0   \n",
       "18  bambous virieux -20.3428   57.7575     68.25      94.0        75.0   \n",
       "\n",
       "    Wind Speed Country        Date  \n",
       "6         3.00      ZA  1627489592  \n",
       "10       10.67      MV  1627489593  \n",
       "16        3.67      NZ  1627489595  \n",
       "17       13.94      PF  1627489595  \n",
       "18       14.97      MU  1627489595  "
      ]
     },
     "execution_count": 17,
     "metadata": {},
     "output_type": "execute_result"
    }
   ],
   "source": [
    "South_Hemi = df_countries_weather.loc[df_countries_weather[\"Lat\"]< 0]\n",
    "South_Hemi.head()"
   ]
  },
  {
   "cell_type": "markdown",
   "metadata": {},
   "source": [
    "####  Northern Hemisphere - Max Temp vs. Latitude Linear Regression"
   ]
  },
  {
   "cell_type": "markdown",
   "metadata": {},
   "source": [
    "R-squared is only .39 between max temperature and latitude which indicates there is not a strong relationship between those two variables."
   ]
  },
  {
   "cell_type": "code",
   "execution_count": 18,
   "metadata": {},
   "outputs": [
    {
     "name": "stdout",
     "output_type": "stream",
     "text": [
      "The r-squared is: 0.49007474839648746\n"
     ]
    },
    {
     "data": {
      "image/png": "[encoded data removed]",
      "text/plain": [
       "<Figure size 432x288 with 1 Axes>"
      ]
     },
     "metadata": {
      "needs_background": "light"
     },
     "output_type": "display_data"
    }
   ],
   "source": [
    "# Create a scatter plot of the x and y values for the Northern Hemisphere.\n",
    "x_values = North_Hemi[\"Lat\"]\n",
    "y_values = North_Hemi[\"Max Temp\"] \n",
    "\n",
    "(slope, intercept, rvalue, pvalue, stderr) = linregress(x_values, y_values)\n",
    "regress_values = x_values * slope + intercept\n",
    "line_eq = \"y = \" + str(round(slope,2)) + \"x + \" + str(round(intercept,2))\n",
    "plt.scatter(x_values,y_values)\n",
    "plt.plot(x_values,regress_values,\"r-\")\n",
    "plt.title(f'Northern Hemisphere Max Temperature vs. Latitude ({datetime.datetime.now().strftime(\"%D\")})')\n",
    "plt.annotate(line_eq,(20,90),fontsize=15,color=\"red\")\n",
    "plt.xlabel('Latitude')\n",
    "plt.ylabel('Max Temp')\n",
    "print(f\"The r-squared is: {rvalue**2}\")\n",
    "plt.savefig(\"../Images/Linear Regression North Hemi Max Temp vs. Lat.png\")\n",
    "plt.show()\n"
   ]
  },
  {
   "cell_type": "markdown",
   "metadata": {},
   "source": [
    "####  Southern Hemisphere - Max Temp vs. Latitude Linear Regression"
   ]
  },
  {
   "cell_type": "markdown",
   "metadata": {},
   "source": [
    "R-squared is .71 between max temperature and latitude. The relationship is fairly strong between Max Temp and Latitude."
   ]
  },
  {
   "cell_type": "code",
   "execution_count": 19,
   "metadata": {},
   "outputs": [
    {
     "name": "stdout",
     "output_type": "stream",
     "text": [
      "The r-squared is: 0.7095341526202368\n"
     ]
    },
    {
     "data": {
      "image/png": "[encoded data removed]",
      "text/plain": [
       "<Figure size 432x288 with 1 Axes>"
      ]
     },
     "metadata": {
      "needs_background": "light"
     },
     "output_type": "display_data"
    }
   ],
   "source": [
    "# Create a scatter plot of the x and y values for the Southern Hemisphere.\n",
    "x_values = South_Hemi[\"Lat\"]\n",
    "y_values = South_Hemi[\"Max Temp\"] \n",
    "\n",
    "(slope, intercept, rvalue, pvalue, stderr) = linregress(x_values, y_values)\n",
    "regress_values = x_values * slope + intercept\n",
    "line_eq = \"y = \" + str(round(slope,2)) + \"x + \" + str(round(intercept,2))\n",
    "plt.scatter(x_values,y_values)\n",
    "plt.plot(x_values,regress_values,\"r-\")\n",
    "plt.title(f'Southern Hemisphere Max Temperature vs. Latitude ({datetime.datetime.now().strftime(\"%D\")})')\n",
    "plt.annotate(line_eq,(-55,80),fontsize=15,color=\"red\")\n",
    "plt.xlabel('Latitude')\n",
    "plt.ylabel('Max Temp')\n",
    "print(f\"The r-squared is: {rvalue**2}\")\n",
    "plt.savefig(\"../Images/Linear Regression South Hemi Max Temp vs. Lat.png\")\n",
    "plt.show()"
   ]
  },
  {
   "cell_type": "markdown",
   "metadata": {},
   "source": [
    "####  Northern Hemisphere - Humidity (%) vs. Latitude Linear Regression"
   ]
  },
  {
   "cell_type": "markdown",
   "metadata": {},
   "source": [
    "R-squared is just 0.0048 which indicates the relationship between humidity and latitude is almost non-existent."
   ]
  },
  {
   "cell_type": "code",
   "execution_count": 20,
   "metadata": {},
   "outputs": [
    {
     "name": "stdout",
     "output_type": "stream",
     "text": [
      "The r-squared is: 0.010200965467078525\n"
     ]
    },
    {
     "data": {
      "image/png": "[encoded data removed]",
      "text/plain": [
       "<Figure size 432x288 with 1 Axes>"
      ]
     },
     "metadata": {
      "needs_background": "light"
     },
     "output_type": "display_data"
    }
   ],
   "source": [
    "# Create a scatter plot of the x and y values for the Northern Hemisphere.\n",
    "x_values = North_Hemi[\"Lat\"]\n",
    "y_values = North_Hemi[\"Humidity\"] \n",
    "\n",
    "(slope, intercept, rvalue, pvalue, stderr) = linregress(x_values, y_values)\n",
    "regress_values = x_values * slope + intercept\n",
    "line_eq = \"y = \" + str(round(slope,2)) + \"x + \" + str(round(intercept,2))\n",
    "plt.scatter(x_values,y_values)\n",
    "plt.plot(x_values,regress_values,\"r-\")\n",
    "plt.title(f'Northern Hemisphere Humidity vs. Latitude ({datetime.datetime.now().strftime(\"%D\")})')\n",
    "plt.annotate(line_eq,(45,90),fontsize=15,color=\"red\")\n",
    "plt.xlabel('Latitude')\n",
    "plt.ylabel('Humidity (%)')\n",
    "print(f\"The r-squared is: {rvalue**2}\")\n",
    "plt.savefig(\"../Images/Linear Regression North Hemi Humidity vs. Lat.png\")\n",
    "plt.show()"
   ]
  },
  {
   "cell_type": "markdown",
   "metadata": {},
   "source": [
    "####  Southern Hemisphere - Humidity (%) vs. Latitude Linear Regression"
   ]
  },
  {
   "cell_type": "markdown",
   "metadata": {},
   "source": [
    "R-squared is just .013 so the relationship between humidity and latitude is almost non-existent."
   ]
  },
  {
   "cell_type": "code",
   "execution_count": 21,
   "metadata": {},
   "outputs": [
    {
     "name": "stdout",
     "output_type": "stream",
     "text": [
      "The r-squared is: 0.014356232963227206\n"
     ]
    },
    {
     "data": {
      "image/png": "[encoded data removed]",
      "text/plain": [
       "<Figure size 432x288 with 1 Axes>"
      ]
     },
     "metadata": {
      "needs_background": "light"
     },
     "output_type": "display_data"
    }
   ],
   "source": [
    "# Create a scatter plot of the x and y values for the Southern Hemisphere.\n",
    "x_values = South_Hemi[\"Lat\"]\n",
    "y_values = South_Hemi[\"Humidity\"] \n",
    "\n",
    "(slope, intercept, rvalue, pvalue, stderr) = linregress(x_values, y_values)\n",
    "regress_values = x_values * slope + intercept\n",
    "line_eq = \"y = \" + str(round(slope,2)) + \"x + \" + str(round(intercept,2))\n",
    "plt.scatter(x_values,y_values)\n",
    "plt.plot(x_values,regress_values,\"r-\")\n",
    "plt.title(f'Southern Hemisphere Humidity vs. Latitude ({datetime.datetime.now().strftime(\"%D\")})')\n",
    "plt.annotate(line_eq,(-55,80),fontsize=15,color=\"red\")\n",
    "plt.xlabel('Latitude')\n",
    "plt.ylabel('Humidity (%)')\n",
    "print(f\"The r-squared is: {rvalue**2}\")\n",
    "plt.savefig(\"../Images/Linear Regression South Hemi Humidity vs. Lat.png\")\n",
    "plt.show()"
   ]
  },
  {
   "cell_type": "markdown",
   "metadata": {},
   "source": [
    "####  Northern Hemisphere - Cloudiness (%) vs. Latitude Linear Regression"
   ]
  },
  {
   "cell_type": "markdown",
   "metadata": {},
   "source": [
    "R-squared at .0088 is so low that the relationship between cloudiness and latitude is almost non-existent."
   ]
  },
  {
   "cell_type": "code",
   "execution_count": 22,
   "metadata": {},
   "outputs": [
    {
     "name": "stdout",
     "output_type": "stream",
     "text": [
      "The r-squared is: 4.650041625875096e-05\n"
     ]
    },
    {
     "data": {
      "image/png": "[encoded data removed]",
      "text/plain": [
       "<Figure size 432x288 with 1 Axes>"
      ]
     },
     "metadata": {
      "needs_background": "light"
     },
     "output_type": "display_data"
    }
   ],
   "source": [
    "# Create a scatter plot of the x and y values for the Northern Hemisphere.\n",
    "x_values = North_Hemi[\"Lat\"]\n",
    "y_values = North_Hemi[\"Cloudiness\"] \n",
    "\n",
    "(slope, intercept, rvalue, pvalue, stderr) = linregress(x_values, y_values)\n",
    "regress_values = x_values * slope + intercept\n",
    "line_eq = \"y = \" + str(round(slope,2)) + \"x + \" + str(round(intercept,2))\n",
    "plt.scatter(x_values,y_values)\n",
    "plt.plot(x_values,regress_values,\"r-\")\n",
    "plt.title(f'Northern Hemisphere Cloudiness vs. Latitude ({datetime.datetime.now().strftime(\"%D\")})')\n",
    "plt.annotate(line_eq,(45,70),fontsize=15,color=\"red\")\n",
    "plt.xlabel('Latitude')\n",
    "plt.ylabel('Cloudiness (%)')\n",
    "print(f\"The r-squared is: {rvalue**2}\")\n",
    "plt.savefig(\"../Images/Linear Regression North Hemi Cloudiness vs. Lat.png\")\n",
    "plt.show()"
   ]
  },
  {
   "cell_type": "markdown",
   "metadata": {},
   "source": [
    "####  Southern Hemisphere - Cloudiness (%) vs. Latitude Linear Regression"
   ]
  },
  {
   "cell_type": "markdown",
   "metadata": {},
   "source": [
    "R-squared is just 0.00188 and this indicates the relationship between cloudiness and latitude is almost non-existent."
   ]
  },
  {
   "cell_type": "code",
   "execution_count": 23,
   "metadata": {},
   "outputs": [
    {
     "name": "stdout",
     "output_type": "stream",
     "text": [
      "The r-squared is: 0.0019389244826901\n"
     ]
    },
    {
     "data": {
      "image/png": "[encoded data removed]",
      "text/plain": [
       "<Figure size 432x288 with 1 Axes>"
      ]
     },
     "metadata": {
      "needs_background": "light"
     },
     "output_type": "display_data"
    }
   ],
   "source": [
    "# Create a scatter plot of the x and y values for the Southern Hemisphere.\n",
    "x_values = South_Hemi[\"Lat\"]\n",
    "y_values = South_Hemi[\"Cloudiness\"] \n",
    "\n",
    "(slope, intercept, rvalue, pvalue, stderr) = linregress(x_values, y_values)\n",
    "regress_values = x_values * slope + intercept\n",
    "line_eq = \"y = \" + str(round(slope,2)) + \"x + \" + str(round(intercept,2))\n",
    "plt.scatter(x_values,y_values)\n",
    "plt.plot(x_values,regress_values,\"r-\")\n",
    "plt.title(f'Southern Hemisphere Cloudiness vs. Latitude ({datetime.datetime.now().strftime(\"%D\")})')\n",
    "plt.annotate(line_eq,(-55,45),fontsize=15,color=\"red\")\n",
    "plt.xlabel('Latitude')\n",
    "plt.ylabel('Cloudiness (%)')\n",
    "print(f\"The r-squared is: {rvalue**2}\")\n",
    "plt.savefig(\"../Images/Linear Regression South Hemi Cloudiness vs. Lat.png\")\n",
    "plt.show()"
   ]
  },
  {
   "cell_type": "markdown",
   "metadata": {},
   "source": [
    "####  Northern Hemisphere - Wind Speed (mph) vs. Latitude Linear Regression"
   ]
  },
  {
   "cell_type": "markdown",
   "metadata": {},
   "source": [
    "An R-sqared of 3.53e-05 is so low R-squared and this indicates the relationship between wind speed and latitude is almost non-existent."
   ]
  },
  {
   "cell_type": "code",
   "execution_count": 24,
   "metadata": {},
   "outputs": [
    {
     "name": "stdout",
     "output_type": "stream",
     "text": [
      "The r-squared is: 0.004019592348567117\n"
     ]
    },
    {
     "data": {
      "image/png": "[encoded data removed]",
      "text/plain": [
       "<Figure size 432x288 with 1 Axes>"
      ]
     },
     "metadata": {
      "needs_background": "light"
     },
     "output_type": "display_data"
    }
   ],
   "source": [
    "# Create a scatter plot of the x and y values for the Northern Hemisphere.\n",
    "x_values = North_Hemi[\"Lat\"]\n",
    "y_values = North_Hemi[\"Wind Speed\"] \n",
    "\n",
    "(slope, intercept, rvalue, pvalue, stderr) = linregress(x_values, y_values)\n",
    "regress_values = x_values * slope + intercept\n",
    "line_eq = \"y = \" + str(round(slope,2)) + \"x + \" + str(round(intercept,2))\n",
    "plt.scatter(x_values,y_values)\n",
    "plt.plot(x_values,regress_values,\"r-\")\n",
    "plt.title(f'Northern Hemisphere Wind Speed (mph) vs. Latitude ({datetime.datetime.now().strftime(\"%D\")})')\n",
    "plt.annotate(line_eq,(40,15),fontsize=15,color=\"red\")\n",
    "plt.xlabel('Latitude')\n",
    "plt.ylabel('Wind Speed (mph)')\n",
    "print(f\"The r-squared is: {rvalue**2}\")\n",
    "plt.savefig(\"../Images/Linear Regression North Hemi Wind speed vs. Latitude.png\")\n",
    "plt.show()\n",
    "\n"
   ]
  },
  {
   "cell_type": "markdown",
   "metadata": {},
   "source": [
    "####  Southern Hemisphere - Wind Speed (mph) vs. Latitude Linear Regression"
   ]
  },
  {
   "cell_type": "markdown",
   "metadata": {},
   "source": [
    "An R-sqared of .0265 is very low R-squared and this indicates the relationship between wind speed and latitude is almost non-existent."
   ]
  },
  {
   "cell_type": "code",
   "execution_count": 25,
   "metadata": {},
   "outputs": [
    {
     "name": "stdout",
     "output_type": "stream",
     "text": [
      "The r-squared is: 0.02563130123407187\n"
     ]
    },
    {
     "data": {
      "image/png": "[encoded data removed]",
      "text/plain": [
       "<Figure size 432x288 with 1 Axes>"
      ]
     },
     "metadata": {
      "needs_background": "light"
     },
     "output_type": "display_data"
    }
   ],
   "source": [
    "# Create a scatter plot of the x and y values for the Southern Hemisphere.\n",
    "x_values = South_Hemi[\"Lat\"]\n",
    "y_values = South_Hemi[\"Wind Speed\"] \n",
    "\n",
    "(slope, intercept, rvalue, pvalue, stderr) = linregress(x_values, y_values)\n",
    "regress_values = x_values * slope + intercept\n",
    "line_eq = \"y = \" + str(round(slope,2)) + \"x + \" + str(round(intercept,2))\n",
    "plt.scatter(x_values,y_values)\n",
    "plt.plot(x_values,regress_values,\"r-\")\n",
    "plt.title(f'Southern Hemisphere Wind Speed vs. Latitude ({datetime.datetime.now().strftime(\"%D\")})')\n",
    "plt.annotate(line_eq,(-50,10),fontsize=15,color=\"red\")\n",
    "plt.xlabel('Latitude')\n",
    "plt.ylabel('Wind Speed (mph)')\n",
    "print(f\"The r-squared is: {rvalue**2}\")\n",
    "plt.savefig(\"../Images/Linear Regression South Hemi Wind speed vs. Latitude.png\")\n",
    "plt.show()"
   ]
  },
  {
   "cell_type": "code",
   "execution_count": null,
   "metadata": {},
   "outputs": [],
   "source": []
  }
 ],
 "metadata": {
  "anaconda-cloud": {},
  "kernel_info": {
   "name": "python3"
  },
  "kernelspec": {
   "display_name": "Python [conda env:PythonData] *",
   "language": "python",
   "name": "conda-env-PythonData-py"
  },
  "language_info": {
   "codemirror_mode": {
    "name": "ipython",
    "version": 3
   },
   "file_extension": ".py",
   "mimetype": "text/x-python",
   "name": "python",
   "nbconvert_exporter": "python",
   "pygments_lexer": "ipython3",
   "version": "3.6.10"
  },
  "latex_envs": {
   "LaTeX_envs_menu_present": true,
   "autoclose": false,
   "autocomplete": true,
   "bibliofile": "biblio.bib",
   "cite_by": "apalike",
   "current_citInitial": 1,
   "eqLabelWithNumbers": true,
   "eqNumInitial": 1,
   "hotkeys": {
    "equation": "Ctrl-E",
    "itemize": "Ctrl-I"
   },
   "labels_anchors": false,
   "latex_user_defs": false,
   "report_style_numbering": false,
   "user_envs_cfg": false
  },
  "nteract": {
   "version": "0.12.3"
  }
 },
 "nbformat": 4,
 "nbformat_minor": 2
}
