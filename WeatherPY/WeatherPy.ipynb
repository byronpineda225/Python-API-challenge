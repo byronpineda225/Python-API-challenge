{
 "cells": [
  {
   "cell_type": "markdown",
   "metadata": {},
   "source": [
    "# WeatherPy\n",
    "----\n",
    "\n",
    "#### Author: Byron Pineda\n",
    "\n",
    "#### Note\n",
    "* Instructions have been included for each segment. You do not have to follow them exactly, but they are included to help you think through the steps."
   ]
  },
  {
   "cell_type": "markdown",
   "metadata": {},
   "source": [
    "#### Observations:\n",
    "\n",
    "These observations were made prior to running it one last time as the cities are random!\n",
    "\n",
    "Temperature (F) vs. Latitude - As the Latitude is increasing between 0 and 40 the temperatures are around 90 degrees. And with decreasing latitude down to -60 the temperature goes down to 35F. When the latitude goes above 40 the temperature also decreases.\n",
    "\n",
    "Humidity (%) vs. Latitude - Most of the humidity is clustered between -40 to 60 latitude points and most of the humidity is between 50 percent and 90 percent.\n",
    "\n",
    "Cloudiness (%) vs. Latitude - There does not look to be anything much to interpret here as the points are so scattered.\n",
    "\n",
    "Wind Speed (mph) vs. Latitude - The wind speed tends to be clustered between 2 mph and 10 mph across the latitude spanning from -40 to 70.+\n",
    "\n",
    "-----------------------------------------------------------------------------------------------------------------------\n",
    "\n",
    "In each graph below linear regression was run.  In each case the R-squared value was so low that a relationship between each of the variables in the graphs was almost non-existent.\n",
    "\n",
    "Northern Hemisphere - Temperature (F) vs. Latitude: The r-squared is: 0.39306815254426325\n",
    "\n",
    "Southern Hemisphere - Temperature (F) vs. Latitude: The r-squared is: 0.586606046029456\n",
    "\n",
    "Northern Hemisphere - Humidity (%) vs. Latitude: The r-squared is: 0.0048415991416849175\n",
    "\n",
    "Southern Hemisphere - Humidity (%) vs. Latitude: The r-squared is: 0.013135269463919226\n",
    "\n",
    "Northern Hemisphere - Cloudiness (%) vs. Latitude: The r-squared is: 0.008855732490045726\n",
    "\n",
    "Southern Hemisphere - Cloudiness (%) vs. Latitude: The r-squared is: 0.0018824705270874982\n",
    "\n",
    "Northern Hemisphere - Wind Speed (mph) vs. Latitude: The r-squared is: 3.534156388902969e-05\n",
    "\n",
    "Southern Hemisphere - Wind Speed (mph) vs. Latitude: The r-squared is: 0.02656269787764726\n",
    "\n",
    "##### Please note that all images are located in the Images folder \\Python-API-challenge\\Images\n"
   ]
  },
  {
   "cell_type": "code",
   "execution_count": 2,
   "metadata": {
    "scrolled": true
   },
   "outputs": [],
   "source": [
    "# Dependencies and Setup\n",
    "import matplotlib.pyplot as plt\n",
    "import pandas as pd\n",
    "import numpy as np\n",
    "import requests\n",
    "import time\n",
    "import datetime\n",
    "from scipy.stats import linregress\n",
    "\n",
    "# Import API key\n",
    "from api_keys import weather_api_key\n",
    "\n",
    "# Incorporated citipy to determine city based on latitude and longitude\n",
    "from citipy import citipy\n",
    "\n",
    "# Output File (CSV)\n",
    "output_data_file = \"../output_data/cities.csv\"\n",
    "\n",
    "# Range of latitudes and longitudes\n",
    "lat_range = (-90, 90)\n",
    "lng_range = (-180, 180)"
   ]
  },
  {
   "cell_type": "markdown",
   "metadata": {},
   "source": [
    "## Generate Cities List"
   ]
  },
  {
   "cell_type": "code",
   "execution_count": 3,
   "metadata": {},
   "outputs": [
    {
     "data": {
      "text/plain": [
       "595"
      ]
     },
     "execution_count": 3,
     "metadata": {},
     "output_type": "execute_result"
    }
   ],
   "source": [
    "# List for holding lat_lngs and cities\n",
    "lat_lngs = []\n",
    "cities = []\n",
    "\n",
    "# Create a set of random lat and lng combinations\n",
    "lats = np.random.uniform(lat_range[0], lat_range[1], size=1500)\n",
    "lngs = np.random.uniform(lng_range[0], lng_range[1], size=1500)\n",
    "lat_lngs = zip(lats, lngs)\n",
    "\n",
    "# Identify nearest city for each lat, lng combination\n",
    "for lat_lng in lat_lngs:\n",
    "    city = citipy.nearest_city(lat_lng[0], lat_lng[1]).city_name\n",
    "\n",
    "    \n",
    "    # If the city is unique, then add it to a our cities list\n",
    "    if city not in cities:\n",
    "        cities.append(city)\n",
    "\n",
    "# Print the city count to confirm sufficient count\n",
    "len(cities)\n"
   ]
  },
  {
   "cell_type": "code",
   "execution_count": 4,
   "metadata": {},
   "outputs": [
    {
     "data": {
      "text/html": [
       "<div>\n",
       "<style scoped>\n",
       "    .dataframe tbody tr th:only-of-type {\n",
       "        vertical-align: middle;\n",
       "    }\n",
       "\n",
       "    .dataframe tbody tr th {\n",
       "        vertical-align: top;\n",
       "    }\n",
       "\n",
       "    .dataframe thead th {\n",
       "        text-align: right;\n",
       "    }\n",
       "</style>\n",
       "<table border=\"1\" class=\"dataframe\">\n",
       "  <thead>\n",
       "    <tr style=\"text-align: right;\">\n",
       "      <th></th>\n",
       "      <th>City</th>\n",
       "      <th>Lat</th>\n",
       "      <th>Lng</th>\n",
       "      <th>Max Temp</th>\n",
       "      <th>Humidity</th>\n",
       "      <th>Cloudiness</th>\n",
       "      <th>Wind Speed</th>\n",
       "      <th>Country</th>\n",
       "      <th>Date</th>\n",
       "    </tr>\n",
       "  </thead>\n",
       "  <tbody>\n",
       "    <tr>\n",
       "      <th>0</th>\n",
       "      <td>cape town</td>\n",
       "      <td></td>\n",
       "      <td></td>\n",
       "      <td></td>\n",
       "      <td></td>\n",
       "      <td></td>\n",
       "      <td></td>\n",
       "      <td></td>\n",
       "      <td></td>\n",
       "    </tr>\n",
       "    <tr>\n",
       "      <th>1</th>\n",
       "      <td>busselton</td>\n",
       "      <td></td>\n",
       "      <td></td>\n",
       "      <td></td>\n",
       "      <td></td>\n",
       "      <td></td>\n",
       "      <td></td>\n",
       "      <td></td>\n",
       "      <td></td>\n",
       "    </tr>\n",
       "    <tr>\n",
       "      <th>2</th>\n",
       "      <td>mar del plata</td>\n",
       "      <td></td>\n",
       "      <td></td>\n",
       "      <td></td>\n",
       "      <td></td>\n",
       "      <td></td>\n",
       "      <td></td>\n",
       "      <td></td>\n",
       "      <td></td>\n",
       "    </tr>\n",
       "    <tr>\n",
       "      <th>3</th>\n",
       "      <td>bluff</td>\n",
       "      <td></td>\n",
       "      <td></td>\n",
       "      <td></td>\n",
       "      <td></td>\n",
       "      <td></td>\n",
       "      <td></td>\n",
       "      <td></td>\n",
       "      <td></td>\n",
       "    </tr>\n",
       "    <tr>\n",
       "      <th>4</th>\n",
       "      <td>bethel</td>\n",
       "      <td></td>\n",
       "      <td></td>\n",
       "      <td></td>\n",
       "      <td></td>\n",
       "      <td></td>\n",
       "      <td></td>\n",
       "      <td></td>\n",
       "      <td></td>\n",
       "    </tr>\n",
       "  </tbody>\n",
       "</table>\n",
       "</div>"
      ],
      "text/plain": [
       "            City Lat Lng Max Temp Humidity Cloudiness Wind Speed Country Date\n",
       "0      cape town                                                             \n",
       "1      busselton                                                             \n",
       "2  mar del plata                                                             \n",
       "3          bluff                                                             \n",
       "4         bethel                                                             "
      ]
     },
     "execution_count": 4,
     "metadata": {},
     "output_type": "execute_result"
    }
   ],
   "source": [
    "# Create a DataFrame to store the cities and other information\n",
    "df_countries_weather = pd.DataFrame({'City': cities})\n",
    "\n",
    "# Add the other needed lists \n",
    "df_countries_weather['Lat'] = \"\"\n",
    "df_countries_weather['Lng'] = \"\"\n",
    "df_countries_weather['Max Temp'] = \"\"\n",
    "df_countries_weather['Humidity'] = \"\"\n",
    "df_countries_weather['Cloudiness'] = \"\"\n",
    "df_countries_weather['Wind Speed'] = \"\"\n",
    "df_countries_weather['Country'] = \"\"\n",
    "df_countries_weather['Date'] = \"\"\n",
    "\n",
    "df_countries_weather.head()"
   ]
  },
  {
   "cell_type": "code",
   "execution_count": null,
   "metadata": {
    "scrolled": true
   },
   "outputs": [],
   "source": []
  },
  {
   "cell_type": "markdown",
   "metadata": {},
   "source": [
    "### Perform API Calls\n",
    "* Perform a weather check on each city using a series of successive API calls.\n",
    "* Include a print log of each city as it'sbeing processed (with the city number and city name).\n"
   ]
  },
  {
   "cell_type": "code",
   "execution_count": 5,
   "metadata": {},
   "outputs": [
    {
     "name": "stdout",
     "output_type": "stream",
     "text": [
      "Processing Record 1 of Set # 0 | cape town\n",
      "Processing Record 2 of Set # 0 | busselton\n",
      "Processing Record 3 of Set # 0 | mar del plata\n",
      "Processing Record 4 of Set # 0 | bluff\n",
      "Processing Record 5 of Set # 0 | bethel\n",
      "Processing Record 6 of Set # 0 | dikson\n",
      "Processing Record 7 of Set # 0 | port-cartier\n",
      "Processing Record 8 of Set # 0 | sao joao da barra\n",
      "Processing Record 9 of Set # 0 | rikitea\n",
      "Processing Record 10 of Set # 0 | barrow\n",
      "Processing Record 11 of Set # 0 | cogealac\n",
      "Missing weather information for khormuj ... skipping\n",
      "Processing Record 13 of Set # 0 | porto novo\n",
      "Missing weather information for belushya guba ... skipping\n",
      "Processing Record 15 of Set # 0 | avarua\n",
      "Processing Record 16 of Set # 0 | atuona\n",
      "Missing weather information for taolanaro ... skipping\n",
      "Processing Record 18 of Set # 0 | hemnesberget\n",
      "Missing weather information for alotau ... skipping\n",
      "Processing Record 20 of Set # 0 | ribeira grande\n",
      "Processing Record 21 of Set # 0 | nikolskoye\n",
      "Processing Record 22 of Set # 0 | new norfolk\n",
      "Processing Record 23 of Set # 0 | whitehorse\n",
      "Processing Record 24 of Set # 0 | port alfred\n",
      "Processing Record 25 of Set # 0 | hasaki\n",
      "Processing Record 26 of Set # 0 | seoul\n",
      "Processing Record 27 of Set # 0 | lompoc\n",
      "Processing Record 28 of Set # 0 | zeya\n",
      "Processing Record 29 of Set # 0 | manokwari\n",
      "Processing Record 30 of Set # 0 | kapaa\n",
      "Processing Record 31 of Set # 0 | japura\n",
      "Missing weather information for illoqqortoormiut ... skipping\n",
      "Processing Record 33 of Set # 0 | masterton\n",
      "Processing Record 34 of Set # 0 | east london\n",
      "Processing Record 35 of Set # 0 | filadelfia\n",
      "Processing Record 36 of Set # 0 | thompson\n",
      "Processing Record 37 of Set # 0 | port hedland\n",
      "Processing Record 38 of Set # 0 | port blair\n",
      "Processing Record 39 of Set # 0 | hilo\n",
      "Processing Record 40 of Set # 0 | tuatapere\n",
      "Processing Record 41 of Set # 0 | saldanha\n",
      "Processing Record 42 of Set # 0 | punta arenas\n",
      "Processing Record 43 of Set # 0 | tomatlan\n",
      "Processing Record 44 of Set # 0 | upernavik\n",
      "Processing Record 45 of Set # 0 | kita\n",
      "Processing Record 46 of Set # 0 | iqaluit\n",
      "Processing Record 47 of Set # 0 | ushuaia\n",
      "Processing Record 48 of Set # 0 | carutapera\n",
      "Processing Record 49 of Set # 0 | hobart\n",
      "Processing Record 50 of Set # 0 | matam\n",
      "Processing Record 1 of Set # 1 | yellowknife\n",
      "Processing Record 2 of Set # 1 | torbay\n",
      "Processing Record 3 of Set # 1 | nioro\n",
      "Processing Record 4 of Set # 1 | qaanaaq\n",
      "Processing Record 5 of Set # 1 | cherskiy\n",
      "Processing Record 6 of Set # 1 | aykhal\n",
      "Processing Record 7 of Set # 1 | aklavik\n",
      "Processing Record 8 of Set # 1 | mataura\n",
      "Processing Record 9 of Set # 1 | tasiilaq\n",
      "Processing Record 10 of Set # 1 | bengkulu\n",
      "Processing Record 11 of Set # 1 | camapua\n",
      "Missing weather information for dzhusaly ... skipping\n",
      "Processing Record 13 of Set # 1 | eureka\n",
      "Processing Record 14 of Set # 1 | turje\n",
      "Processing Record 15 of Set # 1 | djambala\n",
      "Processing Record 16 of Set # 1 | omboue\n",
      "Processing Record 17 of Set # 1 | jamestown\n",
      "Processing Record 18 of Set # 1 | paamiut\n",
      "Missing weather information for barentsburg ... skipping\n",
      "Processing Record 20 of Set # 1 | waddan\n",
      "Processing Record 21 of Set # 1 | hermanus\n",
      "Processing Record 22 of Set # 1 | hithadhoo\n",
      "Processing Record 23 of Set # 1 | butaritari\n",
      "Missing weather information for crab hill ... skipping\n",
      "Processing Record 25 of Set # 1 | anori\n",
      "Processing Record 26 of Set # 1 | mount gambier\n",
      "Processing Record 27 of Set # 1 | ahuacatlan\n",
      "Processing Record 28 of Set # 1 | laguna\n",
      "Processing Record 29 of Set # 1 | saskylakh\n",
      "Processing Record 30 of Set # 1 | bonavista\n",
      "Processing Record 31 of Set # 1 | rocha\n",
      "Processing Record 32 of Set # 1 | shelburne\n",
      "Processing Record 33 of Set # 1 | bourail\n",
      "Processing Record 34 of Set # 1 | sao filipe\n",
      "Processing Record 35 of Set # 1 | zhengjiatun\n",
      "Processing Record 36 of Set # 1 | mgandu\n",
      "Processing Record 37 of Set # 1 | clyde river\n",
      "Processing Record 38 of Set # 1 | black river\n",
      "Processing Record 39 of Set # 1 | bandarbeyla\n",
      "Processing Record 40 of Set # 1 | geraldton\n",
      "Processing Record 41 of Set # 1 | yatou\n",
      "Processing Record 42 of Set # 1 | bambanglipuro\n",
      "Processing Record 43 of Set # 1 | kaitangata\n",
      "Processing Record 44 of Set # 1 | banjar\n",
      "Processing Record 45 of Set # 1 | port lincoln\n",
      "Processing Record 46 of Set # 1 | talnakh\n",
      "Processing Record 47 of Set # 1 | hervey bay\n",
      "Processing Record 48 of Set # 1 | lukovetskiy\n",
      "Processing Record 49 of Set # 1 | norman wells\n",
      "Processing Record 50 of Set # 1 | bassar\n",
      "Processing Record 1 of Set # 2 | nemuro\n",
      "Processing Record 2 of Set # 2 | leningradskiy\n",
      "Processing Record 3 of Set # 2 | ancud\n",
      "Processing Record 4 of Set # 2 | sitka\n",
      "Processing Record 5 of Set # 2 | fortuna\n",
      "Processing Record 6 of Set # 2 | cidreira\n",
      "Processing Record 7 of Set # 2 | tiksi\n",
      "Processing Record 8 of Set # 2 | puerto ayora\n",
      "Processing Record 9 of Set # 2 | soc trang\n",
      "Processing Record 10 of Set # 2 | fort nelson\n",
      "Processing Record 11 of Set # 2 | albany\n",
      "Processing Record 12 of Set # 2 | palma di montechiaro\n",
      "Processing Record 13 of Set # 2 | sur\n",
      "Processing Record 14 of Set # 2 | bredasdorp\n",
      "Processing Record 15 of Set # 2 | vaini\n",
      "Processing Record 16 of Set # 2 | kamenka\n",
      "Processing Record 17 of Set # 2 | lorengau\n",
      "Processing Record 18 of Set # 2 | port elizabeth\n",
      "Processing Record 19 of Set # 2 | georgetown\n",
      "Missing weather information for mys shmidta ... skipping\n",
      "Missing weather information for ruatoria ... skipping\n",
      "Processing Record 22 of Set # 2 | haines junction\n",
      "Processing Record 23 of Set # 2 | biltine\n",
      "Processing Record 24 of Set # 2 | puerto ayacucho\n",
      "Processing Record 25 of Set # 2 | kutum\n",
      "Processing Record 26 of Set # 2 | labuhan\n",
      "Processing Record 27 of Set # 2 | tamiahua\n",
      "Processing Record 28 of Set # 2 | el ocotito\n",
      "Processing Record 29 of Set # 2 | mahebourg\n",
      "Processing Record 30 of Set # 2 | luwuk\n",
      "Processing Record 31 of Set # 2 | simplicio mendes\n",
      "Processing Record 32 of Set # 2 | anajatuba\n",
      "Processing Record 33 of Set # 2 | portland\n",
      "Processing Record 34 of Set # 2 | bathsheba\n",
      "Processing Record 35 of Set # 2 | kandi\n",
      "Processing Record 36 of Set # 2 | severo-kurilsk\n",
      "Processing Record 37 of Set # 2 | victoria\n",
      "Processing Record 38 of Set # 2 | borisoglebsk\n",
      "Processing Record 39 of Set # 2 | meylan\n",
      "Processing Record 40 of Set # 2 | bayir\n",
      "Processing Record 41 of Set # 2 | klaksvik\n",
      "Processing Record 42 of Set # 2 | olavarria\n",
      "Processing Record 43 of Set # 2 | tuktoyaktuk\n",
      "Processing Record 44 of Set # 2 | grand gaube\n",
      "Processing Record 45 of Set # 2 | moulins\n",
      "Processing Record 46 of Set # 2 | inta\n",
      "Processing Record 47 of Set # 2 | kulhudhuffushi\n",
      "Missing weather information for attawapiskat ... skipping\n",
      "Processing Record 49 of Set # 2 | newport\n",
      "Processing Record 50 of Set # 2 | lavrentiya\n",
      "Processing Record 1 of Set # 3 | chernyshevskiy\n",
      "Processing Record 2 of Set # 3 | bambous virieux\n",
      "Processing Record 3 of Set # 3 | silver city\n",
      "Processing Record 4 of Set # 3 | carnarvon\n",
      "Processing Record 5 of Set # 3 | arraial do cabo\n",
      "Processing Record 6 of Set # 3 | roma\n",
      "Processing Record 7 of Set # 3 | lebu\n",
      "Processing Record 8 of Set # 3 | high level\n",
      "Missing weather information for urdzhar ... skipping\n",
      "Processing Record 10 of Set # 3 | ponta do sol\n",
      "Processing Record 11 of Set # 3 | honningsvag\n",
      "Processing Record 12 of Set # 3 | guerrero negro\n",
      "Processing Record 13 of Set # 3 | muros\n",
      "Processing Record 14 of Set # 3 | pisco\n",
      "Processing Record 15 of Set # 3 | fereydunshahr\n",
      "Processing Record 16 of Set # 3 | hovd\n",
      "Processing Record 17 of Set # 3 | iquitos\n",
      "Processing Record 18 of Set # 3 | los algarrobos\n",
      "Processing Record 19 of Set # 3 | kibungo\n",
      "Processing Record 20 of Set # 3 | saint-pierre\n",
      "Processing Record 21 of Set # 3 | hudson bay\n",
      "Processing Record 22 of Set # 3 | darnah\n",
      "Missing weather information for tawkar ... skipping\n",
      "Processing Record 24 of Set # 3 | vao\n",
      "Processing Record 25 of Set # 3 | chokurdakh\n",
      "Processing Record 26 of Set # 3 | amroha\n",
      "Processing Record 27 of Set # 3 | matamoros\n",
      "Processing Record 28 of Set # 3 | pevek\n",
      "Processing Record 29 of Set # 3 | huarmey\n",
      "Processing Record 30 of Set # 3 | chuy\n",
      "Processing Record 31 of Set # 3 | faanui\n",
      "Processing Record 32 of Set # 3 | richards bay\n",
      "Processing Record 33 of Set # 3 | castro\n",
      "Processing Record 34 of Set # 3 | salalah\n",
      "Processing Record 35 of Set # 3 | khatanga\n",
      "Processing Record 36 of Set # 3 | tupa\n"
     ]
    },
    {
     "name": "stdout",
     "output_type": "stream",
     "text": [
      "Processing Record 37 of Set # 3 | srednekolymsk\n",
      "Processing Record 38 of Set # 3 | ponte nova\n",
      "Processing Record 39 of Set # 3 | shirokiy\n",
      "Processing Record 40 of Set # 3 | kangaatsiaq\n",
      "Processing Record 41 of Set # 3 | zhangzhou\n",
      "Processing Record 42 of Set # 3 | suna\n",
      "Processing Record 43 of Set # 3 | kahului\n",
      "Processing Record 44 of Set # 3 | saravan\n",
      "Processing Record 45 of Set # 3 | sayyan\n",
      "Processing Record 46 of Set # 3 | kyshtovka\n",
      "Processing Record 47 of Set # 3 | pangoa\n",
      "Processing Record 48 of Set # 3 | alghero\n",
      "Processing Record 49 of Set # 3 | kaeo\n",
      "Processing Record 50 of Set # 3 | tashtyp\n",
      "Processing Record 1 of Set # 4 | hofn\n",
      "Processing Record 2 of Set # 4 | shingu\n",
      "Processing Record 3 of Set # 4 | birjand\n",
      "Processing Record 4 of Set # 4 | airai\n",
      "Processing Record 5 of Set # 4 | ocho rios\n",
      "Processing Record 6 of Set # 4 | narsaq\n",
      "Processing Record 7 of Set # 4 | longyearbyen\n",
      "Processing Record 8 of Set # 4 | hamilton\n",
      "Processing Record 9 of Set # 4 | coihaique\n",
      "Processing Record 10 of Set # 4 | liepaja\n",
      "Processing Record 11 of Set # 4 | pontes e lacerda\n",
      "Processing Record 12 of Set # 4 | najran\n",
      "Processing Record 13 of Set # 4 | novobirilyussy\n",
      "Processing Record 14 of Set # 4 | pochutla\n",
      "Processing Record 15 of Set # 4 | jasper\n",
      "Processing Record 16 of Set # 4 | correntina\n",
      "Processing Record 17 of Set # 4 | manta\n",
      "Missing weather information for lolua ... skipping\n",
      "Processing Record 19 of Set # 4 | esperance\n",
      "Missing weather information for tidore ... skipping\n",
      "Processing Record 21 of Set # 4 | jaque\n",
      "Processing Record 22 of Set # 4 | deputatskiy\n",
      "Processing Record 23 of Set # 4 | luderitz\n",
      "Processing Record 24 of Set # 4 | college\n",
      "Processing Record 25 of Set # 4 | arlit\n",
      "Processing Record 26 of Set # 4 | port keats\n",
      "Processing Record 27 of Set # 4 | adlay\n",
      "Processing Record 28 of Set # 4 | radviliskis\n",
      "Processing Record 29 of Set # 4 | maragogi\n",
      "Processing Record 30 of Set # 4 | kushmurun\n",
      "Processing Record 31 of Set # 4 | rawah\n",
      "Processing Record 32 of Set # 4 | elk city\n",
      "Processing Record 33 of Set # 4 | yar-sale\n",
      "Processing Record 34 of Set # 4 | coquimbo\n",
      "Processing Record 35 of Set # 4 | farafangana\n",
      "Processing Record 36 of Set # 4 | kodiak\n",
      "Processing Record 37 of Set # 4 | sakaraha\n",
      "Processing Record 38 of Set # 4 | barre\n",
      "Processing Record 39 of Set # 4 | broome\n",
      "Processing Record 40 of Set # 4 | neiafu\n",
      "Processing Record 41 of Set # 4 | agbor\n",
      "Processing Record 42 of Set # 4 | mehamn\n",
      "Processing Record 43 of Set # 4 | vila franca do campo\n",
      "Processing Record 44 of Set # 4 | araouane\n",
      "Processing Record 45 of Set # 4 | kolokani\n",
      "Processing Record 46 of Set # 4 | flin flon\n",
      "Processing Record 47 of Set # 4 | hambantota\n",
      "Processing Record 48 of Set # 4 | iberia\n",
      "Processing Record 49 of Set # 4 | pimentel\n",
      "Processing Record 50 of Set # 4 | micheweni\n",
      "Processing Record 1 of Set # 5 | turayf\n",
      "Processing Record 2 of Set # 5 | gizo\n",
      "Processing Record 3 of Set # 5 | oeiras\n",
      "Processing Record 4 of Set # 5 | buraydah\n",
      "Processing Record 5 of Set # 5 | saint-philippe\n",
      "Processing Record 6 of Set # 5 | sarangani\n",
      "Processing Record 7 of Set # 5 | tyup\n",
      "Processing Record 8 of Set # 5 | batemans bay\n",
      "Processing Record 9 of Set # 5 | sept-iles\n",
      "Processing Record 10 of Set # 5 | cabo san lucas\n",
      "Processing Record 11 of Set # 5 | guamuchil\n",
      "Processing Record 12 of Set # 5 | havre-saint-pierre\n",
      "Processing Record 13 of Set # 5 | kavaratti\n",
      "Processing Record 14 of Set # 5 | magdagachi\n",
      "Processing Record 15 of Set # 5 | edd\n",
      "Processing Record 16 of Set # 5 | yarim\n",
      "Processing Record 17 of Set # 5 | alofi\n",
      "Processing Record 18 of Set # 5 | lagoa\n",
      "Processing Record 19 of Set # 5 | wenling\n",
      "Processing Record 20 of Set # 5 | mutoko\n",
      "Missing weather information for kawana waters ... skipping\n",
      "Processing Record 22 of Set # 5 | druzhba\n",
      "Processing Record 23 of Set # 5 | san policarpo\n",
      "Processing Record 24 of Set # 5 | labis\n",
      "Processing Record 25 of Set # 5 | knysna\n",
      "Processing Record 26 of Set # 5 | te anau\n",
      "Processing Record 27 of Set # 5 | sant feliu de guixols\n",
      "Processing Record 28 of Set # 5 | boulder city\n",
      "Processing Record 29 of Set # 5 | broken hill\n",
      "Processing Record 30 of Set # 5 | noyabrsk\n",
      "Processing Record 31 of Set # 5 | touros\n",
      "Missing weather information for qandahar ... skipping\n",
      "Processing Record 33 of Set # 5 | gualaca\n",
      "Processing Record 34 of Set # 5 | korla\n",
      "Processing Record 35 of Set # 5 | tigil\n",
      "Processing Record 36 of Set # 5 | caravelas\n",
      "Processing Record 37 of Set # 5 | puerto cabezas\n",
      "Processing Record 38 of Set # 5 | aksu\n",
      "Processing Record 39 of Set # 5 | umm lajj\n",
      "Processing Record 40 of Set # 5 | altay\n",
      "Processing Record 41 of Set # 5 | nanortalik\n",
      "Processing Record 42 of Set # 5 | camalu\n",
      "Processing Record 43 of Set # 5 | lazaro cardenas\n",
      "Missing weather information for umzimvubu ... skipping\n",
      "Processing Record 45 of Set # 5 | riachao das neves\n",
      "Processing Record 46 of Set # 5 | olafsvik\n",
      "Processing Record 47 of Set # 5 | mocuba\n",
      "Processing Record 48 of Set # 5 | ilulissat\n",
      "Processing Record 49 of Set # 5 | stykkisholmur\n",
      "Processing Record 50 of Set # 5 | port hardy\n",
      "Processing Record 1 of Set # 6 | luau\n",
      "Processing Record 2 of Set # 6 | skibbereen\n",
      "Processing Record 3 of Set # 6 | mabaruma\n",
      "Missing weather information for sentyabrskiy ... skipping\n",
      "Processing Record 5 of Set # 6 | ust-nera\n",
      "Processing Record 6 of Set # 6 | bonthe\n",
      "Processing Record 7 of Set # 6 | grindavik\n",
      "Processing Record 8 of Set # 6 | kapoeta\n",
      "Processing Record 9 of Set # 6 | roald\n",
      "Processing Record 10 of Set # 6 | namibe\n",
      "Processing Record 11 of Set # 6 | maua\n",
      "Processing Record 12 of Set # 6 | ouadda\n",
      "Processing Record 13 of Set # 6 | emerald\n",
      "Processing Record 14 of Set # 6 | husavik\n",
      "Processing Record 15 of Set # 6 | san quintin\n",
      "Processing Record 16 of Set # 6 | verkhoturye\n",
      "Processing Record 17 of Set # 6 | komsomolskiy\n",
      "Processing Record 18 of Set # 6 | kalevala\n",
      "Processing Record 19 of Set # 6 | tadine\n",
      "Processing Record 20 of Set # 6 | kavieng\n",
      "Processing Record 21 of Set # 6 | taltal\n",
      "Missing weather information for amderma ... skipping\n",
      "Processing Record 23 of Set # 6 | saint george\n",
      "Processing Record 24 of Set # 6 | jiaojiang\n",
      "Processing Record 25 of Set # 6 | astana\n",
      "Processing Record 26 of Set # 6 | fort-shevchenko\n",
      "Processing Record 27 of Set # 6 | cockburn town\n",
      "Processing Record 28 of Set # 6 | acajutla\n",
      "Processing Record 29 of Set # 6 | riyadh\n",
      "Processing Record 30 of Set # 6 | malatya\n",
      "Processing Record 31 of Set # 6 | rio grande\n",
      "Processing Record 32 of Set # 6 | gao\n",
      "Processing Record 33 of Set # 6 | rosarito\n",
      "Processing Record 34 of Set # 6 | nabire\n",
      "Processing Record 35 of Set # 6 | marienburg\n",
      "Processing Record 36 of Set # 6 | tabou\n",
      "Missing weather information for posusje ... skipping\n",
      "Processing Record 38 of Set # 6 | alexandria\n",
      "Processing Record 39 of Set # 6 | moose jaw\n",
      "Processing Record 40 of Set # 6 | zavyalovo\n",
      "Processing Record 41 of Set # 6 | campo largo\n",
      "Processing Record 42 of Set # 6 | isangel\n",
      "Processing Record 43 of Set # 6 | requena\n",
      "Processing Record 44 of Set # 6 | viedma\n",
      "Processing Record 45 of Set # 6 | san patricio\n",
      "Processing Record 46 of Set # 6 | santa rosa\n",
      "Processing Record 47 of Set # 6 | padang\n",
      "Processing Record 48 of Set # 6 | codrington\n",
      "Processing Record 49 of Set # 6 | nanchong\n",
      "Missing weather information for nizhneyansk ... skipping\n",
      "Processing Record 1 of Set # 7 | nanakuli\n",
      "Processing Record 2 of Set # 7 | meulaboh\n",
      "Processing Record 3 of Set # 7 | ust-maya\n",
      "Processing Record 4 of Set # 7 | umarkhed\n",
      "Processing Record 5 of Set # 7 | princeton\n",
      "Processing Record 6 of Set # 7 | millinocket\n",
      "Processing Record 7 of Set # 7 | west bay\n",
      "Processing Record 8 of Set # 7 | pedernales\n",
      "Processing Record 9 of Set # 7 | candolim\n",
      "Processing Record 10 of Set # 7 | mezen\n",
      "Missing weather information for tsihombe ... skipping\n",
      "Processing Record 12 of Set # 7 | aksarka\n",
      "Processing Record 13 of Set # 7 | diban\n",
      "Processing Record 14 of Set # 7 | srivardhan\n",
      "Missing weather information for paradwip ... skipping\n",
      "Missing weather information for saryshagan ... skipping\n",
      "Missing weather information for zlatarica ... skipping\n",
      "Missing weather information for kadykchan ... skipping\n",
      "Processing Record 19 of Set # 7 | axim\n",
      "Processing Record 20 of Set # 7 | batsfjord\n",
      "Missing weather information for warqla ... skipping\n",
      "Processing Record 22 of Set # 7 | turukhansk\n",
      "Processing Record 23 of Set # 7 | necochea\n"
     ]
    },
    {
     "name": "stdout",
     "output_type": "stream",
     "text": [
      "Processing Record 24 of Set # 7 | la ronge\n",
      "Processing Record 25 of Set # 7 | jingdezhen\n",
      "Processing Record 26 of Set # 7 | tacuati\n",
      "Processing Record 27 of Set # 7 | monterey\n",
      "Missing weather information for cockburn harbour ... skipping\n",
      "Processing Record 29 of Set # 7 | blantyre\n",
      "Processing Record 30 of Set # 7 | maniitsoq\n",
      "Processing Record 31 of Set # 7 | torbat-e jam\n",
      "Processing Record 32 of Set # 7 | honiara\n",
      "Processing Record 33 of Set # 7 | dukat\n",
      "Processing Record 34 of Set # 7 | ayotzintepec\n",
      "Processing Record 35 of Set # 7 | gold coast\n",
      "Processing Record 36 of Set # 7 | faya\n",
      "Processing Record 37 of Set # 7 | ponazyrevo\n",
      "Processing Record 38 of Set # 7 | asau\n",
      "Processing Record 39 of Set # 7 | houlton\n",
      "Processing Record 40 of Set # 7 | khandbari\n",
      "Processing Record 41 of Set # 7 | bijar\n",
      "Processing Record 42 of Set # 7 | lima\n",
      "Processing Record 43 of Set # 7 | arcachon\n",
      "Processing Record 44 of Set # 7 | port-gentil\n",
      "Processing Record 45 of Set # 7 | ayacucho\n",
      "Processing Record 46 of Set # 7 | avera\n",
      "Processing Record 47 of Set # 7 | curumani\n",
      "Processing Record 48 of Set # 7 | mackay\n",
      "Processing Record 49 of Set # 7 | cape coast\n",
      "Processing Record 50 of Set # 7 | boyolangu\n",
      "Processing Record 1 of Set # 8 | ugoofaaru\n",
      "Missing weather information for tumannyy ... skipping\n",
      "Processing Record 3 of Set # 8 | camopi\n",
      "Processing Record 4 of Set # 8 | pietroasa\n",
      "Processing Record 5 of Set # 8 | tokur\n",
      "Processing Record 6 of Set # 8 | mazatlan\n",
      "Processing Record 7 of Set # 8 | okha\n",
      "Processing Record 8 of Set # 8 | kismayo\n",
      "Processing Record 9 of Set # 8 | provideniya\n",
      "Missing weather information for grand river south east ... skipping\n",
      "Missing weather information for uk ... skipping\n",
      "Processing Record 12 of Set # 8 | bosaso\n",
      "Processing Record 13 of Set # 8 | creel\n",
      "Processing Record 14 of Set # 8 | middelburg\n",
      "Processing Record 15 of Set # 8 | great falls\n",
      "Processing Record 16 of Set # 8 | havelock\n",
      "Processing Record 17 of Set # 8 | garoua\n",
      "Processing Record 18 of Set # 8 | panaba\n",
      "Processing Record 19 of Set # 8 | uniontown\n",
      "Processing Record 20 of Set # 8 | shagonar\n",
      "Processing Record 21 of Set # 8 | buala\n",
      "Missing weather information for khonuu ... skipping\n",
      "Processing Record 23 of Set # 8 | ulladulla\n",
      "Processing Record 24 of Set # 8 | cardston\n",
      "Processing Record 25 of Set # 8 | smoky lake\n",
      "Processing Record 26 of Set # 8 | qitaihe\n",
      "Processing Record 27 of Set # 8 | denpasar\n",
      "Processing Record 28 of Set # 8 | roswell\n",
      "Processing Record 29 of Set # 8 | nelson bay\n",
      "Processing Record 30 of Set # 8 | souillac\n",
      "Missing weather information for mergui ... skipping\n",
      "Processing Record 32 of Set # 8 | nicoya\n",
      "Processing Record 33 of Set # 8 | nakonde\n",
      "Processing Record 34 of Set # 8 | southbridge\n",
      "Missing weather information for falealupo ... skipping\n",
      "Processing Record 36 of Set # 8 | saint john\n",
      "Missing weather information for toliary ... skipping\n",
      "Processing Record 38 of Set # 8 | ulagan\n",
      "Processing Record 39 of Set # 8 | moree\n",
      "Processing Record 40 of Set # 8 | olanchito\n",
      "Processing Record 41 of Set # 8 | kostomuksha\n",
      "Processing Record 42 of Set # 8 | sao gabriel da cachoeira\n",
      "Processing Record 43 of Set # 8 | seddon\n",
      "Processing Record 44 of Set # 8 | puerto del rosario\n",
      "Missing weather information for saleaula ... skipping\n",
      "Processing Record 46 of Set # 8 | northam\n",
      "Processing Record 47 of Set # 8 | algiers\n",
      "Processing Record 48 of Set # 8 | kasongo-lunda\n",
      "Processing Record 49 of Set # 8 | kuusamo\n",
      "Processing Record 50 of Set # 8 | fort portal\n",
      "Processing Record 1 of Set # 9 | jining\n",
      "Processing Record 2 of Set # 9 | ilebo\n",
      "Processing Record 3 of Set # 9 | hohhot\n",
      "Processing Record 4 of Set # 9 | havoysund\n",
      "Processing Record 5 of Set # 9 | leh\n",
      "Processing Record 6 of Set # 9 | namatanai\n",
      "Missing weather information for kegayli ... skipping\n",
      "Processing Record 8 of Set # 9 | salinas\n",
      "Processing Record 9 of Set # 9 | henties bay\n",
      "Processing Record 10 of Set # 9 | paoua\n",
      "Processing Record 11 of Set # 9 | fare\n",
      "Processing Record 12 of Set # 9 | zaqatala\n",
      "Processing Record 13 of Set # 9 | yeppoon\n",
      "Processing Record 14 of Set # 9 | emba\n",
      "Missing weather information for ngukurr ... skipping\n",
      "Processing Record 16 of Set # 9 | vung tau\n",
      "Processing Record 17 of Set # 9 | pandi\n",
      "Processing Record 18 of Set # 9 | maarianhamina\n",
      "Missing weather information for balimo ... skipping\n",
      "Processing Record 20 of Set # 9 | asfi\n",
      "Processing Record 21 of Set # 9 | ilo\n",
      "Processing Record 22 of Set # 9 | hirado\n",
      "Processing Record 23 of Set # 9 | vestmannaeyjar\n",
      "Processing Record 24 of Set # 9 | antonina\n",
      "Processing Record 25 of Set # 9 | qaqortoq\n",
      "Processing Record 26 of Set # 9 | bingen\n",
      "Processing Record 27 of Set # 9 | sioux lookout\n",
      "Processing Record 28 of Set # 9 | gazojak\n",
      "Processing Record 29 of Set # 9 | moron\n",
      "Processing Record 30 of Set # 9 | lasa\n",
      "Processing Record 31 of Set # 9 | thabazimbi\n",
      "Processing Record 32 of Set # 9 | iracoubo\n",
      "Processing Record 33 of Set # 9 | krasnoselkup\n",
      "Processing Record 34 of Set # 9 | yumen\n",
      "Processing Record 35 of Set # 9 | krasnyy kut\n",
      "Processing Record 36 of Set # 9 | ballina\n",
      "Processing Record 37 of Set # 9 | port hawkesbury\n",
      "Processing Record 38 of Set # 9 | maceio\n",
      "Processing Record 39 of Set # 9 | oksfjord\n",
      "Processing Record 40 of Set # 9 | savonlinna\n",
      "Processing Record 41 of Set # 9 | taoudenni\n",
      "Processing Record 42 of Set # 9 | jizan\n",
      "Processing Record 43 of Set # 9 | san cristobal\n",
      "Processing Record 44 of Set # 9 | gongzhuling\n",
      "Processing Record 45 of Set # 9 | maloy\n",
      "Processing Record 46 of Set # 9 | moerai\n",
      "Processing Record 47 of Set # 9 | taunggyi\n",
      "Processing Record 48 of Set # 9 | pampierstad\n",
      "Processing Record 49 of Set # 9 | saint-joseph\n",
      "Processing Record 50 of Set # 9 | gravdal\n",
      "Processing Record 1 of Set # 10 | nambucca heads\n",
      "Processing Record 2 of Set # 10 | ostrovnoy\n",
      "Processing Record 3 of Set # 10 | puerto penasco\n",
      "Processing Record 4 of Set # 10 | yueyang\n",
      "Processing Record 5 of Set # 10 | tanout\n",
      "Processing Record 6 of Set # 10 | warrnambool\n",
      "Processing Record 7 of Set # 10 | chambar\n",
      "Processing Record 8 of Set # 10 | mayo\n",
      "Processing Record 9 of Set # 10 | indore\n",
      "Processing Record 10 of Set # 10 | santa cruz de las flores\n",
      "Processing Record 11 of Set # 10 | praya\n",
      "Processing Record 12 of Set # 10 | sao geraldo do araguaia\n",
      "Processing Record 13 of Set # 10 | pangnirtung\n",
      "Processing Record 14 of Set # 10 | ixtapa\n",
      "Processing Record 15 of Set # 10 | chingirlau\n",
      "Processing Record 16 of Set # 10 | ambon\n",
      "Processing Record 17 of Set # 10 | parvatipuram\n",
      "Processing Record 18 of Set # 10 | ongandjera\n",
      "Processing Record 19 of Set # 10 | port moresby\n",
      "Processing Record 20 of Set # 10 | takayama\n",
      "Processing Record 21 of Set # 10 | tessalit\n",
      "Processing Record 22 of Set # 10 | celestun\n",
      "Processing Record 23 of Set # 10 | yaguajay\n",
      "Processing Record 24 of Set # 10 | akyab\n",
      "Processing Record 25 of Set # 10 | camacha\n",
      "Processing Record 26 of Set # 10 | junin\n",
      "Processing Record 27 of Set # 10 | potosi\n",
      "Processing Record 28 of Set # 10 | tazovskiy\n",
      "Processing Record 29 of Set # 10 | indiana\n",
      "Processing Record 30 of Set # 10 | kiama\n",
      "Processing Record 31 of Set # 10 | partyzany\n",
      "Missing weather information for kerteh ... skipping\n",
      "Processing Record 33 of Set # 10 | de-kastri\n",
      "Processing Record 34 of Set # 10 | nishihara\n",
      "Processing Record 35 of Set # 10 | parrita\n",
      "Processing Record 36 of Set # 10 | teya\n",
      "Processing Record 37 of Set # 10 | basco\n",
      "Processing Record 38 of Set # 10 | naryan-mar\n",
      "Processing Record 39 of Set # 10 | bemidji\n",
      "Missing weather information for po ... skipping\n",
      "Processing Record 41 of Set # 10 | bucak\n",
      "Processing Record 42 of Set # 10 | gat\n",
      "Processing Record 43 of Set # 10 | montepuez\n",
      "Processing Record 44 of Set # 10 | hobyo\n",
      "Processing Record 45 of Set # 10 | suleja\n",
      "Processing Record 46 of Set # 10 | queenstown\n",
      "Processing Record 47 of Set # 10 | yining\n",
      "Processing Record 48 of Set # 10 | kemijarvi\n",
      "Processing Record 49 of Set # 10 | gazli\n",
      "Missing weather information for louisbourg ... skipping\n",
      "Processing Record 1 of Set # 11 | halifax\n",
      "Processing Record 2 of Set # 11 | general roca\n",
      "Processing Record 3 of Set # 11 | spearfish\n",
      "Processing Record 4 of Set # 11 | bilma\n",
      "Processing Record 5 of Set # 11 | oussouye\n",
      "Processing Record 6 of Set # 11 | burhanpur\n",
      "Processing Record 7 of Set # 11 | miri\n",
      "Processing Record 8 of Set # 11 | cassilandia\n",
      "Processing Record 9 of Set # 11 | sinnamary\n"
     ]
    },
    {
     "name": "stdout",
     "output_type": "stream",
     "text": [
      "Processing Record 10 of Set # 11 | kochevo\n",
      "Missing weather information for bargal ... skipping\n",
      "Processing Record 12 of Set # 11 | terrytown\n",
      "Processing Record 13 of Set # 11 | inuvik\n",
      "Processing Record 14 of Set # 11 | george town\n",
      "Processing Record 15 of Set # 11 | amahai\n",
      "Processing Record 16 of Set # 11 | dankov\n",
      "Processing Record 17 of Set # 11 | libertador general san martin\n",
      "Missing weather information for palabuhanratu ... skipping\n",
      "Processing Record 19 of Set # 11 | fairbanks\n",
      "Processing Record 20 of Set # 11 | katobu\n",
      "Processing Record 21 of Set # 11 | majene\n",
      "Processing Record 22 of Set # 11 | walvis bay\n",
      "Processing Record 23 of Set # 11 | oktyabrskiy\n",
      "Processing Record 24 of Set # 11 | lampazos de naranjo\n",
      "Processing Record 25 of Set # 11 | villa guerrero\n",
      "Processing Record 26 of Set # 11 | beaverlodge\n",
      "Processing Record 27 of Set # 11 | lulea\n",
      "Processing Record 28 of Set # 11 | atambua\n",
      "Processing Record 29 of Set # 11 | tevriz\n",
      "Processing Record 30 of Set # 11 | bellevue\n",
      "Processing Record 31 of Set # 11 | belz\n",
      "Processing Record 32 of Set # 11 | constitucion\n",
      "Processing Record 33 of Set # 11 | angoche\n",
      "Processing Record 34 of Set # 11 | sozimskiy\n",
      "Processing Record 35 of Set # 11 | sistranda\n",
      "Processing Record 36 of Set # 11 | mantua\n",
      "Processing Record 37 of Set # 11 | bowen\n",
      "Processing Record 38 of Set # 11 | praia da vitoria\n",
      "Processing Record 39 of Set # 11 | itanhem\n",
      "Processing Record 40 of Set # 11 | phanat nikhom\n",
      "Processing Record 41 of Set # 11 | laguna de perlas\n",
      "Processing Record 42 of Set # 11 | tura\n",
      "Processing Record 43 of Set # 11 | comodoro rivadavia\n",
      "Processing Record 44 of Set # 11 | zapolyarnyy\n",
      "Processing Record 45 of Set # 11 | ulaangom\n",
      "Processing of weather data successfully completed for 550 cities\n"
     ]
    }
   ],
   "source": [
    "# Starting URL for Weather Map API Call.\n",
    "url = \"http://api.openweathermap.org/data/2.5/weather?\" \n",
    "units = \"imperial\"\n",
    "\n",
    "# keeps count of those cities whose weather information is successfully retrieved\n",
    "cities_cnt = 0\n",
    "\n",
    "# Keep count of the API calls.\n",
    "calls_to_api = 1 \n",
    "\n",
    "# counter to count the number of call sets of 50\n",
    "sets_of_50 = 0 \n",
    "\n",
    "#loop through all rows and fill in values for blank columns in dataframe\n",
    "\n",
    "for index, row in df_countries_weather.iterrows():\n",
    "    city_name = row['City']\n",
    "    \n",
    "    # The targeted API call for all the Cities in the list. \n",
    "    \n",
    "    query_url = url + \"appid=\" + weather_api_key + \"&q=\" + city_name + \"&units=\" + units\n",
    "    \n",
    "    city_wthr = requests.get(query_url).json()\n",
    "        \n",
    "    try:\n",
    "        df_countries_weather.loc[index,'Lat'] = city_wthr['coord']['lat']\n",
    "        df_countries_weather.loc[index,'Lng'] = city_wthr['coord']['lon']\n",
    "        df_countries_weather.loc[index,'Max Temp'] = city_wthr['main']['temp_max']\n",
    "        df_countries_weather.loc[index,'Humidity'] = city_wthr['main']['humidity']\n",
    "        df_countries_weather.loc[index,'Cloudiness'] = city_wthr['clouds']['all']\n",
    "        df_countries_weather.loc[index,'Wind Speed'] = city_wthr['wind']['speed']\n",
    "        df_countries_weather.loc[index,'Country'] = city_wthr['sys']['country']\n",
    "        df_countries_weather.loc[index, 'Date'] = city_wthr['dt']\n",
    "        \n",
    "        # Print the log for each city successfully processed.\n",
    "        print(f'Processing Record {calls_to_api} of Set # {sets_of_50} | {city_name}' )\n",
    "        \n",
    "        # Increment if you successfully retrieve weather information for a city.\n",
    "        cities_cnt += 1 \n",
    "    \n",
    "    except KeyError:\n",
    "        # If the city cannot be processed send a message and continue.\n",
    "        print(f\"Missing weather information for {city_name} ... skipping\")\n",
    "    \n",
    "    calls_to_api += 1  \n",
    "    \n",
    "    # loop to limit 50 API calls per minute as there is an API \n",
    "    # limit on the number of calls per minute\n",
    "    \n",
    "    if calls_to_api > 50: \n",
    "        time.sleep(1)\n",
    "        \n",
    "        # Reset it for next 50 calls\n",
    "        calls_to_api = 1 \n",
    "        \n",
    "        # Increment which set of 50 calls you are on.\n",
    "        sets_of_50 += 1\n",
    "\n",
    "print(f\"Processing of weather data successfully completed for {cities_cnt} cities\")\n",
    "\n"
   ]
  },
  {
   "cell_type": "code",
   "execution_count": 6,
   "metadata": {},
   "outputs": [
    {
     "name": "stdout",
     "output_type": "stream",
     "text": [
      "            City      Lat      Lng Max Temp Humidity Cloudiness Wind Speed  \\\n",
      "0      cape town -33.9258  18.4232    48.11       82          0       3.44   \n",
      "1      busselton   -33.65  115.333    59.04       72        100      14.14   \n",
      "2  mar del plata -38.0023 -57.5575    51.13       64          0         21   \n",
      "3          bluff    -46.6  168.333     56.8       67         56       5.93   \n",
      "4         bethel  41.3712  -73.414    70.68       82          1          0   \n",
      "\n",
      "  Country        Date  \n",
      "0      ZA  1627093921  \n",
      "1      AU  1627093921  \n",
      "2      AR  1627093655  \n",
      "3      NZ  1627093922  \n",
      "4      US  1627093922  \n"
     ]
    }
   ],
   "source": [
    "# Print header of df_countries_weather DataFrame and write the output file to csv format.\n",
    "print(df_countries_weather.head())"
   ]
  },
  {
   "cell_type": "markdown",
   "metadata": {},
   "source": [
    "### Convert Raw Data to DataFrame\n",
    "* Export the city data into a .csv.\n",
    "* Display the DataFrame"
   ]
  },
  {
   "cell_type": "code",
   "execution_count": 7,
   "metadata": {},
   "outputs": [],
   "source": [
    "# The output file has been \"cleaned\" of NaN data.\n",
    "df_countries_weather.to_csv(output_data_file, encoding=\"utf-8\", index=False)"
   ]
  },
  {
   "cell_type": "code",
   "execution_count": 8,
   "metadata": {},
   "outputs": [
    {
     "data": {
      "text/html": [
       "<div>\n",
       "<style scoped>\n",
       "    .dataframe tbody tr th:only-of-type {\n",
       "        vertical-align: middle;\n",
       "    }\n",
       "\n",
       "    .dataframe tbody tr th {\n",
       "        vertical-align: top;\n",
       "    }\n",
       "\n",
       "    .dataframe thead th {\n",
       "        text-align: right;\n",
       "    }\n",
       "</style>\n",
       "<table border=\"1\" class=\"dataframe\">\n",
       "  <thead>\n",
       "    <tr style=\"text-align: right;\">\n",
       "      <th></th>\n",
       "      <th>City</th>\n",
       "      <th>Lat</th>\n",
       "      <th>Lng</th>\n",
       "      <th>Max Temp</th>\n",
       "      <th>Humidity</th>\n",
       "      <th>Cloudiness</th>\n",
       "      <th>Wind Speed</th>\n",
       "      <th>Country</th>\n",
       "      <th>Date</th>\n",
       "    </tr>\n",
       "  </thead>\n",
       "  <tbody>\n",
       "    <tr>\n",
       "      <th>0</th>\n",
       "      <td>cape town</td>\n",
       "      <td>-33.9258</td>\n",
       "      <td>18.4232</td>\n",
       "      <td>48.11</td>\n",
       "      <td>82.0</td>\n",
       "      <td>0.0</td>\n",
       "      <td>3.44</td>\n",
       "      <td>ZA</td>\n",
       "      <td>1627093921</td>\n",
       "    </tr>\n",
       "    <tr>\n",
       "      <th>1</th>\n",
       "      <td>busselton</td>\n",
       "      <td>-33.6500</td>\n",
       "      <td>115.3333</td>\n",
       "      <td>59.04</td>\n",
       "      <td>72.0</td>\n",
       "      <td>100.0</td>\n",
       "      <td>14.14</td>\n",
       "      <td>AU</td>\n",
       "      <td>1627093921</td>\n",
       "    </tr>\n",
       "    <tr>\n",
       "      <th>2</th>\n",
       "      <td>mar del plata</td>\n",
       "      <td>-38.0023</td>\n",
       "      <td>-57.5575</td>\n",
       "      <td>51.13</td>\n",
       "      <td>64.0</td>\n",
       "      <td>0.0</td>\n",
       "      <td>21.00</td>\n",
       "      <td>AR</td>\n",
       "      <td>1627093655</td>\n",
       "    </tr>\n",
       "    <tr>\n",
       "      <th>3</th>\n",
       "      <td>bluff</td>\n",
       "      <td>-46.6000</td>\n",
       "      <td>168.3333</td>\n",
       "      <td>56.80</td>\n",
       "      <td>67.0</td>\n",
       "      <td>56.0</td>\n",
       "      <td>5.93</td>\n",
       "      <td>NZ</td>\n",
       "      <td>1627093922</td>\n",
       "    </tr>\n",
       "    <tr>\n",
       "      <th>4</th>\n",
       "      <td>bethel</td>\n",
       "      <td>41.3712</td>\n",
       "      <td>-73.4140</td>\n",
       "      <td>70.68</td>\n",
       "      <td>82.0</td>\n",
       "      <td>1.0</td>\n",
       "      <td>0.00</td>\n",
       "      <td>US</td>\n",
       "      <td>1627093922</td>\n",
       "    </tr>\n",
       "    <tr>\n",
       "      <th>5</th>\n",
       "      <td>dikson</td>\n",
       "      <td>73.5069</td>\n",
       "      <td>80.5464</td>\n",
       "      <td>43.90</td>\n",
       "      <td>78.0</td>\n",
       "      <td>100.0</td>\n",
       "      <td>27.36</td>\n",
       "      <td>RU</td>\n",
       "      <td>1627093922</td>\n",
       "    </tr>\n",
       "    <tr>\n",
       "      <th>6</th>\n",
       "      <td>port-cartier</td>\n",
       "      <td>50.0334</td>\n",
       "      <td>-66.8654</td>\n",
       "      <td>62.74</td>\n",
       "      <td>84.0</td>\n",
       "      <td>67.0</td>\n",
       "      <td>3.13</td>\n",
       "      <td>CA</td>\n",
       "      <td>1627093627</td>\n",
       "    </tr>\n",
       "    <tr>\n",
       "      <th>7</th>\n",
       "      <td>sao joao da barra</td>\n",
       "      <td>-21.6403</td>\n",
       "      <td>-41.0511</td>\n",
       "      <td>67.46</td>\n",
       "      <td>70.0</td>\n",
       "      <td>0.0</td>\n",
       "      <td>7.99</td>\n",
       "      <td>BR</td>\n",
       "      <td>1627093191</td>\n",
       "    </tr>\n",
       "    <tr>\n",
       "      <th>8</th>\n",
       "      <td>rikitea</td>\n",
       "      <td>-23.1203</td>\n",
       "      <td>-134.9692</td>\n",
       "      <td>70.21</td>\n",
       "      <td>56.0</td>\n",
       "      <td>8.0</td>\n",
       "      <td>9.40</td>\n",
       "      <td>PF</td>\n",
       "      <td>1627093923</td>\n",
       "    </tr>\n",
       "    <tr>\n",
       "      <th>9</th>\n",
       "      <td>barrow</td>\n",
       "      <td>71.2906</td>\n",
       "      <td>-156.7887</td>\n",
       "      <td>37.42</td>\n",
       "      <td>87.0</td>\n",
       "      <td>90.0</td>\n",
       "      <td>14.97</td>\n",
       "      <td>US</td>\n",
       "      <td>1627093921</td>\n",
       "    </tr>\n",
       "  </tbody>\n",
       "</table>\n",
       "</div>"
      ],
      "text/plain": [
       "                City      Lat       Lng  Max Temp  Humidity  Cloudiness  \\\n",
       "0          cape town -33.9258   18.4232     48.11      82.0         0.0   \n",
       "1          busselton -33.6500  115.3333     59.04      72.0       100.0   \n",
       "2      mar del plata -38.0023  -57.5575     51.13      64.0         0.0   \n",
       "3              bluff -46.6000  168.3333     56.80      67.0        56.0   \n",
       "4             bethel  41.3712  -73.4140     70.68      82.0         1.0   \n",
       "5             dikson  73.5069   80.5464     43.90      78.0       100.0   \n",
       "6       port-cartier  50.0334  -66.8654     62.74      84.0        67.0   \n",
       "7  sao joao da barra -21.6403  -41.0511     67.46      70.0         0.0   \n",
       "8            rikitea -23.1203 -134.9692     70.21      56.0         8.0   \n",
       "9             barrow  71.2906 -156.7887     37.42      87.0        90.0   \n",
       "\n",
       "   Wind Speed Country        Date  \n",
       "0        3.44      ZA  1627093921  \n",
       "1       14.14      AU  1627093921  \n",
       "2       21.00      AR  1627093655  \n",
       "3        5.93      NZ  1627093922  \n",
       "4        0.00      US  1627093922  \n",
       "5       27.36      RU  1627093922  \n",
       "6        3.13      CA  1627093627  \n",
       "7        7.99      BR  1627093191  \n",
       "8        9.40      PF  1627093923  \n",
       "9       14.97      US  1627093921  "
      ]
     },
     "execution_count": 8,
     "metadata": {},
     "output_type": "execute_result"
    }
   ],
   "source": [
    "# Change the data from the api to numerical data\n",
    "\n",
    "df_countries_weather['Lat'] = pd.to_numeric(df_countries_weather['Lat'])\n",
    "df_countries_weather['Lng'] = pd.to_numeric(df_countries_weather['Lng'])\n",
    "df_countries_weather['Max Temp'] = pd.to_numeric(df_countries_weather['Max Temp'])\n",
    "df_countries_weather['Humidity'] = pd.to_numeric(df_countries_weather['Humidity'])\n",
    "df_countries_weather['Cloudiness'] = pd.to_numeric(df_countries_weather['Cloudiness'])\n",
    "df_countries_weather['Wind Speed'] = pd.to_numeric(df_countries_weather['Wind Speed'])\n",
    "\n",
    "# Get rid of rows with NaN values from the DataFrame df_countries_weather\n",
    "df_countries_weather = df_countries_weather.dropna()\n",
    "\n",
    "df_countries_weather = df_countries_weather[[\"City\",\"Lat\",\"Lng\",\"Max Temp\",\"Humidity\",\n",
    "                                             \"Cloudiness\",\"Wind Speed\",\"Country\",\"Date\"]]\n",
    "\n",
    "df_countries_weather.head(10)\n",
    "\n"
   ]
  },
  {
   "cell_type": "markdown",
   "metadata": {},
   "source": [
    "### There were no cities with humidity over 100%"
   ]
  },
  {
   "cell_type": "code",
   "execution_count": 9,
   "metadata": {},
   "outputs": [
    {
     "data": {
      "text/plain": [
       "Series([], Name: City, dtype: object)"
      ]
     },
     "execution_count": 9,
     "metadata": {},
     "output_type": "execute_result"
    }
   ],
   "source": [
    "# Humidity over 100%\n",
    "high_humidity = df_countries_weather.loc[df_countries_weather[\"Humidity\"] > 100][\"City\"]\n",
    "high_humidity\n"
   ]
  },
  {
   "cell_type": "markdown",
   "metadata": {},
   "source": [
    "## Inspect the data and remove the cities where the humidity > 100%.\n",
    "----\n",
    "Skip this step if there are no cities that have humidity > 100%. "
   ]
  },
  {
   "cell_type": "markdown",
   "metadata": {},
   "source": [
    "### The output shows no cities with humidity over 100%.  This was confirmed in the list high_humidity above."
   ]
  },
  {
   "cell_type": "code",
   "execution_count": null,
   "metadata": {},
   "outputs": [],
   "source": []
  },
  {
   "cell_type": "code",
   "execution_count": 10,
   "metadata": {},
   "outputs": [],
   "source": [
    "#  Get the indices of cities that have humidity over 100%.\n",
    "#  There were no cities with humidity over 100%"
   ]
  },
  {
   "cell_type": "code",
   "execution_count": 11,
   "metadata": {},
   "outputs": [],
   "source": [
    "# Make a new DataFrame equal to the city data to drop all humidity outliers by index.\n",
    "# Passing \"inplace=False\" will make a copy of the city_data DataFrame, which we call \"clean_city_data\".\n",
    "\n",
    "# No need to cleanup as shown by high_humidity which had no cities with a humidity over 100%.\n"
   ]
  },
  {
   "cell_type": "markdown",
   "metadata": {},
   "source": [
    "## Plotting the Data\n",
    "* Use proper labeling of the plots using plot titles (including date of analysis) and axes labels.\n",
    "* Save the plotted figures as .pngs."
   ]
  },
  {
   "cell_type": "markdown",
   "metadata": {},
   "source": [
    "## Latitude vs. Temperature Plot"
   ]
  },
  {
   "cell_type": "markdown",
   "metadata": {},
   "source": [
    "As the Latitude is increasing between 0 and 40 the temperatures are around 90 degrees. And with decreasing latitude down to -60 the temperature goes down to 35F.  When the latitude goes above 40 the temperature also decreases."
   ]
  },
  {
   "cell_type": "code",
   "execution_count": 12,
   "metadata": {},
   "outputs": [
    {
     "data": {
      "text/plain": [
       "<function matplotlib.pyplot.show(*args, **kw)>"
      ]
     },
     "execution_count": 12,
     "metadata": {},
     "output_type": "execute_result"
    },
    {
     "data": {
      "image/png": "[encoded data removed]",
      "text/plain": [
       "<Figure size 576x432 with 1 Axes>"
      ]
     },
     "metadata": {
      "needs_background": "light"
     },
     "output_type": "display_data"
    }
   ],
   "source": [
    "# Latitude vs. Temperature Plot\n",
    "plt.figure(figsize=(8,6))\n",
    "plt.scatter(df_countries_weather[\"Lat\"], df_countries_weather[\"Max Temp\"], color='b', alpha=0.5)\n",
    "plt.grid()\n",
    "plt.title(f'City Latitude vs. Max Temperature ({datetime.datetime.now().strftime(\"%D\")})')\n",
    "plt.xlabel(\"Latitude\")\n",
    "plt.ylabel(\"Max Temperature (F)\")\n",
    "plt.savefig(\"../Images/Latitude_vs_Max_Temp.png\")\n",
    "plt.show"
   ]
  },
  {
   "cell_type": "markdown",
   "metadata": {},
   "source": [
    "## Latitude vs. Humidity Plot"
   ]
  },
  {
   "cell_type": "markdown",
   "metadata": {},
   "source": [
    "Most of the humidity is clustered between -40 to 60 latitude points and most of the humidity is between 50 percent and 90 percent."
   ]
  },
  {
   "cell_type": "code",
   "execution_count": 13,
   "metadata": {},
   "outputs": [
    {
     "data": {
      "image/png": "[encoded data removed]",
      "text/plain": [
       "<Figure size 576x432 with 1 Axes>"
      ]
     },
     "metadata": {
      "needs_background": "light"
     },
     "output_type": "display_data"
    }
   ],
   "source": [
    "# Latitude vs. Humidity Plot\n",
    "plt.figure(figsize=(8,6))\n",
    "plt.scatter(df_countries_weather[\"Lat\"], df_countries_weather[\"Humidity\"], color='blue', alpha=0.5)\n",
    "plt.ylim(10,120)\n",
    "plt.grid()\n",
    "plt.xlabel('Latitude')\n",
    "plt.ylabel('Humidity (%)')\n",
    "plt.title(f'City Latitude vs Humidity ({datetime.datetime.now().strftime(\"%D\")})')\n",
    "plt.savefig(\"../Images/Latitude_vs_Humidity.png\")\n",
    "plt.show()\n"
   ]
  },
  {
   "cell_type": "markdown",
   "metadata": {},
   "source": [
    "## Latitude vs. Cloudiness Plot"
   ]
  },
  {
   "cell_type": "markdown",
   "metadata": {},
   "source": [
    "There does not look to be anything much to interpret here other than a greater percentage of cloudiness data points when close to 100 percent cloudiness."
   ]
  },
  {
   "cell_type": "code",
   "execution_count": 14,
   "metadata": {},
   "outputs": [
    {
     "data": {
      "image/png": "[encoded data removed]",
      "text/plain": [
       "<Figure size 576x432 with 1 Axes>"
      ]
     },
     "metadata": {
      "needs_background": "light"
     },
     "output_type": "display_data"
    }
   ],
   "source": [
    "# Latitude vs. Cloudiness Plot\n",
    "plt.figure(figsize=(8,6))\n",
    "plt.scatter(df_countries_weather[\"Lat\"], df_countries_weather[\"Cloudiness\"], color='b', alpha=0.5)\n",
    "plt.grid()\n",
    "plt.ylim(-5,(df_countries_weather[\"Cloudiness\"].max()+10))\n",
    "plt.xlabel('Latitude')\n",
    "plt.ylabel('Cloudiness (%)')\n",
    "plt.title(f'City Latitude vs Cloudiness ({datetime.datetime.now().strftime(\"%D\")})')\n",
    "plt.savefig(\"../Images/Latitude_vs_Cloudiness.png\")\n",
    "plt.show()\n"
   ]
  },
  {
   "cell_type": "markdown",
   "metadata": {},
   "source": [
    "## Latitude vs. Wind Speed Plot"
   ]
  },
  {
   "cell_type": "markdown",
   "metadata": {},
   "source": [
    "The wind speed tends to be clustered between 2 mph and 10 mph across the latitude spanning from -40 to 70."
   ]
  },
  {
   "cell_type": "code",
   "execution_count": 15,
   "metadata": {},
   "outputs": [
    {
     "data": {
      "image/png": "[encoded data removed]",
      "text/plain": [
       "<Figure size 576x432 with 1 Axes>"
      ]
     },
     "metadata": {
      "needs_background": "light"
     },
     "output_type": "display_data"
    }
   ],
   "source": [
    "# Latitude vs. Wind Speed Plot\n",
    "plt.figure(figsize=(8,6))\n",
    "plt.scatter(df_countries_weather[\"Lat\"], df_countries_weather[\"Wind Speed\"], color='blue', alpha=0.5)\n",
    "plt.grid()\n",
    "plt.ylim((df_countries_weather[\"Wind Speed\"].min()-1),(df_countries_weather[\"Wind Speed\"].max()+2))\n",
    "plt.xlabel('Latitude')\n",
    "plt.ylabel('Wind Speed (mph)')\n",
    "plt.title(f'City Latitude vs Wind Speed ({datetime.datetime.now().strftime(\"%D\")})')\n",
    "plt.savefig(\"../Images/Latitude_vs_Wind_Speed.png\")\n",
    "plt.show()\n"
   ]
  },
  {
   "cell_type": "markdown",
   "metadata": {},
   "source": [
    "## Linear Regression"
   ]
  },
  {
   "cell_type": "code",
   "execution_count": 16,
   "metadata": {},
   "outputs": [],
   "source": [
    "# Run linear regression on each relationship. This time, separate the plots into \n",
    "# Northern Hemisphere (greater than or equal to 0 degrees latitude) and \n",
    "# Southern Hemisphere (less than 0 degrees latitude)."
   ]
  },
  {
   "cell_type": "code",
   "execution_count": 17,
   "metadata": {},
   "outputs": [
    {
     "data": {
      "text/html": [
       "<div>\n",
       "<style scoped>\n",
       "    .dataframe tbody tr th:only-of-type {\n",
       "        vertical-align: middle;\n",
       "    }\n",
       "\n",
       "    .dataframe tbody tr th {\n",
       "        vertical-align: top;\n",
       "    }\n",
       "\n",
       "    .dataframe thead th {\n",
       "        text-align: right;\n",
       "    }\n",
       "</style>\n",
       "<table border=\"1\" class=\"dataframe\">\n",
       "  <thead>\n",
       "    <tr style=\"text-align: right;\">\n",
       "      <th></th>\n",
       "      <th>City</th>\n",
       "      <th>Lat</th>\n",
       "      <th>Lng</th>\n",
       "      <th>Max Temp</th>\n",
       "      <th>Humidity</th>\n",
       "      <th>Cloudiness</th>\n",
       "      <th>Wind Speed</th>\n",
       "      <th>Country</th>\n",
       "      <th>Date</th>\n",
       "    </tr>\n",
       "  </thead>\n",
       "  <tbody>\n",
       "    <tr>\n",
       "      <th>4</th>\n",
       "      <td>bethel</td>\n",
       "      <td>41.3712</td>\n",
       "      <td>-73.4140</td>\n",
       "      <td>70.68</td>\n",
       "      <td>82.0</td>\n",
       "      <td>1.0</td>\n",
       "      <td>0.00</td>\n",
       "      <td>US</td>\n",
       "      <td>1627093922</td>\n",
       "    </tr>\n",
       "    <tr>\n",
       "      <th>5</th>\n",
       "      <td>dikson</td>\n",
       "      <td>73.5069</td>\n",
       "      <td>80.5464</td>\n",
       "      <td>43.90</td>\n",
       "      <td>78.0</td>\n",
       "      <td>100.0</td>\n",
       "      <td>27.36</td>\n",
       "      <td>RU</td>\n",
       "      <td>1627093922</td>\n",
       "    </tr>\n",
       "    <tr>\n",
       "      <th>6</th>\n",
       "      <td>port-cartier</td>\n",
       "      <td>50.0334</td>\n",
       "      <td>-66.8654</td>\n",
       "      <td>62.74</td>\n",
       "      <td>84.0</td>\n",
       "      <td>67.0</td>\n",
       "      <td>3.13</td>\n",
       "      <td>CA</td>\n",
       "      <td>1627093627</td>\n",
       "    </tr>\n",
       "    <tr>\n",
       "      <th>9</th>\n",
       "      <td>barrow</td>\n",
       "      <td>71.2906</td>\n",
       "      <td>-156.7887</td>\n",
       "      <td>37.42</td>\n",
       "      <td>87.0</td>\n",
       "      <td>90.0</td>\n",
       "      <td>14.97</td>\n",
       "      <td>US</td>\n",
       "      <td>1627093921</td>\n",
       "    </tr>\n",
       "    <tr>\n",
       "      <th>10</th>\n",
       "      <td>cogealac</td>\n",
       "      <td>44.5500</td>\n",
       "      <td>28.5667</td>\n",
       "      <td>61.05</td>\n",
       "      <td>62.0</td>\n",
       "      <td>0.0</td>\n",
       "      <td>6.33</td>\n",
       "      <td>RO</td>\n",
       "      <td>1627093923</td>\n",
       "    </tr>\n",
       "  </tbody>\n",
       "</table>\n",
       "</div>"
      ],
      "text/plain": [
       "            City      Lat       Lng  Max Temp  Humidity  Cloudiness  \\\n",
       "4         bethel  41.3712  -73.4140     70.68      82.0         1.0   \n",
       "5         dikson  73.5069   80.5464     43.90      78.0       100.0   \n",
       "6   port-cartier  50.0334  -66.8654     62.74      84.0        67.0   \n",
       "9         barrow  71.2906 -156.7887     37.42      87.0        90.0   \n",
       "10      cogealac  44.5500   28.5667     61.05      62.0         0.0   \n",
       "\n",
       "    Wind Speed Country        Date  \n",
       "4         0.00      US  1627093922  \n",
       "5        27.36      RU  1627093922  \n",
       "6         3.13      CA  1627093627  \n",
       "9        14.97      US  1627093921  \n",
       "10        6.33      RO  1627093923  "
      ]
     },
     "execution_count": 17,
     "metadata": {},
     "output_type": "execute_result"
    }
   ],
   "source": [
    "North_Hemi = df_countries_weather.loc[df_countries_weather[\"Lat\"]>= 0]\n",
    "North_Hemi.head()"
   ]
  },
  {
   "cell_type": "code",
   "execution_count": 18,
   "metadata": {},
   "outputs": [
    {
     "data": {
      "text/html": [
       "<div>\n",
       "<style scoped>\n",
       "    .dataframe tbody tr th:only-of-type {\n",
       "        vertical-align: middle;\n",
       "    }\n",
       "\n",
       "    .dataframe tbody tr th {\n",
       "        vertical-align: top;\n",
       "    }\n",
       "\n",
       "    .dataframe thead th {\n",
       "        text-align: right;\n",
       "    }\n",
       "</style>\n",
       "<table border=\"1\" class=\"dataframe\">\n",
       "  <thead>\n",
       "    <tr style=\"text-align: right;\">\n",
       "      <th></th>\n",
       "      <th>City</th>\n",
       "      <th>Lat</th>\n",
       "      <th>Lng</th>\n",
       "      <th>Max Temp</th>\n",
       "      <th>Humidity</th>\n",
       "      <th>Cloudiness</th>\n",
       "      <th>Wind Speed</th>\n",
       "      <th>Country</th>\n",
       "      <th>Date</th>\n",
       "    </tr>\n",
       "  </thead>\n",
       "  <tbody>\n",
       "    <tr>\n",
       "      <th>0</th>\n",
       "      <td>cape town</td>\n",
       "      <td>-33.9258</td>\n",
       "      <td>18.4232</td>\n",
       "      <td>48.11</td>\n",
       "      <td>82.0</td>\n",
       "      <td>0.0</td>\n",
       "      <td>3.44</td>\n",
       "      <td>ZA</td>\n",
       "      <td>1627093921</td>\n",
       "    </tr>\n",
       "    <tr>\n",
       "      <th>1</th>\n",
       "      <td>busselton</td>\n",
       "      <td>-33.6500</td>\n",
       "      <td>115.3333</td>\n",
       "      <td>59.04</td>\n",
       "      <td>72.0</td>\n",
       "      <td>100.0</td>\n",
       "      <td>14.14</td>\n",
       "      <td>AU</td>\n",
       "      <td>1627093921</td>\n",
       "    </tr>\n",
       "    <tr>\n",
       "      <th>2</th>\n",
       "      <td>mar del plata</td>\n",
       "      <td>-38.0023</td>\n",
       "      <td>-57.5575</td>\n",
       "      <td>51.13</td>\n",
       "      <td>64.0</td>\n",
       "      <td>0.0</td>\n",
       "      <td>21.00</td>\n",
       "      <td>AR</td>\n",
       "      <td>1627093655</td>\n",
       "    </tr>\n",
       "    <tr>\n",
       "      <th>3</th>\n",
       "      <td>bluff</td>\n",
       "      <td>-46.6000</td>\n",
       "      <td>168.3333</td>\n",
       "      <td>56.80</td>\n",
       "      <td>67.0</td>\n",
       "      <td>56.0</td>\n",
       "      <td>5.93</td>\n",
       "      <td>NZ</td>\n",
       "      <td>1627093922</td>\n",
       "    </tr>\n",
       "    <tr>\n",
       "      <th>7</th>\n",
       "      <td>sao joao da barra</td>\n",
       "      <td>-21.6403</td>\n",
       "      <td>-41.0511</td>\n",
       "      <td>67.46</td>\n",
       "      <td>70.0</td>\n",
       "      <td>0.0</td>\n",
       "      <td>7.99</td>\n",
       "      <td>BR</td>\n",
       "      <td>1627093191</td>\n",
       "    </tr>\n",
       "  </tbody>\n",
       "</table>\n",
       "</div>"
      ],
      "text/plain": [
       "                City      Lat       Lng  Max Temp  Humidity  Cloudiness  \\\n",
       "0          cape town -33.9258   18.4232     48.11      82.0         0.0   \n",
       "1          busselton -33.6500  115.3333     59.04      72.0       100.0   \n",
       "2      mar del plata -38.0023  -57.5575     51.13      64.0         0.0   \n",
       "3              bluff -46.6000  168.3333     56.80      67.0        56.0   \n",
       "7  sao joao da barra -21.6403  -41.0511     67.46      70.0         0.0   \n",
       "\n",
       "   Wind Speed Country        Date  \n",
       "0        3.44      ZA  1627093921  \n",
       "1       14.14      AU  1627093921  \n",
       "2       21.00      AR  1627093655  \n",
       "3        5.93      NZ  1627093922  \n",
       "7        7.99      BR  1627093191  "
      ]
     },
     "execution_count": 18,
     "metadata": {},
     "output_type": "execute_result"
    }
   ],
   "source": [
    "South_Hemi = df_countries_weather.loc[df_countries_weather[\"Lat\"]< 0]\n",
    "South_Hemi.head()"
   ]
  },
  {
   "cell_type": "markdown",
   "metadata": {},
   "source": [
    "####  Northern Hemisphere - Max Temp vs. Latitude Linear Regression"
   ]
  },
  {
   "cell_type": "markdown",
   "metadata": {},
   "source": [
    "R-squared is only .39 between max temperature and latitude which indicates there is not a strong relationship between those two variables."
   ]
  },
  {
   "cell_type": "code",
   "execution_count": 19,
   "metadata": {},
   "outputs": [
    {
     "name": "stdout",
     "output_type": "stream",
     "text": [
      "The r-squared is: 0.47254728441129734\n"
     ]
    },
    {
     "data": {
      "image/png": "[encoded data removed]",
      "text/plain": [
       "<Figure size 432x288 with 1 Axes>"
      ]
     },
     "metadata": {
      "needs_background": "light"
     },
     "output_type": "display_data"
    }
   ],
   "source": [
    "# Create a scatter plot of the x and y values for the Northern Hemisphere.\n",
    "x_values = North_Hemi[\"Lat\"]\n",
    "y_values = North_Hemi[\"Max Temp\"] \n",
    "\n",
    "(slope, intercept, rvalue, pvalue, stderr) = linregress(x_values, y_values)\n",
    "regress_values = x_values * slope + intercept\n",
    "line_eq = \"y = \" + str(round(slope,2)) + \"x + \" + str(round(intercept,2))\n",
    "plt.scatter(x_values,y_values)\n",
    "plt.plot(x_values,regress_values,\"r-\")\n",
    "plt.title(f'Northern Hemisphere Max Temperature vs. Latitude ({datetime.datetime.now().strftime(\"%D\")})')\n",
    "plt.annotate(line_eq,(20,90),fontsize=15,color=\"red\")\n",
    "plt.xlabel('Latitude')\n",
    "plt.ylabel('Max Temp')\n",
    "print(f\"The r-squared is: {rvalue**2}\")\n",
    "plt.savefig(\"../Images/Linear Regression North Hemi Max Temp vs. Lat.png\")\n",
    "plt.show()\n"
   ]
  },
  {
   "cell_type": "markdown",
   "metadata": {},
   "source": [
    "####  Southern Hemisphere - Max Temp vs. Latitude Linear Regression"
   ]
  },
  {
   "cell_type": "markdown",
   "metadata": {},
   "source": [
    "R-squared is .58 between max temperature and latitude. The relationship is not a strong between those two variables."
   ]
  },
  {
   "cell_type": "code",
   "execution_count": 20,
   "metadata": {},
   "outputs": [
    {
     "name": "stdout",
     "output_type": "stream",
     "text": [
      "The r-squared is: 0.4770080432290784\n"
     ]
    },
    {
     "data": {
      "image/png": "[encoded data removed]",
      "text/plain": [
       "<Figure size 432x288 with 1 Axes>"
      ]
     },
     "metadata": {
      "needs_background": "light"
     },
     "output_type": "display_data"
    }
   ],
   "source": [
    "# Create a scatter plot of the x and y values for the Southern Hemisphere.\n",
    "x_values = South_Hemi[\"Lat\"]\n",
    "y_values = South_Hemi[\"Max Temp\"] \n",
    "\n",
    "(slope, intercept, rvalue, pvalue, stderr) = linregress(x_values, y_values)\n",
    "regress_values = x_values * slope + intercept\n",
    "line_eq = \"y = \" + str(round(slope,2)) + \"x + \" + str(round(intercept,2))\n",
    "plt.scatter(x_values,y_values)\n",
    "plt.plot(x_values,regress_values,\"r-\")\n",
    "plt.title(f'Southern Hemisphere Max Temperature vs. Latitude ({datetime.datetime.now().strftime(\"%D\")})')\n",
    "plt.annotate(line_eq,(-55,80),fontsize=15,color=\"red\")\n",
    "plt.xlabel('Latitude')\n",
    "plt.ylabel('Max Temp')\n",
    "print(f\"The r-squared is: {rvalue**2}\")\n",
    "plt.savefig(\"../Images/Linear Regression South Hemi Max Temp vs. Lat.png\")\n",
    "plt.show()"
   ]
  },
  {
   "cell_type": "markdown",
   "metadata": {},
   "source": [
    "####  Northern Hemisphere - Humidity (%) vs. Latitude Linear Regression"
   ]
  },
  {
   "cell_type": "markdown",
   "metadata": {},
   "source": [
    "R-squared is just 0.0048 which indicates the relationship between humidity and latitude is almost non-existent."
   ]
  },
  {
   "cell_type": "code",
   "execution_count": 21,
   "metadata": {},
   "outputs": [
    {
     "name": "stdout",
     "output_type": "stream",
     "text": [
      "The r-squared is: 0.0006035140654974993\n"
     ]
    },
    {
     "data": {
      "image/png": "[encoded data removed]",
      "text/plain": [
       "<Figure size 432x288 with 1 Axes>"
      ]
     },
     "metadata": {
      "needs_background": "light"
     },
     "output_type": "display_data"
    }
   ],
   "source": [
    "# Create a scatter plot of the x and y values for the Northern Hemisphere.\n",
    "x_values = North_Hemi[\"Lat\"]\n",
    "y_values = North_Hemi[\"Humidity\"] \n",
    "\n",
    "(slope, intercept, rvalue, pvalue, stderr) = linregress(x_values, y_values)\n",
    "regress_values = x_values * slope + intercept\n",
    "line_eq = \"y = \" + str(round(slope,2)) + \"x + \" + str(round(intercept,2))\n",
    "plt.scatter(x_values,y_values)\n",
    "plt.plot(x_values,regress_values,\"r-\")\n",
    "plt.title(f'Northern Hemisphere Humidity vs. Latitude ({datetime.datetime.now().strftime(\"%D\")})')\n",
    "plt.annotate(line_eq,(45,90),fontsize=15,color=\"red\")\n",
    "plt.xlabel('Latitude')\n",
    "plt.ylabel('Humidity')\n",
    "print(f\"The r-squared is: {rvalue**2}\")\n",
    "plt.savefig(\"../Images/Linear Regression North Hemi Humidity vs. Lat.png\")\n",
    "plt.show()"
   ]
  },
  {
   "cell_type": "markdown",
   "metadata": {},
   "source": [
    "####  Southern Hemisphere - Humidity (%) vs. Latitude Linear Regression"
   ]
  },
  {
   "cell_type": "markdown",
   "metadata": {},
   "source": [
    "R-squared is just .013 so the relationship between humidity and latitude is almost non-existent."
   ]
  },
  {
   "cell_type": "code",
   "execution_count": 22,
   "metadata": {},
   "outputs": [
    {
     "name": "stdout",
     "output_type": "stream",
     "text": [
      "The r-squared is: 0.0021528556851889455\n"
     ]
    },
    {
     "data": {
      "image/png": "[encoded data removed]",
      "text/plain": [
       "<Figure size 432x288 with 1 Axes>"
      ]
     },
     "metadata": {
      "needs_background": "light"
     },
     "output_type": "display_data"
    }
   ],
   "source": [
    "# Create a scatter plot of the x and y values for the Southern Hemisphere.\n",
    "x_values = South_Hemi[\"Lat\"]\n",
    "y_values = South_Hemi[\"Humidity\"] \n",
    "\n",
    "(slope, intercept, rvalue, pvalue, stderr) = linregress(x_values, y_values)\n",
    "regress_values = x_values * slope + intercept\n",
    "line_eq = \"y = \" + str(round(slope,2)) + \"x + \" + str(round(intercept,2))\n",
    "plt.scatter(x_values,y_values)\n",
    "plt.plot(x_values,regress_values,\"r-\")\n",
    "plt.title(f'Southern Hemisphere Humidity vs. Latitude ({datetime.datetime.now().strftime(\"%D\")})')\n",
    "plt.annotate(line_eq,(-55,80),fontsize=15,color=\"red\")\n",
    "plt.xlabel('Latitude')\n",
    "plt.ylabel('Max Temp')\n",
    "print(f\"The r-squared is: {rvalue**2}\")\n",
    "plt.savefig(\"../Images/Linear Regression South Hemi Humidity vs. Lat.png\")\n",
    "plt.show()"
   ]
  },
  {
   "cell_type": "markdown",
   "metadata": {},
   "source": [
    "####  Northern Hemisphere - Cloudiness (%) vs. Latitude Linear Regression"
   ]
  },
  {
   "cell_type": "markdown",
   "metadata": {},
   "source": [
    "R-squared at .0088 is so low that the relationship between cloudiness and latitude is almost non-existent."
   ]
  },
  {
   "cell_type": "code",
   "execution_count": 23,
   "metadata": {},
   "outputs": [
    {
     "name": "stdout",
     "output_type": "stream",
     "text": [
      "The r-squared is: 0.0009045443954118635\n"
     ]
    },
    {
     "data": {
      "image/png": "[encoded data removed]",
      "text/plain": [
       "<Figure size 432x288 with 1 Axes>"
      ]
     },
     "metadata": {
      "needs_background": "light"
     },
     "output_type": "display_data"
    }
   ],
   "source": [
    "# Create a scatter plot of the x and y values for the Northern Hemisphere.\n",
    "x_values = North_Hemi[\"Lat\"]\n",
    "y_values = North_Hemi[\"Cloudiness\"] \n",
    "\n",
    "(slope, intercept, rvalue, pvalue, stderr) = linregress(x_values, y_values)\n",
    "regress_values = x_values * slope + intercept\n",
    "line_eq = \"y = \" + str(round(slope,2)) + \"x + \" + str(round(intercept,2))\n",
    "plt.scatter(x_values,y_values)\n",
    "plt.plot(x_values,regress_values,\"r-\")\n",
    "plt.title(f'Northern Hemisphere Cloudiness vs. Latitude ({datetime.datetime.now().strftime(\"%D\")})')\n",
    "plt.annotate(line_eq,(45,70),fontsize=15,color=\"red\")\n",
    "plt.xlabel('Latitude')\n",
    "plt.ylabel('Cloudiness')\n",
    "print(f\"The r-squared is: {rvalue**2}\")\n",
    "plt.savefig(\"../Images/Linear Regression North Hemi Cloudiness vs. Lat.png\")\n",
    "plt.show()"
   ]
  },
  {
   "cell_type": "markdown",
   "metadata": {},
   "source": [
    "####  Southern Hemisphere - Cloudiness (%) vs. Latitude Linear Regression"
   ]
  },
  {
   "cell_type": "markdown",
   "metadata": {},
   "source": [
    "R-squared is just 0.00188 and this indicates the relationship between cloudiness and latitude is almost non-existent."
   ]
  },
  {
   "cell_type": "code",
   "execution_count": 24,
   "metadata": {},
   "outputs": [
    {
     "name": "stdout",
     "output_type": "stream",
     "text": [
      "The r-squared is: 0.019958443776558584\n"
     ]
    },
    {
     "data": {
      "image/png": "[encoded data removed]",
      "text/plain": [
       "<Figure size 432x288 with 1 Axes>"
      ]
     },
     "metadata": {
      "needs_background": "light"
     },
     "output_type": "display_data"
    }
   ],
   "source": [
    "# Create a scatter plot of the x and y values for the Southern Hemisphere.\n",
    "x_values = South_Hemi[\"Lat\"]\n",
    "y_values = South_Hemi[\"Cloudiness\"] \n",
    "\n",
    "(slope, intercept, rvalue, pvalue, stderr) = linregress(x_values, y_values)\n",
    "regress_values = x_values * slope + intercept\n",
    "line_eq = \"y = \" + str(round(slope,2)) + \"x + \" + str(round(intercept,2))\n",
    "plt.scatter(x_values,y_values)\n",
    "plt.plot(x_values,regress_values,\"r-\")\n",
    "plt.title(f'Southern Hemisphere Cloudiness vs. Latitude ({datetime.datetime.now().strftime(\"%D\")})')\n",
    "plt.annotate(line_eq,(-55,45),fontsize=15,color=\"red\")\n",
    "plt.xlabel('Latitude')\n",
    "plt.ylabel('Cloudiness')\n",
    "print(f\"The r-squared is: {rvalue**2}\")\n",
    "plt.savefig(\"../Images/Linear Regression South Hemi Cloudiness vs. Lat.png\")\n",
    "plt.show()"
   ]
  },
  {
   "cell_type": "markdown",
   "metadata": {},
   "source": [
    "####  Northern Hemisphere - Wind Speed (mph) vs. Latitude Linear Regression"
   ]
  },
  {
   "cell_type": "markdown",
   "metadata": {},
   "source": [
    "An R-sqared of 3.53e-05 is so low R-squared and this indicates the relationship between wind speed and latitude is almost non-existent."
   ]
  },
  {
   "cell_type": "code",
   "execution_count": 25,
   "metadata": {},
   "outputs": [
    {
     "name": "stdout",
     "output_type": "stream",
     "text": [
      "The r-squared is: 0.002862202402421636\n"
     ]
    },
    {
     "data": {
      "image/png": "[encoded data removed]",
      "text/plain": [
       "<Figure size 432x288 with 1 Axes>"
      ]
     },
     "metadata": {
      "needs_background": "light"
     },
     "output_type": "display_data"
    }
   ],
   "source": [
    "# Create a scatter plot of the x and y values for the Northern Hemisphere.\n",
    "x_values = North_Hemi[\"Lat\"]\n",
    "y_values = North_Hemi[\"Wind Speed\"] \n",
    "\n",
    "(slope, intercept, rvalue, pvalue, stderr) = linregress(x_values, y_values)\n",
    "regress_values = x_values * slope + intercept\n",
    "line_eq = \"y = \" + str(round(slope,2)) + \"x + \" + str(round(intercept,2))\n",
    "plt.scatter(x_values,y_values)\n",
    "plt.plot(x_values,regress_values,\"r-\")\n",
    "plt.title(f'Northern Hemisphere Wind Speed (mph) vs. Latitude ({datetime.datetime.now().strftime(\"%D\")})')\n",
    "plt.annotate(line_eq,(40,15),fontsize=15,color=\"red\")\n",
    "plt.xlabel('Latitude')\n",
    "plt.ylabel('Wind Speed')\n",
    "print(f\"The r-squared is: {rvalue**2}\")\n",
    "plt.savefig(\"../Images/Linear Regression North Hemi Wind speed vs. Latitude.png\")\n",
    "plt.show()\n",
    "\n"
   ]
  },
  {
   "cell_type": "markdown",
   "metadata": {},
   "source": [
    "####  Southern Hemisphere - Wind Speed (mph) vs. Latitude Linear Regression"
   ]
  },
  {
   "cell_type": "markdown",
   "metadata": {},
   "source": [
    "An R-sqared of .0265 is very low R-squared and this indicates the relationship between wind speed and latitude is almost non-existent."
   ]
  },
  {
   "cell_type": "code",
   "execution_count": 26,
   "metadata": {},
   "outputs": [
    {
     "name": "stdout",
     "output_type": "stream",
     "text": [
      "The r-squared is: 0.05728142541681661\n"
     ]
    },
    {
     "data": {
      "image/png": "[encoded data removed]",
      "text/plain": [
       "<Figure size 432x288 with 1 Axes>"
      ]
     },
     "metadata": {
      "needs_background": "light"
     },
     "output_type": "display_data"
    }
   ],
   "source": [
    "# Create a scatter plot of the x and y values for the Southern Hemisphere.\n",
    "x_values = South_Hemi[\"Lat\"]\n",
    "y_values = South_Hemi[\"Wind Speed\"] \n",
    "\n",
    "(slope, intercept, rvalue, pvalue, stderr) = linregress(x_values, y_values)\n",
    "regress_values = x_values * slope + intercept\n",
    "line_eq = \"y = \" + str(round(slope,2)) + \"x + \" + str(round(intercept,2))\n",
    "plt.scatter(x_values,y_values)\n",
    "plt.plot(x_values,regress_values,\"r-\")\n",
    "plt.title(f'Southern Hemisphere Wind Speed vs. Latitude ({datetime.datetime.now().strftime(\"%D\")})')\n",
    "plt.annotate(line_eq,(-50,10),fontsize=15,color=\"red\")\n",
    "plt.xlabel('Latitude')\n",
    "plt.ylabel('Wind Speed')\n",
    "print(f\"The r-squared is: {rvalue**2}\")\n",
    "plt.savefig(\"../Images/Linear Regression South Hemi Wind speed vs. Latitude.png\")\n",
    "plt.show()"
   ]
  },
  {
   "cell_type": "code",
   "execution_count": null,
   "metadata": {},
   "outputs": [],
   "source": []
  }
 ],
 "metadata": {
  "anaconda-cloud": {},
  "kernel_info": {
   "name": "python3"
  },
  "kernelspec": {
   "display_name": "Python [conda env:PythonData] *",
   "language": "python",
   "name": "conda-env-PythonData-py"
  },
  "language_info": {
   "codemirror_mode": {
    "name": "ipython",
    "version": 3
   },
   "file_extension": ".py",
   "mimetype": "text/x-python",
   "name": "python",
   "nbconvert_exporter": "python",
   "pygments_lexer": "ipython3",
   "version": "3.6.10"
  },
  "latex_envs": {
   "LaTeX_envs_menu_present": true,
   "autoclose": false,
   "autocomplete": true,
   "bibliofile": "biblio.bib",
   "cite_by": "apalike",
   "current_citInitial": 1,
   "eqLabelWithNumbers": true,
   "eqNumInitial": 1,
   "hotkeys": {
    "equation": "Ctrl-E",
    "itemize": "Ctrl-I"
   },
   "labels_anchors": false,
   "latex_user_defs": false,
   "report_style_numbering": false,
   "user_envs_cfg": false
  },
  "nteract": {
   "version": "0.12.3"
  }
 },
 "nbformat": 4,
 "nbformat_minor": 2
}
