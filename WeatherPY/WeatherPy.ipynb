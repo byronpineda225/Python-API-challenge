{
 "cells": [
  {
   "cell_type": "markdown",
   "metadata": {},
   "source": [
    "# WeatherPy\n",
    "----\n",
    "\n",
    "#### Author: Byron Pineda\n",
    "\n",
    "#### Note\n",
    "* Instructions have been included for each segment. You do not have to follow them exactly, but they are included to help you think through the steps."
   ]
  },
  {
   "cell_type": "markdown",
   "metadata": {},
   "source": [
    "#### Observations:\n",
    "\n",
    "These observations were made prior to running it one last time as the cities are random! I just wanted to do a last minute run to make sure no errors were present.\n",
    "\n",
    "Temperature (F) vs. Latitude - As the Latitude is increasing between 0 and 40 the temperatures are around 90 degrees. And with decreasing latitude down to -60 the temperature goes down to 35F. When the latitude goes above 40 the temperature also decreases.\n",
    "\n",
    "Humidity (%) vs. Latitude - Most of the humidity is clustered between -40 to 60 latitude points and most of the humidity is between 50 percent and 90 percent.\n",
    "\n",
    "Cloudiness (%) vs. Latitude - There does not look to be anything much to interpret here as the points are so scattered.\n",
    "\n",
    "Wind Speed (mph) vs. Latitude - The wind speed tends to be clustered between 2 mph and 10 mph across the latitude spanning from -40 to 70.+\n",
    "\n",
    "-----------------------------------------------------------------------------------------------------------------------\n",
    "\n",
    "In each graph below linear regression was run.  In each case the R-squared value was so low, except for the Southern Hemisphere Temp vs. Latitude which had a .71 R-squared, that a relationship between each of the variables in the graphs was almost non-existent.\n",
    "\n",
    "Northern Hemisphere - Temperature (F) vs. Latitude: The r-squared is: 0.39306815254426325\n",
    "\n",
    "Southern Hemisphere - Temperature (F) vs. Latitude: The r-squared is: .71  The relationship is fairly strong between Max Temp and Latitude.\n",
    "\n",
    "Northern Hemisphere - Humidity (%) vs. Latitude: The r-squared is: 0.0048415991416849175\n",
    "\n",
    "Southern Hemisphere - Humidity (%) vs. Latitude: The r-squared is: 0.013135269463919226\n",
    "\n",
    "Northern Hemisphere - Cloudiness (%) vs. Latitude: The r-squared is: 0.008855732490045726\n",
    "\n",
    "Southern Hemisphere - Cloudiness (%) vs. Latitude: The r-squared is: 0.0018824705270874982\n",
    "\n",
    "Northern Hemisphere - Wind Speed (mph) vs. Latitude: The r-squared is: 3.534156388902969e-05\n",
    "\n",
    "Southern Hemisphere - Wind Speed (mph) vs. Latitude: The r-squared is: 0.02656269787764726\n",
    "\n",
    "##### Please note that all images are located in the Images folder \\Python-API-challenge\\Images\n"
   ]
  },
  {
   "cell_type": "code",
   "execution_count": 1,
   "metadata": {
    "scrolled": true
   },
   "outputs": [],
   "source": [
    "# Dependencies and Setup\n",
    "import matplotlib.pyplot as plt\n",
    "import pandas as pd\n",
    "import numpy as np\n",
    "import requests\n",
    "import time\n",
    "import datetime\n",
    "from scipy.stats import linregress\n",
    "\n",
    "# Import API key\n",
    "from api_keys import weather_api_key\n",
    "\n",
    "# Incorporated citipy to determine city based on latitude and longitude\n",
    "from citipy import citipy\n",
    "\n",
    "# Output File (CSV)\n",
    "output_data_file = \"../output_data/cities.csv\"\n",
    "\n",
    "# Range of latitudes and longitudes\n",
    "lat_range = (-90, 90)\n",
    "lng_range = (-180, 180)"
   ]
  },
  {
   "cell_type": "markdown",
   "metadata": {},
   "source": [
    "## Generate Cities List"
   ]
  },
  {
   "cell_type": "code",
   "execution_count": 2,
   "metadata": {},
   "outputs": [
    {
     "data": {
      "text/plain": [
       "611"
      ]
     },
     "execution_count": 2,
     "metadata": {},
     "output_type": "execute_result"
    }
   ],
   "source": [
    "# List for holding lat_lngs and cities\n",
    "lat_lngs = []\n",
    "cities = []\n",
    "\n",
    "# Create a set of random lat and lng combinations\n",
    "lats = np.random.uniform(lat_range[0], lat_range[1], size=1500)\n",
    "lngs = np.random.uniform(lng_range[0], lng_range[1], size=1500)\n",
    "lat_lngs = zip(lats, lngs)\n",
    "\n",
    "# Identify nearest city for each lat, lng combination\n",
    "for lat_lng in lat_lngs:\n",
    "    city = citipy.nearest_city(lat_lng[0], lat_lng[1]).city_name\n",
    "\n",
    "    \n",
    "    # If the city is unique, then add it to a our cities list\n",
    "    if city not in cities:\n",
    "        cities.append(city)\n",
    "\n",
    "# Print the city count to confirm sufficient count\n",
    "len(cities)\n"
   ]
  },
  {
   "cell_type": "code",
   "execution_count": 3,
   "metadata": {},
   "outputs": [
    {
     "data": {
      "text/html": [
       "<div>\n",
       "<style scoped>\n",
       "    .dataframe tbody tr th:only-of-type {\n",
       "        vertical-align: middle;\n",
       "    }\n",
       "\n",
       "    .dataframe tbody tr th {\n",
       "        vertical-align: top;\n",
       "    }\n",
       "\n",
       "    .dataframe thead th {\n",
       "        text-align: right;\n",
       "    }\n",
       "</style>\n",
       "<table border=\"1\" class=\"dataframe\">\n",
       "  <thead>\n",
       "    <tr style=\"text-align: right;\">\n",
       "      <th></th>\n",
       "      <th>City</th>\n",
       "      <th>Lat</th>\n",
       "      <th>Lng</th>\n",
       "      <th>Max Temp</th>\n",
       "      <th>Humidity</th>\n",
       "      <th>Cloudiness</th>\n",
       "      <th>Wind Speed</th>\n",
       "      <th>Country</th>\n",
       "      <th>Date</th>\n",
       "    </tr>\n",
       "  </thead>\n",
       "  <tbody>\n",
       "    <tr>\n",
       "      <th>0</th>\n",
       "      <td>sydney mines</td>\n",
       "      <td></td>\n",
       "      <td></td>\n",
       "      <td></td>\n",
       "      <td></td>\n",
       "      <td></td>\n",
       "      <td></td>\n",
       "      <td></td>\n",
       "      <td></td>\n",
       "    </tr>\n",
       "    <tr>\n",
       "      <th>1</th>\n",
       "      <td>taolanaro</td>\n",
       "      <td></td>\n",
       "      <td></td>\n",
       "      <td></td>\n",
       "      <td></td>\n",
       "      <td></td>\n",
       "      <td></td>\n",
       "      <td></td>\n",
       "      <td></td>\n",
       "    </tr>\n",
       "    <tr>\n",
       "      <th>2</th>\n",
       "      <td>bredasdorp</td>\n",
       "      <td></td>\n",
       "      <td></td>\n",
       "      <td></td>\n",
       "      <td></td>\n",
       "      <td></td>\n",
       "      <td></td>\n",
       "      <td></td>\n",
       "      <td></td>\n",
       "    </tr>\n",
       "    <tr>\n",
       "      <th>3</th>\n",
       "      <td>mataura</td>\n",
       "      <td></td>\n",
       "      <td></td>\n",
       "      <td></td>\n",
       "      <td></td>\n",
       "      <td></td>\n",
       "      <td></td>\n",
       "      <td></td>\n",
       "      <td></td>\n",
       "    </tr>\n",
       "    <tr>\n",
       "      <th>4</th>\n",
       "      <td>arraial do cabo</td>\n",
       "      <td></td>\n",
       "      <td></td>\n",
       "      <td></td>\n",
       "      <td></td>\n",
       "      <td></td>\n",
       "      <td></td>\n",
       "      <td></td>\n",
       "      <td></td>\n",
       "    </tr>\n",
       "  </tbody>\n",
       "</table>\n",
       "</div>"
      ],
      "text/plain": [
       "              City Lat Lng Max Temp Humidity Cloudiness Wind Speed Country  \\\n",
       "0     sydney mines                                                           \n",
       "1        taolanaro                                                           \n",
       "2       bredasdorp                                                           \n",
       "3          mataura                                                           \n",
       "4  arraial do cabo                                                           \n",
       "\n",
       "  Date  \n",
       "0       \n",
       "1       \n",
       "2       \n",
       "3       \n",
       "4       "
      ]
     },
     "execution_count": 3,
     "metadata": {},
     "output_type": "execute_result"
    }
   ],
   "source": [
    "# Create a DataFrame to store the cities and other information\n",
    "df_countries_weather = pd.DataFrame({'City': cities})\n",
    "\n",
    "# Add the other needed lists \n",
    "df_countries_weather['Lat'] = \"\"\n",
    "df_countries_weather['Lng'] = \"\"\n",
    "df_countries_weather['Max Temp'] = \"\"\n",
    "df_countries_weather['Humidity'] = \"\"\n",
    "df_countries_weather['Cloudiness'] = \"\"\n",
    "df_countries_weather['Wind Speed'] = \"\"\n",
    "df_countries_weather['Country'] = \"\"\n",
    "df_countries_weather['Date'] = \"\"\n",
    "\n",
    "df_countries_weather.head()"
   ]
  },
  {
   "cell_type": "code",
   "execution_count": null,
   "metadata": {
    "scrolled": true
   },
   "outputs": [],
   "source": []
  },
  {
   "cell_type": "markdown",
   "metadata": {},
   "source": [
    "### Perform API Calls\n",
    "* Perform a weather check on each city using a series of successive API calls.\n",
    "* Include a print log of each city as it'sbeing processed (with the city number and city name).\n"
   ]
  },
  {
   "cell_type": "code",
   "execution_count": 4,
   "metadata": {},
   "outputs": [
    {
     "name": "stdout",
     "output_type": "stream",
     "text": [
      "Processing Record 1 of Set # 0 | sydney mines\n",
      "Missing weather information for taolanaro ... skipping\n",
      "Processing Record 3 of Set # 0 | bredasdorp\n",
      "Processing Record 4 of Set # 0 | mataura\n",
      "Processing Record 5 of Set # 0 | arraial do cabo\n",
      "Processing Record 6 of Set # 0 | geraldton\n",
      "Processing Record 7 of Set # 0 | mount isa\n",
      "Processing Record 8 of Set # 0 | bluff\n",
      "Processing Record 9 of Set # 0 | lethem\n",
      "Processing Record 10 of Set # 0 | ribeira grande\n",
      "Missing weather information for grand river south east ... skipping\n",
      "Processing Record 12 of Set # 0 | mayumba\n",
      "Processing Record 13 of Set # 0 | abu samrah\n",
      "Processing Record 14 of Set # 0 | hofn\n",
      "Processing Record 15 of Set # 0 | khatanga\n",
      "Processing Record 16 of Set # 0 | new norfolk\n",
      "Processing Record 17 of Set # 0 | port alfred\n",
      "Processing Record 18 of Set # 0 | busselton\n",
      "Processing Record 19 of Set # 0 | aklavik\n",
      "Missing weather information for ruatoria ... skipping\n",
      "Processing Record 21 of Set # 0 | mahebourg\n",
      "Processing Record 22 of Set # 0 | oktyabrskiy\n",
      "Processing Record 23 of Set # 0 | punta arenas\n",
      "Processing Record 24 of Set # 0 | yellowknife\n",
      "Processing Record 25 of Set # 0 | lebu\n",
      "Processing Record 26 of Set # 0 | lagoa\n",
      "Processing Record 27 of Set # 0 | derzhavinsk\n",
      "Processing Record 28 of Set # 0 | albany\n",
      "Missing weather information for amderma ... skipping\n",
      "Processing Record 30 of Set # 0 | jamestown\n",
      "Processing Record 31 of Set # 0 | umm kaddadah\n",
      "Processing Record 32 of Set # 0 | bethel\n",
      "Processing Record 33 of Set # 0 | karpathos\n",
      "Processing Record 34 of Set # 0 | rikitea\n",
      "Processing Record 35 of Set # 0 | karpogory\n",
      "Processing Record 36 of Set # 0 | sisimiut\n",
      "Processing Record 37 of Set # 0 | butaritari\n",
      "Processing Record 38 of Set # 0 | chokurdakh\n",
      "Missing weather information for barentsburg ... skipping\n",
      "Processing Record 40 of Set # 0 | kutum\n",
      "Processing Record 41 of Set # 0 | toledo\n",
      "Processing Record 42 of Set # 0 | hobart\n",
      "Missing weather information for kuche ... skipping\n",
      "Processing Record 44 of Set # 0 | georgetown\n",
      "Processing Record 45 of Set # 0 | kodiak\n",
      "Processing Record 46 of Set # 0 | alquizar\n",
      "Processing Record 47 of Set # 0 | ushuaia\n",
      "Processing Record 48 of Set # 0 | gold coast\n",
      "Processing Record 49 of Set # 0 | hermanus\n",
      "Processing Record 50 of Set # 0 | ugoofaaru\n",
      "Missing weather information for saleaula ... skipping\n",
      "Processing Record 2 of Set # 1 | camana\n",
      "Missing weather information for marcona ... skipping\n",
      "Processing Record 4 of Set # 1 | te anau\n",
      "Processing Record 5 of Set # 1 | provideniya\n",
      "Processing Record 6 of Set # 1 | esmeraldas\n",
      "Processing Record 7 of Set # 1 | mustafabad\n",
      "Processing Record 8 of Set # 1 | linxia\n",
      "Processing Record 9 of Set # 1 | breves\n",
      "Processing Record 10 of Set # 1 | najran\n",
      "Processing Record 11 of Set # 1 | gao\n",
      "Processing Record 12 of Set # 1 | bengkulu\n",
      "Processing Record 13 of Set # 1 | qaanaaq\n",
      "Processing Record 14 of Set # 1 | vila velha\n",
      "Processing Record 15 of Set # 1 | sinnamary\n",
      "Processing Record 16 of Set # 1 | merauke\n",
      "Processing Record 17 of Set # 1 | san patricio\n",
      "Processing Record 18 of Set # 1 | lashio\n",
      "Processing Record 19 of Set # 1 | hilo\n",
      "Missing weather information for karkaralinsk ... skipping\n",
      "Processing Record 21 of Set # 1 | upernavik\n",
      "Processing Record 22 of Set # 1 | cape town\n",
      "Processing Record 23 of Set # 1 | hashtrud\n",
      "Processing Record 24 of Set # 1 | mar del plata\n",
      "Processing Record 25 of Set # 1 | maneadero\n",
      "Processing Record 26 of Set # 1 | leningradskiy\n",
      "Processing Record 27 of Set # 1 | vetralla\n",
      "Processing Record 28 of Set # 1 | nome\n",
      "Processing Record 29 of Set # 1 | ballesteros\n",
      "Processing Record 30 of Set # 1 | kapaa\n",
      "Processing Record 31 of Set # 1 | creel\n",
      "Processing Record 32 of Set # 1 | lorengau\n",
      "Processing Record 33 of Set # 1 | beringovskiy\n",
      "Processing Record 34 of Set # 1 | oum hadjer\n",
      "Processing Record 35 of Set # 1 | razole\n",
      "Processing Record 36 of Set # 1 | qui nhon\n",
      "Processing Record 37 of Set # 1 | tiksi\n",
      "Processing Record 38 of Set # 1 | saskylakh\n",
      "Processing Record 39 of Set # 1 | tuatapere\n",
      "Processing Record 40 of Set # 1 | atuona\n",
      "Processing Record 41 of Set # 1 | vostok\n",
      "Processing Record 42 of Set # 1 | ambon\n",
      "Processing Record 43 of Set # 1 | valleyview\n",
      "Processing Record 44 of Set # 1 | saint george\n",
      "Processing Record 45 of Set # 1 | shingu\n",
      "Processing Record 46 of Set # 1 | faanui\n",
      "Processing Record 47 of Set # 1 | westport\n",
      "Processing Record 48 of Set # 1 | husavik\n",
      "Processing Record 49 of Set # 1 | dikson\n",
      "Processing Record 50 of Set # 1 | codrington\n",
      "Processing Record 1 of Set # 2 | mbala\n",
      "Processing Record 2 of Set # 2 | saint-georges\n",
      "Processing Record 3 of Set # 2 | chuy\n",
      "Processing Record 4 of Set # 2 | gat\n",
      "Processing Record 5 of Set # 2 | bafra\n",
      "Processing Record 6 of Set # 2 | kyabe\n",
      "Processing Record 7 of Set # 2 | port hedland\n",
      "Processing Record 8 of Set # 2 | cidreira\n",
      "Processing Record 9 of Set # 2 | tuktoyaktuk\n",
      "Processing Record 10 of Set # 2 | pangody\n",
      "Processing Record 11 of Set # 2 | usinsk\n",
      "Processing Record 12 of Set # 2 | longyearbyen\n",
      "Processing Record 13 of Set # 2 | isaccea\n",
      "Processing Record 14 of Set # 2 | kargasok\n",
      "Processing Record 15 of Set # 2 | luwuk\n",
      "Processing Record 16 of Set # 2 | port keats\n",
      "Processing Record 17 of Set # 2 | kavieng\n",
      "Processing Record 18 of Set # 2 | vaini\n",
      "Processing Record 19 of Set # 2 | vanavara\n",
      "Processing Record 20 of Set # 2 | puerto ayora\n",
      "Processing Record 21 of Set # 2 | iqaluit\n",
      "Processing Record 22 of Set # 2 | jaciara\n",
      "Processing Record 23 of Set # 2 | castro\n",
      "Processing Record 24 of Set # 2 | bambanglipuro\n",
      "Missing weather information for palabuhanratu ... skipping\n",
      "Processing Record 26 of Set # 2 | birjand\n",
      "Processing Record 27 of Set # 2 | porto murtinho\n",
      "Processing Record 28 of Set # 2 | grand gaube\n",
      "Processing Record 29 of Set # 2 | yakeshi\n",
      "Missing weather information for mys shmidta ... skipping\n",
      "Processing Record 31 of Set # 2 | kruisfontein\n",
      "Processing Record 32 of Set # 2 | barrow\n",
      "Missing weather information for buqayq ... skipping\n",
      "Processing Record 34 of Set # 2 | moissala\n",
      "Missing weather information for sentyabrskiy ... skipping\n",
      "Processing Record 36 of Set # 2 | manokwari\n",
      "Processing Record 37 of Set # 2 | isangel\n",
      "Processing Record 38 of Set # 2 | kapoeta\n",
      "Processing Record 39 of Set # 2 | mattawa\n",
      "Processing Record 40 of Set # 2 | tazovskiy\n",
      "Processing Record 41 of Set # 2 | pochutla\n",
      "Processing Record 42 of Set # 2 | buraydah\n",
      "Processing Record 43 of Set # 2 | kichera\n",
      "Processing Record 44 of Set # 2 | xuanzhou\n",
      "Processing Record 45 of Set # 2 | soyo\n",
      "Processing Record 46 of Set # 2 | mogadishu\n",
      "Processing Record 47 of Set # 2 | bambous virieux\n",
      "Processing Record 48 of Set # 2 | murgab\n",
      "Processing Record 49 of Set # 2 | izhmorskiy\n",
      "Processing Record 50 of Set # 2 | verkhnetulomskiy\n",
      "Processing Record 1 of Set # 3 | namwala\n",
      "Processing Record 2 of Set # 3 | tilichiki\n",
      "Processing Record 3 of Set # 3 | torbay\n",
      "Processing Record 4 of Set # 3 | gizo\n",
      "Processing Record 5 of Set # 3 | avarua\n",
      "Processing Record 6 of Set # 3 | okha\n",
      "Processing Record 7 of Set # 3 | port elizabeth\n",
      "Processing Record 8 of Set # 3 | hithadhoo\n",
      "Processing Record 9 of Set # 3 | seryshevo\n",
      "Processing Record 10 of Set # 3 | itaituba\n",
      "Processing Record 11 of Set # 3 | warragul\n",
      "Processing Record 12 of Set # 3 | caravelas\n",
      "Processing Record 13 of Set # 3 | yar-sale\n",
      "Processing Record 14 of Set # 3 | victoria\n",
      "Processing Record 15 of Set # 3 | portland\n",
      "Processing Record 16 of Set # 3 | mount gambier\n",
      "Missing weather information for yuzhno-yeniseyskiy ... skipping\n",
      "Processing Record 18 of Set # 3 | fortuna\n",
      "Processing Record 19 of Set # 3 | bay roberts\n",
      "Missing weather information for cotija ... skipping\n",
      "Processing Record 21 of Set # 3 | pacific grove\n",
      "Processing Record 22 of Set # 3 | sao joao da barra\n",
      "Processing Record 23 of Set # 3 | cotonou\n",
      "Processing Record 24 of Set # 3 | mingyue\n",
      "Processing Record 25 of Set # 3 | ponta do sol\n",
      "Missing weather information for illoqqortoormiut ... skipping\n",
      "Processing Record 27 of Set # 3 | saraland\n",
      "Processing Record 28 of Set # 3 | seoul\n",
      "Processing Record 29 of Set # 3 | christchurch\n",
      "Processing Record 30 of Set # 3 | lisakovsk\n",
      "Processing Record 31 of Set # 3 | tasiilaq\n",
      "Processing Record 32 of Set # 3 | richards bay\n",
      "Processing Record 33 of Set # 3 | srisailam\n",
      "Processing Record 34 of Set # 3 | zatoka\n",
      "Missing weather information for nguiu ... skipping\n"
     ]
    },
    {
     "name": "stdout",
     "output_type": "stream",
     "text": [
      "Processing Record 36 of Set # 3 | robertsport\n",
      "Processing Record 37 of Set # 3 | kobayashi\n",
      "Processing Record 38 of Set # 3 | dunedin\n",
      "Processing Record 39 of Set # 3 | la tuque\n",
      "Processing Record 40 of Set # 3 | dubbo\n",
      "Missing weather information for belushya guba ... skipping\n",
      "Processing Record 42 of Set # 3 | kharp\n",
      "Processing Record 43 of Set # 3 | jiayuguan\n",
      "Processing Record 44 of Set # 3 | birakan\n",
      "Processing Record 45 of Set # 3 | warrington\n",
      "Processing Record 46 of Set # 3 | carnarvon\n",
      "Processing Record 47 of Set # 3 | chimore\n",
      "Processing Record 48 of Set # 3 | cayenne\n",
      "Processing Record 49 of Set # 3 | struer\n",
      "Processing Record 50 of Set # 3 | asmar\n",
      "Missing weather information for umm jarr ... skipping\n",
      "Processing Record 2 of Set # 4 | oranjemund\n",
      "Processing Record 3 of Set # 4 | lugovoy\n",
      "Processing Record 4 of Set # 4 | ballater\n",
      "Processing Record 5 of Set # 4 | son la\n",
      "Processing Record 6 of Set # 4 | nikolskoye\n",
      "Missing weather information for nizhneyansk ... skipping\n",
      "Processing Record 8 of Set # 4 | benicarlo\n",
      "Processing Record 9 of Set # 4 | itoman\n",
      "Processing Record 10 of Set # 4 | buala\n",
      "Processing Record 11 of Set # 4 | anuradhapura\n",
      "Missing weather information for azar shahr ... skipping\n",
      "Processing Record 13 of Set # 4 | dicamay\n",
      "Processing Record 14 of Set # 4 | tautira\n",
      "Processing Record 15 of Set # 4 | dapaong\n",
      "Processing Record 16 of Set # 4 | touros\n",
      "Processing Record 17 of Set # 4 | nantucket\n",
      "Processing Record 18 of Set # 4 | pevek\n",
      "Processing Record 19 of Set # 4 | san quintin\n",
      "Processing Record 20 of Set # 4 | surt\n",
      "Missing weather information for azimur ... skipping\n",
      "Processing Record 22 of Set # 4 | waddan\n",
      "Processing Record 23 of Set # 4 | saint-philippe\n",
      "Processing Record 24 of Set # 4 | morro bay\n",
      "Processing Record 25 of Set # 4 | partizanskoye\n",
      "Processing Record 26 of Set # 4 | sitka\n",
      "Processing Record 27 of Set # 4 | east london\n",
      "Processing Record 28 of Set # 4 | saldanha\n",
      "Processing Record 29 of Set # 4 | palampur\n",
      "Processing Record 30 of Set # 4 | dongsheng\n",
      "Processing Record 31 of Set # 4 | kloulklubed\n",
      "Processing Record 32 of Set # 4 | lodja\n",
      "Processing Record 33 of Set # 4 | barra do garcas\n",
      "Processing Record 34 of Set # 4 | krasnogvardeyskoye\n",
      "Processing Record 35 of Set # 4 | izmit\n",
      "Processing Record 36 of Set # 4 | san andres\n",
      "Processing Record 37 of Set # 4 | port macquarie\n",
      "Processing Record 38 of Set # 4 | teya\n",
      "Processing Record 39 of Set # 4 | sawtell\n",
      "Processing Record 40 of Set # 4 | baculin\n",
      "Processing Record 41 of Set # 4 | havoysund\n",
      "Processing Record 42 of Set # 4 | maniago\n",
      "Processing Record 43 of Set # 4 | notre-dame-du-lac\n",
      "Processing Record 44 of Set # 4 | ajdabiya\n",
      "Processing Record 45 of Set # 4 | broken hill\n",
      "Processing Record 46 of Set # 4 | shimoda\n",
      "Processing Record 47 of Set # 4 | orlandia\n",
      "Processing Record 48 of Set # 4 | cadereyta\n",
      "Processing Record 49 of Set # 4 | port augusta\n",
      "Processing Record 50 of Set # 4 | benalla\n",
      "Processing Record 1 of Set # 5 | kalangala\n",
      "Processing Record 2 of Set # 5 | port hardy\n",
      "Processing Record 3 of Set # 5 | zhangjiakou\n",
      "Missing weather information for lolua ... skipping\n",
      "Processing Record 5 of Set # 5 | soma\n",
      "Processing Record 6 of Set # 5 | poum\n",
      "Processing Record 7 of Set # 5 | karratha\n",
      "Processing Record 8 of Set # 5 | aykhal\n",
      "Processing Record 9 of Set # 5 | victor harbor\n",
      "Processing Record 10 of Set # 5 | sayat\n",
      "Processing Record 11 of Set # 5 | tuam\n",
      "Processing Record 12 of Set # 5 | sur\n",
      "Processing Record 13 of Set # 5 | korem\n",
      "Processing Record 14 of Set # 5 | bredy\n",
      "Processing Record 15 of Set # 5 | kismayo\n",
      "Processing Record 16 of Set # 5 | trincomalee\n",
      "Processing Record 17 of Set # 5 | san vicente\n",
      "Processing Record 18 of Set # 5 | kahului\n",
      "Processing Record 19 of Set # 5 | ust-ilimsk\n",
      "Processing Record 20 of Set # 5 | college\n",
      "Processing Record 21 of Set # 5 | nabire\n",
      "Processing Record 22 of Set # 5 | slavutych\n",
      "Processing Record 23 of Set # 5 | comodoro rivadavia\n",
      "Processing Record 24 of Set # 5 | ust-karsk\n",
      "Processing Record 25 of Set # 5 | akyab\n",
      "Processing Record 26 of Set # 5 | lata\n",
      "Processing Record 27 of Set # 5 | roma\n",
      "Missing weather information for attawapiskat ... skipping\n",
      "Processing Record 29 of Set # 5 | san jose de rio tinto\n",
      "Processing Record 30 of Set # 5 | puri\n",
      "Processing Record 31 of Set # 5 | kailua\n",
      "Processing Record 32 of Set # 5 | nanortalik\n",
      "Processing Record 33 of Set # 5 | cascais\n",
      "Processing Record 34 of Set # 5 | hualmay\n",
      "Processing Record 35 of Set # 5 | kaitangata\n",
      "Processing Record 36 of Set # 5 | san antonio\n",
      "Processing Record 37 of Set # 5 | norman wells\n",
      "Processing Record 38 of Set # 5 | teofilo otoni\n",
      "Processing Record 39 of Set # 5 | kamina\n",
      "Processing Record 40 of Set # 5 | mehriz\n",
      "Processing Record 41 of Set # 5 | kamenka\n",
      "Processing Record 42 of Set # 5 | muros\n",
      "Processing Record 43 of Set # 5 | padilla\n",
      "Missing weather information for vaitupu ... skipping\n",
      "Processing Record 45 of Set # 5 | grindavik\n",
      "Processing Record 46 of Set # 5 | vestmannaeyjar\n",
      "Processing Record 47 of Set # 5 | irmo\n",
      "Processing Record 48 of Set # 5 | scarborough\n",
      "Processing Record 49 of Set # 5 | lerwick\n",
      "Processing Record 50 of Set # 5 | thompson\n",
      "Processing Record 1 of Set # 6 | tumpat\n",
      "Processing Record 2 of Set # 6 | potam\n",
      "Processing Record 3 of Set # 6 | dryden\n",
      "Processing Record 4 of Set # 6 | mocuba\n",
      "Missing weather information for ngukurr ... skipping\n",
      "Processing Record 6 of Set # 6 | waingapu\n",
      "Processing Record 7 of Set # 6 | chumikan\n",
      "Processing Record 8 of Set # 6 | malakal\n",
      "Processing Record 9 of Set # 6 | voskresenskoye\n",
      "Processing Record 10 of Set # 6 | hamilton\n",
      "Processing Record 11 of Set # 6 | aleppo\n",
      "Missing weather information for tsihombe ... skipping\n",
      "Processing Record 13 of Set # 6 | baglan\n",
      "Processing Record 14 of Set # 6 | airai\n",
      "Processing Record 15 of Set # 6 | ancud\n",
      "Processing Record 16 of Set # 6 | vestmanna\n",
      "Processing Record 17 of Set # 6 | batesville\n",
      "Processing Record 18 of Set # 6 | koilas\n",
      "Processing Record 19 of Set # 6 | neath\n",
      "Processing Record 20 of Set # 6 | nipawin\n",
      "Missing weather information for umzimvubu ... skipping\n",
      "Processing Record 22 of Set # 6 | fairbanks\n",
      "Processing Record 23 of Set # 6 | dingzhou\n",
      "Processing Record 24 of Set # 6 | shepsi\n",
      "Processing Record 25 of Set # 6 | antalaha\n",
      "Processing Record 26 of Set # 6 | nhulunbuy\n",
      "Processing Record 27 of Set # 6 | chicama\n",
      "Processing Record 28 of Set # 6 | ingham\n",
      "Processing Record 29 of Set # 6 | ahipara\n",
      "Processing Record 30 of Set # 6 | fort nelson\n",
      "Processing Record 31 of Set # 6 | luganville\n",
      "Processing Record 32 of Set # 6 | smithers\n",
      "Processing Record 33 of Set # 6 | lubbock\n",
      "Processing Record 34 of Set # 6 | esperance\n",
      "Processing Record 35 of Set # 6 | mindelo\n",
      "Processing Record 36 of Set # 6 | port hawkesbury\n",
      "Processing Record 37 of Set # 6 | hambantota\n",
      "Processing Record 38 of Set # 6 | meulaboh\n",
      "Processing Record 39 of Set # 6 | hasaki\n",
      "Processing Record 40 of Set # 6 | qasigiannguit\n",
      "Processing Record 41 of Set # 6 | galanta\n",
      "Processing Record 42 of Set # 6 | dipalpur\n",
      "Processing Record 43 of Set # 6 | yulara\n",
      "Processing Record 44 of Set # 6 | neuquen\n",
      "Processing Record 45 of Set # 6 | morant bay\n",
      "Processing Record 46 of Set # 6 | plouzane\n",
      "Processing Record 47 of Set # 6 | sal rei\n",
      "Processing Record 48 of Set # 6 | kununurra\n",
      "Processing Record 49 of Set # 6 | rocha\n",
      "Processing Record 50 of Set # 6 | lucea\n",
      "Processing Record 1 of Set # 7 | mahina\n",
      "Processing Record 2 of Set # 7 | filotion\n",
      "Processing Record 3 of Set # 7 | moscow\n",
      "Processing Record 4 of Set # 7 | ulladulla\n",
      "Processing Record 5 of Set # 7 | tutoia\n",
      "Processing Record 6 of Set # 7 | lasa\n",
      "Processing Record 7 of Set # 7 | port blair\n",
      "Processing Record 8 of Set # 7 | kungurtug\n",
      "Processing Record 9 of Set # 7 | mandalgovi\n",
      "Processing Record 10 of Set # 7 | belmonte\n",
      "Processing Record 11 of Set # 7 | marawi\n",
      "Processing Record 12 of Set # 7 | wukari\n",
      "Processing Record 13 of Set # 7 | narasannapeta\n",
      "Missing weather information for inderborskiy ... skipping\n",
      "Processing Record 15 of Set # 7 | guerrero negro\n",
      "Processing Record 16 of Set # 7 | tecoanapa\n",
      "Processing Record 17 of Set # 7 | torres\n",
      "Processing Record 18 of Set # 7 | ronneby\n",
      "Processing Record 19 of Set # 7 | barreiras\n",
      "Processing Record 20 of Set # 7 | puerto del rosario\n",
      "Processing Record 21 of Set # 7 | natal\n",
      "Processing Record 22 of Set # 7 | ojinaga\n",
      "Processing Record 23 of Set # 7 | ostrovnoy\n"
     ]
    },
    {
     "name": "stdout",
     "output_type": "stream",
     "text": [
      "Processing Record 24 of Set # 7 | olavarria\n",
      "Processing Record 25 of Set # 7 | henties bay\n",
      "Processing Record 26 of Set # 7 | vao\n",
      "Processing Record 27 of Set # 7 | banfora\n",
      "Processing Record 28 of Set # 7 | poso\n",
      "Processing Record 29 of Set # 7 | ust-kut\n",
      "Processing Record 30 of Set # 7 | riyadh\n",
      "Processing Record 31 of Set # 7 | haines junction\n",
      "Missing weather information for tabiauea ... skipping\n",
      "Processing Record 33 of Set # 7 | bilma\n",
      "Processing Record 34 of Set # 7 | uvelskiy\n",
      "Processing Record 35 of Set # 7 | deputatskiy\n",
      "Processing Record 36 of Set # 7 | edson\n",
      "Processing Record 37 of Set # 7 | ouesso\n",
      "Processing Record 38 of Set # 7 | bandarbeyla\n",
      "Processing Record 39 of Set # 7 | beira\n",
      "Processing Record 40 of Set # 7 | jiuquan\n",
      "Processing Record 41 of Set # 7 | garowe\n",
      "Processing Record 42 of Set # 7 | thohoyandou\n",
      "Processing Record 43 of Set # 7 | kano\n",
      "Processing Record 44 of Set # 7 | puerto escondido\n",
      "Processing Record 45 of Set # 7 | zalantun\n",
      "Processing Record 46 of Set # 7 | namibe\n",
      "Processing Record 47 of Set # 7 | roebourne\n",
      "Processing Record 48 of Set # 7 | la spezia\n",
      "Processing Record 49 of Set # 7 | patzcuaro\n",
      "Missing weather information for hunza ... skipping\n",
      "Processing Record 1 of Set # 8 | dakar\n",
      "Processing Record 2 of Set # 8 | honningsvag\n",
      "Processing Record 3 of Set # 8 | la ronge\n",
      "Processing Record 4 of Set # 8 | kurumkan\n",
      "Processing Record 5 of Set # 8 | presidente medici\n",
      "Processing Record 6 of Set # 8 | ambilobe\n",
      "Processing Record 7 of Set # 8 | kozmodemyansk\n",
      "Processing Record 8 of Set # 8 | evensk\n",
      "Processing Record 9 of Set # 8 | gamba\n",
      "Processing Record 10 of Set # 8 | cerritos\n",
      "Processing Record 11 of Set # 8 | mareeba\n",
      "Processing Record 12 of Set # 8 | dolinsk\n",
      "Processing Record 13 of Set # 8 | chimbote\n",
      "Processing Record 14 of Set # 8 | bathsheba\n",
      "Missing weather information for bolungarvik ... skipping\n",
      "Processing Record 16 of Set # 8 | gerash\n",
      "Processing Record 17 of Set # 8 | marabba\n",
      "Processing Record 18 of Set # 8 | tabou\n",
      "Processing Record 19 of Set # 8 | sechura\n",
      "Processing Record 20 of Set # 8 | cherskiy\n",
      "Processing Record 21 of Set # 8 | half moon bay\n",
      "Processing Record 22 of Set # 8 | manggar\n",
      "Processing Record 23 of Set # 8 | malumfashi\n",
      "Processing Record 24 of Set # 8 | egvekinot\n",
      "Processing Record 25 of Set # 8 | dzaoudzi\n",
      "Processing Record 26 of Set # 8 | narsaq\n",
      "Processing Record 27 of Set # 8 | boa vista\n",
      "Processing Record 28 of Set # 8 | paragominas\n",
      "Processing Record 29 of Set # 8 | quilmana\n",
      "Processing Record 30 of Set # 8 | amurrio\n",
      "Processing Record 31 of Set # 8 | ponta delgada\n",
      "Processing Record 32 of Set # 8 | tshela\n",
      "Processing Record 33 of Set # 8 | kalemie\n",
      "Processing Record 34 of Set # 8 | nikki\n",
      "Processing Record 35 of Set # 8 | avera\n",
      "Processing Record 36 of Set # 8 | dickinson\n",
      "Processing Record 37 of Set # 8 | nampula\n",
      "Processing Record 38 of Set # 8 | gondar\n",
      "Processing Record 39 of Set # 8 | quatre cocos\n",
      "Processing Record 40 of Set # 8 | dingle\n",
      "Processing Record 41 of Set # 8 | alofi\n",
      "Processing Record 42 of Set # 8 | les cayes\n",
      "Processing Record 43 of Set # 8 | korla\n",
      "Processing Record 44 of Set # 8 | kushima\n",
      "Missing weather information for satitoa ... skipping\n",
      "Processing Record 46 of Set # 8 | dhidhdhoo\n",
      "Processing Record 47 of Set # 8 | boysun\n",
      "Processing Record 48 of Set # 8 | taltal\n",
      "Processing Record 49 of Set # 8 | ishim\n",
      "Processing Record 50 of Set # 8 | cambridge\n",
      "Processing Record 1 of Set # 9 | naze\n",
      "Processing Record 2 of Set # 9 | araouane\n",
      "Processing Record 3 of Set # 9 | amot\n",
      "Missing weather information for jarjis ... skipping\n",
      "Processing Record 5 of Set # 9 | hirara\n",
      "Processing Record 6 of Set # 9 | pangnirtung\n",
      "Processing Record 7 of Set # 9 | shahr-e kord\n",
      "Processing Record 8 of Set # 9 | taoudenni\n",
      "Processing Record 9 of Set # 9 | constitucion\n",
      "Processing Record 10 of Set # 9 | khuzdar\n",
      "Processing Record 11 of Set # 9 | talnakh\n",
      "Processing Record 12 of Set # 9 | northam\n",
      "Processing Record 13 of Set # 9 | terme\n",
      "Processing Record 14 of Set # 9 | morondava\n",
      "Processing Record 15 of Set # 9 | tortoli\n",
      "Processing Record 16 of Set # 9 | tura\n",
      "Processing Record 17 of Set # 9 | salalah\n",
      "Processing Record 18 of Set # 9 | lompoc\n",
      "Processing Record 19 of Set # 9 | havelock\n",
      "Processing Record 20 of Set # 9 | bahia honda\n",
      "Processing Record 21 of Set # 9 | novokayakent\n",
      "Processing Record 22 of Set # 9 | villarrobledo\n",
      "Processing Record 23 of Set # 9 | bubaque\n",
      "Processing Record 24 of Set # 9 | wilson\n",
      "Missing weather information for kegayli ... skipping\n",
      "Processing Record 26 of Set # 9 | marathon\n",
      "Processing Record 27 of Set # 9 | sohag\n",
      "Processing Record 28 of Set # 9 | sosua\n",
      "Processing Record 29 of Set # 9 | fukue\n",
      "Processing Record 30 of Set # 9 | beloha\n",
      "Processing Record 31 of Set # 9 | port-cartier\n",
      "Missing weather information for tunduru ... skipping\n",
      "Processing Record 33 of Set # 9 | ust-nera\n",
      "Processing Record 34 of Set # 9 | shimanovsk\n",
      "Missing weather information for toliary ... skipping\n",
      "Processing Record 36 of Set # 9 | tyler\n",
      "Processing Record 37 of Set # 9 | sikasso\n",
      "Processing Record 38 of Set # 9 | oyama\n",
      "Processing Record 39 of Set # 9 | lazaro cardenas\n",
      "Processing Record 40 of Set # 9 | goure\n",
      "Processing Record 41 of Set # 9 | mehamn\n",
      "Processing Record 42 of Set # 9 | victoria point\n",
      "Processing Record 43 of Set # 9 | vilhena\n",
      "Processing Record 44 of Set # 9 | madera\n",
      "Processing Record 45 of Set # 9 | stephenville\n",
      "Processing Record 46 of Set # 9 | kerman\n",
      "Processing Record 47 of Set # 9 | riviere-du-loup\n",
      "Processing Record 48 of Set # 9 | aksha\n",
      "Processing Record 49 of Set # 9 | villarrica\n",
      "Missing weather information for alotau ... skipping\n",
      "Missing weather information for maulvi bazar ... skipping\n",
      "Processing Record 2 of Set # 10 | farafangana\n",
      "Processing Record 3 of Set # 10 | severo-kurilsk\n",
      "Processing Record 4 of Set # 10 | ullapool\n",
      "Processing Record 5 of Set # 10 | prachuap khiri khan\n",
      "Processing Record 6 of Set # 10 | erzin\n",
      "Processing Record 7 of Set # 10 | tambo grande\n",
      "Processing Record 8 of Set # 10 | bangassou\n",
      "Processing Record 9 of Set # 10 | ilulissat\n",
      "Processing Record 10 of Set # 10 | paramonga\n",
      "Processing Record 11 of Set # 10 | hay river\n",
      "Processing Record 12 of Set # 10 | ballina\n",
      "Missing weather information for kawana waters ... skipping\n",
      "Processing Record 14 of Set # 10 | charters towers\n",
      "Processing Record 15 of Set # 10 | vegreville\n",
      "Processing Record 16 of Set # 10 | varca\n",
      "Processing Record 17 of Set # 10 | kashi\n",
      "Processing Record 18 of Set # 10 | kavaratti\n",
      "Processing Record 19 of Set # 10 | acajutla\n",
      "Processing Record 20 of Set # 10 | shouguang\n",
      "Processing Record 21 of Set # 10 | terrace\n",
      "Missing weather information for zadonye ... skipping\n",
      "Processing Record 23 of Set # 10 | necochea\n",
      "Processing Record 24 of Set # 10 | madang\n",
      "Processing Record 25 of Set # 10 | kingaroy\n",
      "Processing Record 26 of Set # 10 | gunnedah\n",
      "Processing Record 27 of Set # 10 | horki\n",
      "Processing Record 28 of Set # 10 | sorland\n",
      "Processing Record 29 of Set # 10 | buin\n",
      "Processing Record 30 of Set # 10 | srednekolymsk\n",
      "Processing Record 31 of Set # 10 | asau\n",
      "Processing Record 32 of Set # 10 | haifa\n",
      "Processing Record 33 of Set # 10 | cap malheureux\n",
      "Processing Record 34 of Set # 10 | tsogni\n",
      "Processing Record 35 of Set # 10 | raudeberg\n",
      "Processing Record 36 of Set # 10 | chake chake\n",
      "Processing Record 37 of Set # 10 | santa maria\n",
      "Processing Record 38 of Set # 10 | glazov\n",
      "Processing Record 39 of Set # 10 | mwene-ditu\n",
      "Processing Record 40 of Set # 10 | kieta\n",
      "Processing Record 41 of Set # 10 | abnub\n",
      "Processing Record 42 of Set # 10 | pilar\n",
      "Processing Record 43 of Set # 10 | rawson\n",
      "Processing Record 44 of Set # 10 | baoshan\n",
      "Processing Record 45 of Set # 10 | spirit river\n",
      "Processing Record 46 of Set # 10 | formosa do rio preto\n",
      "Processing Record 47 of Set # 10 | flin flon\n",
      "Processing Record 48 of Set # 10 | atar\n",
      "Processing Record 49 of Set # 10 | hobyo\n",
      "Processing Record 50 of Set # 10 | loikaw\n",
      "Missing weather information for falealupo ... skipping\n",
      "Processing Record 2 of Set # 11 | mogeiro\n",
      "Processing Record 3 of Set # 11 | kyshtovka\n",
      "Processing Record 4 of Set # 11 | finschhafen\n",
      "Processing Record 5 of Set # 11 | saint anthony\n",
      "Processing Record 6 of Set # 11 | fiumicino\n",
      "Processing Record 7 of Set # 11 | kilindoni\n",
      "Processing Record 8 of Set # 11 | burgeo\n",
      "Processing Record 9 of Set # 11 | new brunswick\n",
      "Processing Record 10 of Set # 11 | gumdag\n"
     ]
    },
    {
     "name": "stdout",
     "output_type": "stream",
     "text": [
      "Processing Record 11 of Set # 11 | sibolga\n",
      "Processing Record 12 of Set # 11 | shache\n",
      "Processing Record 13 of Set # 11 | lavrentiya\n",
      "Processing Record 14 of Set # 11 | baherden\n",
      "Processing Record 15 of Set # 11 | moron\n",
      "Missing weather information for tanjong sepat ... skipping\n",
      "Processing Record 17 of Set # 11 | san carlos de bariloche\n",
      "Processing Record 18 of Set # 11 | kirakira\n",
      "Processing Record 19 of Set # 11 | pakxe\n",
      "Processing Record 20 of Set # 11 | wellington\n",
      "Processing Record 21 of Set # 11 | khani\n",
      "Processing Record 22 of Set # 11 | flinders\n",
      "Processing Record 23 of Set # 11 | lucapa\n",
      "Processing Record 24 of Set # 11 | cabo san lucas\n",
      "Processing Record 25 of Set # 11 | guia de isora\n",
      "Processing Record 26 of Set # 11 | tarauaca\n",
      "Processing Record 27 of Set # 11 | mandalgarh\n",
      "Processing Record 28 of Set # 11 | hami\n",
      "Processing Record 29 of Set # 11 | rabaul\n",
      "Processing Record 30 of Set # 11 | la asuncion\n",
      "Processing Record 31 of Set # 11 | portales\n",
      "Processing Record 32 of Set # 11 | lubango\n",
      "Processing Record 33 of Set # 11 | rio grande\n",
      "Processing Record 34 of Set # 11 | jalu\n",
      "Processing Record 35 of Set # 11 | bayir\n",
      "Missing weather information for karamea ... skipping\n",
      "Processing Record 37 of Set # 11 | maceio\n",
      "Processing Record 38 of Set # 11 | oriximina\n",
      "Processing Record 39 of Set # 11 | shenjiamen\n",
      "Processing Record 40 of Set # 11 | auki\n",
      "Processing Record 41 of Set # 11 | eureka\n",
      "Processing Record 42 of Set # 11 | vila franca do campo\n",
      "Missing weather information for doctor pedro p. pena ... skipping\n",
      "Processing Record 44 of Set # 11 | aberdeen\n",
      "Processing Record 45 of Set # 11 | sao filipe\n",
      "Processing Record 46 of Set # 11 | valparaiso\n",
      "Processing Record 47 of Set # 11 | ilheus\n",
      "Processing Record 48 of Set # 11 | opunake\n",
      "Processing Record 49 of Set # 11 | kysyl-syr\n",
      "Processing Record 50 of Set # 11 | hindoria\n",
      "Processing Record 1 of Set # 12 | paka\n",
      "Processing Record 2 of Set # 12 | caraballeda\n",
      "Processing Record 3 of Set # 12 | oktyabrskoye\n",
      "Missing weather information for samusu ... skipping\n",
      "Processing Record 5 of Set # 12 | vuktyl\n",
      "Processing Record 6 of Set # 12 | killybegs\n",
      "Processing Record 7 of Set # 12 | inta\n",
      "Processing Record 8 of Set # 12 | songjianghe\n",
      "Processing Record 9 of Set # 12 | saint-joseph\n",
      "Processing Record 10 of Set # 12 | cocorit\n",
      "Processing Record 11 of Set # 12 | maniitsoq\n",
      "Processing of weather data successfully completed for 565 cities\n"
     ]
    }
   ],
   "source": [
    "# Starting URL for Weather Map API Call.\n",
    "url = \"http://api.openweathermap.org/data/2.5/weather?\" \n",
    "units = \"imperial\"\n",
    "\n",
    "# keeps count of those cities whose weather information is successfully retrieved\n",
    "cities_cnt = 0\n",
    "\n",
    "# Keep count of the API calls.\n",
    "calls_to_api = 1 \n",
    "\n",
    "# counter to count the number of call sets of 50\n",
    "sets_of_50 = 0 \n",
    "\n",
    "#loop through all rows and fill in values for blank columns in dataframe\n",
    "\n",
    "for index, row in df_countries_weather.iterrows():\n",
    "    city_name = row['City']\n",
    "    \n",
    "    # The targeted API call for all the Cities in the list. \n",
    "    \n",
    "    query_url = url + \"appid=\" + weather_api_key + \"&q=\" + city_name + \"&units=\" + units\n",
    "    \n",
    "    city_wthr = requests.get(query_url).json()\n",
    "        \n",
    "    try:\n",
    "        df_countries_weather.loc[index,'Lat'] = city_wthr['coord']['lat']\n",
    "        df_countries_weather.loc[index,'Lng'] = city_wthr['coord']['lon']\n",
    "        df_countries_weather.loc[index,'Max Temp'] = city_wthr['main']['temp_max']\n",
    "        df_countries_weather.loc[index,'Humidity'] = city_wthr['main']['humidity']\n",
    "        df_countries_weather.loc[index,'Cloudiness'] = city_wthr['clouds']['all']\n",
    "        df_countries_weather.loc[index,'Wind Speed'] = city_wthr['wind']['speed']\n",
    "        df_countries_weather.loc[index,'Country'] = city_wthr['sys']['country']\n",
    "        df_countries_weather.loc[index, 'Date'] = city_wthr['dt']\n",
    "        \n",
    "        # Print the log for each city successfully processed.\n",
    "        print(f'Processing Record {calls_to_api} of Set # {sets_of_50} | {city_name}' )\n",
    "        \n",
    "        # Increment if you successfully retrieve weather information for a city.\n",
    "        cities_cnt += 1 \n",
    "    \n",
    "    except KeyError:\n",
    "        # If the city cannot be processed send a message and continue.\n",
    "        print(f\"Missing weather information for {city_name} ... skipping\")\n",
    "    \n",
    "    calls_to_api += 1  \n",
    "    \n",
    "    # loop to limit 50 API calls per minute as there is an API \n",
    "    # limit on the number of calls per minute\n",
    "    \n",
    "    if calls_to_api > 50: \n",
    "        time.sleep(1)\n",
    "        \n",
    "        # Reset it for next 50 calls\n",
    "        calls_to_api = 1 \n",
    "        \n",
    "        # Increment which set of 50 calls you are on.\n",
    "        sets_of_50 += 1\n",
    "\n",
    "print(f\"Processing of weather data successfully completed for {cities_cnt} cities\")\n",
    "\n"
   ]
  },
  {
   "cell_type": "code",
   "execution_count": 5,
   "metadata": {},
   "outputs": [
    {
     "name": "stdout",
     "output_type": "stream",
     "text": [
      "              City      Lat      Lng Max Temp Humidity Cloudiness Wind Speed  \\\n",
      "0     sydney mines  46.2367 -60.2177    73.09       51          0       5.99   \n",
      "1        taolanaro                                                             \n",
      "2       bredasdorp -34.5322  20.0403    48.27       89          8       6.76   \n",
      "3          mataura -46.1927  168.864    40.48       94         87       3.89   \n",
      "4  arraial do cabo -22.9661 -42.0278    64.26       48         75      23.02   \n",
      "\n",
      "  Country        Date  \n",
      "0      CA  1627585750  \n",
      "1                      \n",
      "2      ZA  1627585750  \n",
      "3      NZ  1627585750  \n",
      "4      BR  1627585751  \n"
     ]
    }
   ],
   "source": [
    "# Print header of df_countries_weather DataFrame and write the output file to csv format.\n",
    "print(df_countries_weather.head())"
   ]
  },
  {
   "cell_type": "markdown",
   "metadata": {},
   "source": [
    "### Convert Raw Data to DataFrame\n",
    "* Export the city data into a .csv.\n",
    "* Display the DataFrame"
   ]
  },
  {
   "cell_type": "code",
   "execution_count": 6,
   "metadata": {},
   "outputs": [],
   "source": [
    "# The output file has been \"cleaned\" of NaN data.\n",
    "df_countries_weather.to_csv(output_data_file, encoding=\"utf-8\", index=False)"
   ]
  },
  {
   "cell_type": "code",
   "execution_count": 7,
   "metadata": {},
   "outputs": [
    {
     "data": {
      "text/html": [
       "<div>\n",
       "<style scoped>\n",
       "    .dataframe tbody tr th:only-of-type {\n",
       "        vertical-align: middle;\n",
       "    }\n",
       "\n",
       "    .dataframe tbody tr th {\n",
       "        vertical-align: top;\n",
       "    }\n",
       "\n",
       "    .dataframe thead th {\n",
       "        text-align: right;\n",
       "    }\n",
       "</style>\n",
       "<table border=\"1\" class=\"dataframe\">\n",
       "  <thead>\n",
       "    <tr style=\"text-align: right;\">\n",
       "      <th></th>\n",
       "      <th>City</th>\n",
       "      <th>Lat</th>\n",
       "      <th>Lng</th>\n",
       "      <th>Max Temp</th>\n",
       "      <th>Humidity</th>\n",
       "      <th>Cloudiness</th>\n",
       "      <th>Wind Speed</th>\n",
       "      <th>Country</th>\n",
       "      <th>Date</th>\n",
       "    </tr>\n",
       "  </thead>\n",
       "  <tbody>\n",
       "    <tr>\n",
       "      <th>0</th>\n",
       "      <td>sydney mines</td>\n",
       "      <td>46.2367</td>\n",
       "      <td>-60.2177</td>\n",
       "      <td>73.09</td>\n",
       "      <td>51.0</td>\n",
       "      <td>0.0</td>\n",
       "      <td>5.99</td>\n",
       "      <td>CA</td>\n",
       "      <td>1627585750</td>\n",
       "    </tr>\n",
       "    <tr>\n",
       "      <th>2</th>\n",
       "      <td>bredasdorp</td>\n",
       "      <td>-34.5322</td>\n",
       "      <td>20.0403</td>\n",
       "      <td>48.27</td>\n",
       "      <td>89.0</td>\n",
       "      <td>8.0</td>\n",
       "      <td>6.76</td>\n",
       "      <td>ZA</td>\n",
       "      <td>1627585750</td>\n",
       "    </tr>\n",
       "    <tr>\n",
       "      <th>3</th>\n",
       "      <td>mataura</td>\n",
       "      <td>-46.1927</td>\n",
       "      <td>168.8643</td>\n",
       "      <td>40.48</td>\n",
       "      <td>94.0</td>\n",
       "      <td>87.0</td>\n",
       "      <td>3.89</td>\n",
       "      <td>NZ</td>\n",
       "      <td>1627585750</td>\n",
       "    </tr>\n",
       "    <tr>\n",
       "      <th>4</th>\n",
       "      <td>arraial do cabo</td>\n",
       "      <td>-22.9661</td>\n",
       "      <td>-42.0278</td>\n",
       "      <td>64.26</td>\n",
       "      <td>48.0</td>\n",
       "      <td>75.0</td>\n",
       "      <td>23.02</td>\n",
       "      <td>BR</td>\n",
       "      <td>1627585751</td>\n",
       "    </tr>\n",
       "    <tr>\n",
       "      <th>5</th>\n",
       "      <td>geraldton</td>\n",
       "      <td>-28.7667</td>\n",
       "      <td>114.6000</td>\n",
       "      <td>65.12</td>\n",
       "      <td>82.0</td>\n",
       "      <td>75.0</td>\n",
       "      <td>20.71</td>\n",
       "      <td>AU</td>\n",
       "      <td>1627585751</td>\n",
       "    </tr>\n",
       "    <tr>\n",
       "      <th>6</th>\n",
       "      <td>mount isa</td>\n",
       "      <td>-20.7333</td>\n",
       "      <td>139.5000</td>\n",
       "      <td>53.37</td>\n",
       "      <td>62.0</td>\n",
       "      <td>0.0</td>\n",
       "      <td>0.00</td>\n",
       "      <td>AU</td>\n",
       "      <td>1627585751</td>\n",
       "    </tr>\n",
       "    <tr>\n",
       "      <th>7</th>\n",
       "      <td>bluff</td>\n",
       "      <td>-46.6000</td>\n",
       "      <td>168.3333</td>\n",
       "      <td>40.80</td>\n",
       "      <td>79.0</td>\n",
       "      <td>100.0</td>\n",
       "      <td>8.30</td>\n",
       "      <td>NZ</td>\n",
       "      <td>1627585751</td>\n",
       "    </tr>\n",
       "    <tr>\n",
       "      <th>8</th>\n",
       "      <td>lethem</td>\n",
       "      <td>3.3803</td>\n",
       "      <td>-59.7968</td>\n",
       "      <td>75.00</td>\n",
       "      <td>90.0</td>\n",
       "      <td>98.0</td>\n",
       "      <td>3.98</td>\n",
       "      <td>GY</td>\n",
       "      <td>1627585752</td>\n",
       "    </tr>\n",
       "    <tr>\n",
       "      <th>9</th>\n",
       "      <td>ribeira grande</td>\n",
       "      <td>38.5167</td>\n",
       "      <td>-28.7000</td>\n",
       "      <td>77.40</td>\n",
       "      <td>57.0</td>\n",
       "      <td>75.0</td>\n",
       "      <td>8.05</td>\n",
       "      <td>PT</td>\n",
       "      <td>1627585752</td>\n",
       "    </tr>\n",
       "    <tr>\n",
       "      <th>11</th>\n",
       "      <td>mayumba</td>\n",
       "      <td>-3.4320</td>\n",
       "      <td>10.6554</td>\n",
       "      <td>73.15</td>\n",
       "      <td>89.0</td>\n",
       "      <td>80.0</td>\n",
       "      <td>10.92</td>\n",
       "      <td>GA</td>\n",
       "      <td>1627585752</td>\n",
       "    </tr>\n",
       "  </tbody>\n",
       "</table>\n",
       "</div>"
      ],
      "text/plain": [
       "               City      Lat       Lng  Max Temp  Humidity  Cloudiness  \\\n",
       "0      sydney mines  46.2367  -60.2177     73.09      51.0         0.0   \n",
       "2        bredasdorp -34.5322   20.0403     48.27      89.0         8.0   \n",
       "3           mataura -46.1927  168.8643     40.48      94.0        87.0   \n",
       "4   arraial do cabo -22.9661  -42.0278     64.26      48.0        75.0   \n",
       "5         geraldton -28.7667  114.6000     65.12      82.0        75.0   \n",
       "6         mount isa -20.7333  139.5000     53.37      62.0         0.0   \n",
       "7             bluff -46.6000  168.3333     40.80      79.0       100.0   \n",
       "8            lethem   3.3803  -59.7968     75.00      90.0        98.0   \n",
       "9    ribeira grande  38.5167  -28.7000     77.40      57.0        75.0   \n",
       "11          mayumba  -3.4320   10.6554     73.15      89.0        80.0   \n",
       "\n",
       "    Wind Speed Country        Date  \n",
       "0         5.99      CA  1627585750  \n",
       "2         6.76      ZA  1627585750  \n",
       "3         3.89      NZ  1627585750  \n",
       "4        23.02      BR  1627585751  \n",
       "5        20.71      AU  1627585751  \n",
       "6         0.00      AU  1627585751  \n",
       "7         8.30      NZ  1627585751  \n",
       "8         3.98      GY  1627585752  \n",
       "9         8.05      PT  1627585752  \n",
       "11       10.92      GA  1627585752  "
      ]
     },
     "execution_count": 7,
     "metadata": {},
     "output_type": "execute_result"
    }
   ],
   "source": [
    "# Change the data from the api to numerical data\n",
    "\n",
    "df_countries_weather['Lat'] = pd.to_numeric(df_countries_weather['Lat'])\n",
    "df_countries_weather['Lng'] = pd.to_numeric(df_countries_weather['Lng'])\n",
    "df_countries_weather['Max Temp'] = pd.to_numeric(df_countries_weather['Max Temp'])\n",
    "df_countries_weather['Humidity'] = pd.to_numeric(df_countries_weather['Humidity'])\n",
    "df_countries_weather['Cloudiness'] = pd.to_numeric(df_countries_weather['Cloudiness'])\n",
    "df_countries_weather['Wind Speed'] = pd.to_numeric(df_countries_weather['Wind Speed'])\n",
    "\n",
    "# Get rid of rows with NaN values from the DataFrame df_countries_weather\n",
    "df_countries_weather = df_countries_weather.dropna()\n",
    "\n",
    "df_countries_weather = df_countries_weather[[\"City\",\"Lat\",\"Lng\",\"Max Temp\",\"Humidity\",\n",
    "                                             \"Cloudiness\",\"Wind Speed\",\"Country\",\"Date\"]]\n",
    "\n",
    "df_countries_weather.head(10)\n",
    "\n"
   ]
  },
  {
   "cell_type": "markdown",
   "metadata": {},
   "source": [
    "### There were no cities with humidity over 100%"
   ]
  },
  {
   "cell_type": "code",
   "execution_count": 8,
   "metadata": {},
   "outputs": [
    {
     "data": {
      "text/plain": [
       "Series([], Name: City, dtype: object)"
      ]
     },
     "execution_count": 8,
     "metadata": {},
     "output_type": "execute_result"
    }
   ],
   "source": [
    "# Humidity over 100%\n",
    "high_humidity = df_countries_weather.loc[df_countries_weather[\"Humidity\"] > 100][\"City\"]\n",
    "high_humidity\n"
   ]
  },
  {
   "cell_type": "markdown",
   "metadata": {},
   "source": [
    "## Inspect the data and remove the cities where the humidity > 100%.\n",
    "----\n",
    "Skip this step if there are no cities that have humidity > 100%. "
   ]
  },
  {
   "cell_type": "markdown",
   "metadata": {},
   "source": [
    "### The output shows no cities with humidity over 100%.  This was confirmed in the list high_humidity above."
   ]
  },
  {
   "cell_type": "code",
   "execution_count": null,
   "metadata": {},
   "outputs": [],
   "source": []
  },
  {
   "cell_type": "code",
   "execution_count": 9,
   "metadata": {},
   "outputs": [],
   "source": [
    "#  Get the indices of cities that have humidity over 100%.\n",
    "#  There were no cities with humidity over 100%"
   ]
  },
  {
   "cell_type": "code",
   "execution_count": 10,
   "metadata": {},
   "outputs": [],
   "source": [
    "# Make a new DataFrame equal to the city data to drop all humidity outliers by index.\n",
    "# Passing \"inplace=False\" will make a copy of the city_data DataFrame, which we call \"clean_city_data\".\n",
    "\n",
    "# No need to cleanup as shown by high_humidity which had no cities with a humidity over 100%.\n"
   ]
  },
  {
   "cell_type": "markdown",
   "metadata": {},
   "source": [
    "## Plotting the Data\n",
    "* Use proper labeling of the plots using plot titles (including date of analysis) and axes labels.\n",
    "* Save the plotted figures as .pngs."
   ]
  },
  {
   "cell_type": "markdown",
   "metadata": {},
   "source": [
    "## Latitude vs. Temperature Plot"
   ]
  },
  {
   "cell_type": "markdown",
   "metadata": {},
   "source": [
    "As the Latitude is increasing between 0 and 40 the temperatures are around 90 degrees. And with decreasing latitude down to -60 the temperature goes down to 35F.  When the latitude goes above 40 the temperature also decreases."
   ]
  },
  {
   "cell_type": "code",
   "execution_count": 11,
   "metadata": {},
   "outputs": [
    {
     "data": {
      "text/plain": [
       "<function matplotlib.pyplot.show(*args, **kw)>"
      ]
     },
     "execution_count": 11,
     "metadata": {},
     "output_type": "execute_result"
    },
    {
     "data": {
      "image/png": "[encoded data removed]",
      "text/plain": [
       "<Figure size 576x432 with 1 Axes>"
      ]
     },
     "metadata": {
      "needs_background": "light"
     },
     "output_type": "display_data"
    }
   ],
   "source": [
    "# Latitude vs. Temperature Plot\n",
    "plt.figure(figsize=(8,6))\n",
    "plt.scatter(df_countries_weather[\"Lat\"], df_countries_weather[\"Max Temp\"], color='b', alpha=0.5)\n",
    "plt.grid()\n",
    "plt.title(f'City Latitude vs. Max Temperature ({datetime.datetime.now().strftime(\"%D\")})')\n",
    "plt.xlabel(\"Latitude\")\n",
    "plt.ylabel(\"Max Temperature (F)\")\n",
    "plt.savefig(\"../Images/Latitude_vs_Max_Temp.png\")\n",
    "plt.show"
   ]
  },
  {
   "cell_type": "markdown",
   "metadata": {},
   "source": [
    "## Latitude vs. Humidity Plot"
   ]
  },
  {
   "cell_type": "markdown",
   "metadata": {},
   "source": [
    "Most of the humidity is clustered between -40 to 60 latitude points and most of the humidity is between 50 percent and 90 percent."
   ]
  },
  {
   "cell_type": "code",
   "execution_count": 12,
   "metadata": {},
   "outputs": [
    {
     "data": {
      "image/png": "[encoded data removed]",
      "text/plain": [
       "<Figure size 576x432 with 1 Axes>"
      ]
     },
     "metadata": {
      "needs_background": "light"
     },
     "output_type": "display_data"
    }
   ],
   "source": [
    "# Latitude vs. Humidity Plot\n",
    "plt.figure(figsize=(8,6))\n",
    "plt.scatter(df_countries_weather[\"Lat\"], df_countries_weather[\"Humidity\"], color='blue', alpha=0.5)\n",
    "plt.ylim(10,120)\n",
    "plt.grid()\n",
    "plt.xlabel('Latitude')\n",
    "plt.ylabel('Humidity (%)')\n",
    "plt.title(f'City Latitude vs Humidity ({datetime.datetime.now().strftime(\"%D\")})')\n",
    "plt.savefig(\"../Images/Latitude_vs_Humidity.png\")\n",
    "plt.show()\n"
   ]
  },
  {
   "cell_type": "markdown",
   "metadata": {},
   "source": [
    "## Latitude vs. Cloudiness Plot"
   ]
  },
  {
   "cell_type": "markdown",
   "metadata": {},
   "source": [
    "There does not look to be anything much to interpret here other than a greater percentage of cloudiness data points when close to 100 percent cloudiness."
   ]
  },
  {
   "cell_type": "code",
   "execution_count": 13,
   "metadata": {},
   "outputs": [
    {
     "data": {
      "image/png": "[encoded data removed]",
      "text/plain": [
       "<Figure size 576x432 with 1 Axes>"
      ]
     },
     "metadata": {
      "needs_background": "light"
     },
     "output_type": "display_data"
    }
   ],
   "source": [
    "# Latitude vs. Cloudiness Plot\n",
    "plt.figure(figsize=(8,6))\n",
    "plt.scatter(df_countries_weather[\"Lat\"], df_countries_weather[\"Cloudiness\"], color='b', alpha=0.5)\n",
    "plt.grid()\n",
    "plt.ylim(-5,(df_countries_weather[\"Cloudiness\"].max()+10))\n",
    "plt.xlabel('Latitude')\n",
    "plt.ylabel('Cloudiness (%)')\n",
    "plt.title(f'City Latitude vs Cloudiness ({datetime.datetime.now().strftime(\"%D\")})')\n",
    "plt.savefig(\"../Images/Latitude_vs_Cloudiness.png\")\n",
    "plt.show()\n"
   ]
  },
  {
   "cell_type": "markdown",
   "metadata": {},
   "source": [
    "## Latitude vs. Wind Speed Plot"
   ]
  },
  {
   "cell_type": "markdown",
   "metadata": {},
   "source": [
    "The wind speed tends to be clustered between 2 mph and 10 mph across the latitude spanning from -40 to 70."
   ]
  },
  {
   "cell_type": "code",
   "execution_count": 14,
   "metadata": {},
   "outputs": [
    {
     "data": {
      "image/png": "[encoded data removed]",
      "text/plain": [
       "<Figure size 576x432 with 1 Axes>"
      ]
     },
     "metadata": {
      "needs_background": "light"
     },
     "output_type": "display_data"
    }
   ],
   "source": [
    "# Latitude vs. Wind Speed Plot\n",
    "plt.figure(figsize=(8,6))\n",
    "plt.scatter(df_countries_weather[\"Lat\"], df_countries_weather[\"Wind Speed\"], color='blue', alpha=0.5)\n",
    "plt.grid()\n",
    "plt.ylim((df_countries_weather[\"Wind Speed\"].min()-1),(df_countries_weather[\"Wind Speed\"].max()+2))\n",
    "plt.xlabel('Latitude')\n",
    "plt.ylabel('Wind Speed (mph)')\n",
    "plt.title(f'City Latitude vs Wind Speed ({datetime.datetime.now().strftime(\"%D\")})')\n",
    "plt.savefig(\"../Images/Latitude_vs_Wind_Speed.png\")\n",
    "plt.show()\n"
   ]
  },
  {
   "cell_type": "markdown",
   "metadata": {},
   "source": [
    "## Linear Regression"
   ]
  },
  {
   "cell_type": "code",
   "execution_count": 15,
   "metadata": {},
   "outputs": [],
   "source": [
    "# Run linear regression on each relationship. This time, separate the plots into \n",
    "# Northern Hemisphere (greater than or equal to 0 degrees latitude) and \n",
    "# Southern Hemisphere (less than 0 degrees latitude)."
   ]
  },
  {
   "cell_type": "code",
   "execution_count": 16,
   "metadata": {},
   "outputs": [
    {
     "data": {
      "text/html": [
       "<div>\n",
       "<style scoped>\n",
       "    .dataframe tbody tr th:only-of-type {\n",
       "        vertical-align: middle;\n",
       "    }\n",
       "\n",
       "    .dataframe tbody tr th {\n",
       "        vertical-align: top;\n",
       "    }\n",
       "\n",
       "    .dataframe thead th {\n",
       "        text-align: right;\n",
       "    }\n",
       "</style>\n",
       "<table border=\"1\" class=\"dataframe\">\n",
       "  <thead>\n",
       "    <tr style=\"text-align: right;\">\n",
       "      <th></th>\n",
       "      <th>City</th>\n",
       "      <th>Lat</th>\n",
       "      <th>Lng</th>\n",
       "      <th>Max Temp</th>\n",
       "      <th>Humidity</th>\n",
       "      <th>Cloudiness</th>\n",
       "      <th>Wind Speed</th>\n",
       "      <th>Country</th>\n",
       "      <th>Date</th>\n",
       "    </tr>\n",
       "  </thead>\n",
       "  <tbody>\n",
       "    <tr>\n",
       "      <th>0</th>\n",
       "      <td>sydney mines</td>\n",
       "      <td>46.2367</td>\n",
       "      <td>-60.2177</td>\n",
       "      <td>73.09</td>\n",
       "      <td>51.0</td>\n",
       "      <td>0.0</td>\n",
       "      <td>5.99</td>\n",
       "      <td>CA</td>\n",
       "      <td>1627585750</td>\n",
       "    </tr>\n",
       "    <tr>\n",
       "      <th>8</th>\n",
       "      <td>lethem</td>\n",
       "      <td>3.3803</td>\n",
       "      <td>-59.7968</td>\n",
       "      <td>75.00</td>\n",
       "      <td>90.0</td>\n",
       "      <td>98.0</td>\n",
       "      <td>3.98</td>\n",
       "      <td>GY</td>\n",
       "      <td>1627585752</td>\n",
       "    </tr>\n",
       "    <tr>\n",
       "      <th>9</th>\n",
       "      <td>ribeira grande</td>\n",
       "      <td>38.5167</td>\n",
       "      <td>-28.7000</td>\n",
       "      <td>77.40</td>\n",
       "      <td>57.0</td>\n",
       "      <td>75.0</td>\n",
       "      <td>8.05</td>\n",
       "      <td>PT</td>\n",
       "      <td>1627585752</td>\n",
       "    </tr>\n",
       "    <tr>\n",
       "      <th>12</th>\n",
       "      <td>abu samrah</td>\n",
       "      <td>35.3029</td>\n",
       "      <td>37.1841</td>\n",
       "      <td>84.13</td>\n",
       "      <td>32.0</td>\n",
       "      <td>0.0</td>\n",
       "      <td>14.90</td>\n",
       "      <td>SY</td>\n",
       "      <td>1627585752</td>\n",
       "    </tr>\n",
       "    <tr>\n",
       "      <th>13</th>\n",
       "      <td>hofn</td>\n",
       "      <td>64.2539</td>\n",
       "      <td>-15.2082</td>\n",
       "      <td>57.65</td>\n",
       "      <td>78.0</td>\n",
       "      <td>75.0</td>\n",
       "      <td>10.04</td>\n",
       "      <td>IS</td>\n",
       "      <td>1627585753</td>\n",
       "    </tr>\n",
       "  </tbody>\n",
       "</table>\n",
       "</div>"
      ],
      "text/plain": [
       "              City      Lat      Lng  Max Temp  Humidity  Cloudiness  \\\n",
       "0     sydney mines  46.2367 -60.2177     73.09      51.0         0.0   \n",
       "8           lethem   3.3803 -59.7968     75.00      90.0        98.0   \n",
       "9   ribeira grande  38.5167 -28.7000     77.40      57.0        75.0   \n",
       "12      abu samrah  35.3029  37.1841     84.13      32.0         0.0   \n",
       "13            hofn  64.2539 -15.2082     57.65      78.0        75.0   \n",
       "\n",
       "    Wind Speed Country        Date  \n",
       "0         5.99      CA  1627585750  \n",
       "8         3.98      GY  1627585752  \n",
       "9         8.05      PT  1627585752  \n",
       "12       14.90      SY  1627585752  \n",
       "13       10.04      IS  1627585753  "
      ]
     },
     "execution_count": 16,
     "metadata": {},
     "output_type": "execute_result"
    }
   ],
   "source": [
    "North_Hemi = df_countries_weather.loc[df_countries_weather[\"Lat\"]>= 0]\n",
    "North_Hemi.head()"
   ]
  },
  {
   "cell_type": "code",
   "execution_count": 17,
   "metadata": {},
   "outputs": [
    {
     "data": {
      "text/html": [
       "<div>\n",
       "<style scoped>\n",
       "    .dataframe tbody tr th:only-of-type {\n",
       "        vertical-align: middle;\n",
       "    }\n",
       "\n",
       "    .dataframe tbody tr th {\n",
       "        vertical-align: top;\n",
       "    }\n",
       "\n",
       "    .dataframe thead th {\n",
       "        text-align: right;\n",
       "    }\n",
       "</style>\n",
       "<table border=\"1\" class=\"dataframe\">\n",
       "  <thead>\n",
       "    <tr style=\"text-align: right;\">\n",
       "      <th></th>\n",
       "      <th>City</th>\n",
       "      <th>Lat</th>\n",
       "      <th>Lng</th>\n",
       "      <th>Max Temp</th>\n",
       "      <th>Humidity</th>\n",
       "      <th>Cloudiness</th>\n",
       "      <th>Wind Speed</th>\n",
       "      <th>Country</th>\n",
       "      <th>Date</th>\n",
       "    </tr>\n",
       "  </thead>\n",
       "  <tbody>\n",
       "    <tr>\n",
       "      <th>2</th>\n",
       "      <td>bredasdorp</td>\n",
       "      <td>-34.5322</td>\n",
       "      <td>20.0403</td>\n",
       "      <td>48.27</td>\n",
       "      <td>89.0</td>\n",
       "      <td>8.0</td>\n",
       "      <td>6.76</td>\n",
       "      <td>ZA</td>\n",
       "      <td>1627585750</td>\n",
       "    </tr>\n",
       "    <tr>\n",
       "      <th>3</th>\n",
       "      <td>mataura</td>\n",
       "      <td>-46.1927</td>\n",
       "      <td>168.8643</td>\n",
       "      <td>40.48</td>\n",
       "      <td>94.0</td>\n",
       "      <td>87.0</td>\n",
       "      <td>3.89</td>\n",
       "      <td>NZ</td>\n",
       "      <td>1627585750</td>\n",
       "    </tr>\n",
       "    <tr>\n",
       "      <th>4</th>\n",
       "      <td>arraial do cabo</td>\n",
       "      <td>-22.9661</td>\n",
       "      <td>-42.0278</td>\n",
       "      <td>64.26</td>\n",
       "      <td>48.0</td>\n",
       "      <td>75.0</td>\n",
       "      <td>23.02</td>\n",
       "      <td>BR</td>\n",
       "      <td>1627585751</td>\n",
       "    </tr>\n",
       "    <tr>\n",
       "      <th>5</th>\n",
       "      <td>geraldton</td>\n",
       "      <td>-28.7667</td>\n",
       "      <td>114.6000</td>\n",
       "      <td>65.12</td>\n",
       "      <td>82.0</td>\n",
       "      <td>75.0</td>\n",
       "      <td>20.71</td>\n",
       "      <td>AU</td>\n",
       "      <td>1627585751</td>\n",
       "    </tr>\n",
       "    <tr>\n",
       "      <th>6</th>\n",
       "      <td>mount isa</td>\n",
       "      <td>-20.7333</td>\n",
       "      <td>139.5000</td>\n",
       "      <td>53.37</td>\n",
       "      <td>62.0</td>\n",
       "      <td>0.0</td>\n",
       "      <td>0.00</td>\n",
       "      <td>AU</td>\n",
       "      <td>1627585751</td>\n",
       "    </tr>\n",
       "  </tbody>\n",
       "</table>\n",
       "</div>"
      ],
      "text/plain": [
       "              City      Lat       Lng  Max Temp  Humidity  Cloudiness  \\\n",
       "2       bredasdorp -34.5322   20.0403     48.27      89.0         8.0   \n",
       "3          mataura -46.1927  168.8643     40.48      94.0        87.0   \n",
       "4  arraial do cabo -22.9661  -42.0278     64.26      48.0        75.0   \n",
       "5        geraldton -28.7667  114.6000     65.12      82.0        75.0   \n",
       "6        mount isa -20.7333  139.5000     53.37      62.0         0.0   \n",
       "\n",
       "   Wind Speed Country        Date  \n",
       "2        6.76      ZA  1627585750  \n",
       "3        3.89      NZ  1627585750  \n",
       "4       23.02      BR  1627585751  \n",
       "5       20.71      AU  1627585751  \n",
       "6        0.00      AU  1627585751  "
      ]
     },
     "execution_count": 17,
     "metadata": {},
     "output_type": "execute_result"
    }
   ],
   "source": [
    "South_Hemi = df_countries_weather.loc[df_countries_weather[\"Lat\"]< 0]\n",
    "South_Hemi.head()"
   ]
  },
  {
   "cell_type": "markdown",
   "metadata": {},
   "source": [
    "####  Northern Hemisphere - Max Temp vs. Latitude Linear Regression"
   ]
  },
  {
   "cell_type": "markdown",
   "metadata": {},
   "source": [
    "R-squared is only .39 between max temperature and latitude which indicates there is not a strong relationship between those two variables."
   ]
  },
  {
   "cell_type": "code",
   "execution_count": 18,
   "metadata": {},
   "outputs": [
    {
     "name": "stdout",
     "output_type": "stream",
     "text": [
      "The r-squared is: 0.4604874178697206\n"
     ]
    },
    {
     "data": {
      "image/png": "[encoded data removed]",
      "text/plain": [
       "<Figure size 432x288 with 1 Axes>"
      ]
     },
     "metadata": {
      "needs_background": "light"
     },
     "output_type": "display_data"
    }
   ],
   "source": [
    "# Create a scatter plot of the x and y values for the Northern Hemisphere.\n",
    "x_values = North_Hemi[\"Lat\"]\n",
    "y_values = North_Hemi[\"Max Temp\"] \n",
    "\n",
    "(slope, intercept, rvalue, pvalue, stderr) = linregress(x_values, y_values)\n",
    "regress_values = x_values * slope + intercept\n",
    "line_eq = \"y = \" + str(round(slope,2)) + \"x + \" + str(round(intercept,2))\n",
    "plt.scatter(x_values,y_values)\n",
    "plt.plot(x_values,regress_values,\"r-\")\n",
    "plt.title(f'Northern Hemisphere Max Temperature vs. Latitude ({datetime.datetime.now().strftime(\"%D\")})')\n",
    "plt.annotate(line_eq,(20,90),fontsize=15,color=\"red\")\n",
    "plt.xlabel('Latitude')\n",
    "plt.ylabel('Max Temp')\n",
    "print(f\"The r-squared is: {rvalue**2}\")\n",
    "plt.savefig(\"../Images/Linear Regression North Hemi Max Temp vs. Lat.png\")\n",
    "plt.show()\n"
   ]
  },
  {
   "cell_type": "markdown",
   "metadata": {},
   "source": [
    "####  Southern Hemisphere - Max Temp vs. Latitude Linear Regression"
   ]
  },
  {
   "cell_type": "markdown",
   "metadata": {},
   "source": [
    "R-squared is .71 between max temperature and latitude. The relationship is fairly strong between Max Temp and Latitude."
   ]
  },
  {
   "cell_type": "code",
   "execution_count": 19,
   "metadata": {},
   "outputs": [
    {
     "name": "stdout",
     "output_type": "stream",
     "text": [
      "The r-squared is: 0.6496737115563676\n"
     ]
    },
    {
     "data": {
      "image/png": "[encoded data removed]",
      "text/plain": [
       "<Figure size 432x288 with 1 Axes>"
      ]
     },
     "metadata": {
      "needs_background": "light"
     },
     "output_type": "display_data"
    }
   ],
   "source": [
    "# Create a scatter plot of the x and y values for the Southern Hemisphere.\n",
    "x_values = South_Hemi[\"Lat\"]\n",
    "y_values = South_Hemi[\"Max Temp\"] \n",
    "\n",
    "(slope, intercept, rvalue, pvalue, stderr) = linregress(x_values, y_values)\n",
    "regress_values = x_values * slope + intercept\n",
    "line_eq = \"y = \" + str(round(slope,2)) + \"x + \" + str(round(intercept,2))\n",
    "plt.scatter(x_values,y_values)\n",
    "plt.plot(x_values,regress_values,\"r-\")\n",
    "plt.title(f'Southern Hemisphere Max Temperature vs. Latitude ({datetime.datetime.now().strftime(\"%D\")})')\n",
    "plt.annotate(line_eq,(-55,80),fontsize=15,color=\"red\")\n",
    "plt.xlabel('Latitude')\n",
    "plt.ylabel('Max Temp')\n",
    "print(f\"The r-squared is: {rvalue**2}\")\n",
    "plt.savefig(\"../Images/Linear Regression South Hemi Max Temp vs. Lat.png\")\n",
    "plt.show()"
   ]
  },
  {
   "cell_type": "markdown",
   "metadata": {},
   "source": [
    "####  Northern Hemisphere - Humidity (%) vs. Latitude Linear Regression"
   ]
  },
  {
   "cell_type": "markdown",
   "metadata": {},
   "source": [
    "R-squared is just 0.0048 which indicates the relationship between humidity and latitude is almost non-existent."
   ]
  },
  {
   "cell_type": "code",
   "execution_count": 20,
   "metadata": {},
   "outputs": [
    {
     "name": "stdout",
     "output_type": "stream",
     "text": [
      "The r-squared is: 0.007415900555656557\n"
     ]
    },
    {
     "data": {
      "image/png": "[encoded data removed]",
      "text/plain": [
       "<Figure size 432x288 with 1 Axes>"
      ]
     },
     "metadata": {
      "needs_background": "light"
     },
     "output_type": "display_data"
    }
   ],
   "source": [
    "# Create a scatter plot of the x and y values for the Northern Hemisphere.\n",
    "x_values = North_Hemi[\"Lat\"]\n",
    "y_values = North_Hemi[\"Humidity\"] \n",
    "\n",
    "(slope, intercept, rvalue, pvalue, stderr) = linregress(x_values, y_values)\n",
    "regress_values = x_values * slope + intercept\n",
    "line_eq = \"y = \" + str(round(slope,2)) + \"x + \" + str(round(intercept,2))\n",
    "plt.scatter(x_values,y_values)\n",
    "plt.plot(x_values,regress_values,\"r-\")\n",
    "plt.title(f'Northern Hemisphere Humidity vs. Latitude ({datetime.datetime.now().strftime(\"%D\")})')\n",
    "plt.annotate(line_eq,(45,90),fontsize=15,color=\"red\")\n",
    "plt.xlabel('Latitude')\n",
    "plt.ylabel('Humidity (%)')\n",
    "print(f\"The r-squared is: {rvalue**2}\")\n",
    "plt.savefig(\"../Images/Linear Regression North Hemi Humidity vs. Lat.png\")\n",
    "plt.show()"
   ]
  },
  {
   "cell_type": "markdown",
   "metadata": {},
   "source": [
    "####  Southern Hemisphere - Humidity (%) vs. Latitude Linear Regression"
   ]
  },
  {
   "cell_type": "markdown",
   "metadata": {},
   "source": [
    "R-squared is just .013 so the relationship between humidity and latitude is almost non-existent."
   ]
  },
  {
   "cell_type": "code",
   "execution_count": 21,
   "metadata": {},
   "outputs": [
    {
     "name": "stdout",
     "output_type": "stream",
     "text": [
      "The r-squared is: 0.0034192086804545017\n"
     ]
    },
    {
     "data": {
      "image/png": "[encoded data removed]",
      "text/plain": [
       "<Figure size 432x288 with 1 Axes>"
      ]
     },
     "metadata": {
      "needs_background": "light"
     },
     "output_type": "display_data"
    }
   ],
   "source": [
    "# Create a scatter plot of the x and y values for the Southern Hemisphere.\n",
    "x_values = South_Hemi[\"Lat\"]\n",
    "y_values = South_Hemi[\"Humidity\"] \n",
    "\n",
    "(slope, intercept, rvalue, pvalue, stderr) = linregress(x_values, y_values)\n",
    "regress_values = x_values * slope + intercept\n",
    "line_eq = \"y = \" + str(round(slope,2)) + \"x + \" + str(round(intercept,2))\n",
    "plt.scatter(x_values,y_values)\n",
    "plt.plot(x_values,regress_values,\"r-\")\n",
    "plt.title(f'Southern Hemisphere Humidity vs. Latitude ({datetime.datetime.now().strftime(\"%D\")})')\n",
    "plt.annotate(line_eq,(-55,80),fontsize=15,color=\"red\")\n",
    "plt.xlabel('Latitude')\n",
    "plt.ylabel('Humidity (%)')\n",
    "print(f\"The r-squared is: {rvalue**2}\")\n",
    "plt.savefig(\"../Images/Linear Regression South Hemi Humidity vs. Lat.png\")\n",
    "plt.show()"
   ]
  },
  {
   "cell_type": "markdown",
   "metadata": {},
   "source": [
    "####  Northern Hemisphere - Cloudiness (%) vs. Latitude Linear Regression"
   ]
  },
  {
   "cell_type": "markdown",
   "metadata": {},
   "source": [
    "R-squared at .0088 is so low that the relationship between cloudiness and latitude is almost non-existent."
   ]
  },
  {
   "cell_type": "code",
   "execution_count": 22,
   "metadata": {},
   "outputs": [
    {
     "name": "stdout",
     "output_type": "stream",
     "text": [
      "The r-squared is: 0.0014283657482869533\n"
     ]
    },
    {
     "data": {
      "image/png": "[encoded data removed]",
      "text/plain": [
       "<Figure size 432x288 with 1 Axes>"
      ]
     },
     "metadata": {
      "needs_background": "light"
     },
     "output_type": "display_data"
    }
   ],
   "source": [
    "# Create a scatter plot of the x and y values for the Northern Hemisphere.\n",
    "x_values = North_Hemi[\"Lat\"]\n",
    "y_values = North_Hemi[\"Cloudiness\"] \n",
    "\n",
    "(slope, intercept, rvalue, pvalue, stderr) = linregress(x_values, y_values)\n",
    "regress_values = x_values * slope + intercept\n",
    "line_eq = \"y = \" + str(round(slope,2)) + \"x + \" + str(round(intercept,2))\n",
    "plt.scatter(x_values,y_values)\n",
    "plt.plot(x_values,regress_values,\"r-\")\n",
    "plt.title(f'Northern Hemisphere Cloudiness vs. Latitude ({datetime.datetime.now().strftime(\"%D\")})')\n",
    "plt.annotate(line_eq,(45,70),fontsize=15,color=\"red\")\n",
    "plt.xlabel('Latitude')\n",
    "plt.ylabel('Cloudiness (%)')\n",
    "print(f\"The r-squared is: {rvalue**2}\")\n",
    "plt.savefig(\"../Images/Linear Regression North Hemi Cloudiness vs. Lat.png\")\n",
    "plt.show()"
   ]
  },
  {
   "cell_type": "markdown",
   "metadata": {},
   "source": [
    "####  Southern Hemisphere - Cloudiness (%) vs. Latitude Linear Regression"
   ]
  },
  {
   "cell_type": "markdown",
   "metadata": {},
   "source": [
    "R-squared is just 0.00188 and this indicates the relationship between cloudiness and latitude is almost non-existent."
   ]
  },
  {
   "cell_type": "code",
   "execution_count": 23,
   "metadata": {},
   "outputs": [
    {
     "name": "stdout",
     "output_type": "stream",
     "text": [
      "The r-squared is: 0.004598919786087014\n"
     ]
    },
    {
     "data": {
      "image/png": "[encoded data removed]",
      "text/plain": [
       "<Figure size 432x288 with 1 Axes>"
      ]
     },
     "metadata": {
      "needs_background": "light"
     },
     "output_type": "display_data"
    }
   ],
   "source": [
    "# Create a scatter plot of the x and y values for the Southern Hemisphere.\n",
    "x_values = South_Hemi[\"Lat\"]\n",
    "y_values = South_Hemi[\"Cloudiness\"] \n",
    "\n",
    "(slope, intercept, rvalue, pvalue, stderr) = linregress(x_values, y_values)\n",
    "regress_values = x_values * slope + intercept\n",
    "line_eq = \"y = \" + str(round(slope,2)) + \"x + \" + str(round(intercept,2))\n",
    "plt.scatter(x_values,y_values)\n",
    "plt.plot(x_values,regress_values,\"r-\")\n",
    "plt.title(f'Southern Hemisphere Cloudiness vs. Latitude ({datetime.datetime.now().strftime(\"%D\")})')\n",
    "plt.annotate(line_eq,(-55,45),fontsize=15,color=\"red\")\n",
    "plt.xlabel('Latitude')\n",
    "plt.ylabel('Cloudiness (%)')\n",
    "print(f\"The r-squared is: {rvalue**2}\")\n",
    "plt.savefig(\"../Images/Linear Regression South Hemi Cloudiness vs. Lat.png\")\n",
    "plt.show()"
   ]
  },
  {
   "cell_type": "markdown",
   "metadata": {},
   "source": [
    "####  Northern Hemisphere - Wind Speed (mph) vs. Latitude Linear Regression"
   ]
  },
  {
   "cell_type": "markdown",
   "metadata": {},
   "source": [
    "An R-sqared of 3.53e-05 is so low R-squared and this indicates the relationship between wind speed and latitude is almost non-existent."
   ]
  },
  {
   "cell_type": "code",
   "execution_count": 24,
   "metadata": {},
   "outputs": [
    {
     "name": "stdout",
     "output_type": "stream",
     "text": [
      "The r-squared is: 0.009878306176726576\n"
     ]
    },
    {
     "data": {
      "image/png": "[encoded data removed]",
      "text/plain": [
       "<Figure size 432x288 with 1 Axes>"
      ]
     },
     "metadata": {
      "needs_background": "light"
     },
     "output_type": "display_data"
    }
   ],
   "source": [
    "# Create a scatter plot of the x and y values for the Northern Hemisphere.\n",
    "x_values = North_Hemi[\"Lat\"]\n",
    "y_values = North_Hemi[\"Wind Speed\"] \n",
    "\n",
    "(slope, intercept, rvalue, pvalue, stderr) = linregress(x_values, y_values)\n",
    "regress_values = x_values * slope + intercept\n",
    "line_eq = \"y = \" + str(round(slope,2)) + \"x + \" + str(round(intercept,2))\n",
    "plt.scatter(x_values,y_values)\n",
    "plt.plot(x_values,regress_values,\"r-\")\n",
    "plt.title(f'Northern Hemisphere Wind Speed (mph) vs. Latitude ({datetime.datetime.now().strftime(\"%D\")})')\n",
    "plt.annotate(line_eq,(40,15),fontsize=15,color=\"red\")\n",
    "plt.xlabel('Latitude')\n",
    "plt.ylabel('Wind Speed (mph)')\n",
    "print(f\"The r-squared is: {rvalue**2}\")\n",
    "plt.savefig(\"../Images/Linear Regression North Hemi Wind speed vs. Latitude.png\")\n",
    "plt.show()\n",
    "\n"
   ]
  },
  {
   "cell_type": "markdown",
   "metadata": {},
   "source": [
    "####  Southern Hemisphere - Wind Speed (mph) vs. Latitude Linear Regression"
   ]
  },
  {
   "cell_type": "markdown",
   "metadata": {},
   "source": [
    "An R-sqared of .0265 is very low R-squared and this indicates the relationship between wind speed and latitude is almost non-existent."
   ]
  },
  {
   "cell_type": "code",
   "execution_count": 25,
   "metadata": {},
   "outputs": [
    {
     "name": "stdout",
     "output_type": "stream",
     "text": [
      "The r-squared is: 0.023216291382230195\n"
     ]
    },
    {
     "data": {
      "image/png": "[encoded data removed]",
      "text/plain": [
       "<Figure size 432x288 with 1 Axes>"
      ]
     },
     "metadata": {
      "needs_background": "light"
     },
     "output_type": "display_data"
    }
   ],
   "source": [
    "# Create a scatter plot of the x and y values for the Southern Hemisphere.\n",
    "x_values = South_Hemi[\"Lat\"]\n",
    "y_values = South_Hemi[\"Wind Speed\"] \n",
    "\n",
    "(slope, intercept, rvalue, pvalue, stderr) = linregress(x_values, y_values)\n",
    "regress_values = x_values * slope + intercept\n",
    "line_eq = \"y = \" + str(round(slope,2)) + \"x + \" + str(round(intercept,2))\n",
    "plt.scatter(x_values,y_values)\n",
    "plt.plot(x_values,regress_values,\"r-\")\n",
    "plt.title(f'Southern Hemisphere Wind Speed vs. Latitude ({datetime.datetime.now().strftime(\"%D\")})')\n",
    "plt.annotate(line_eq,(-50,10),fontsize=15,color=\"red\")\n",
    "plt.xlabel('Latitude')\n",
    "plt.ylabel('Wind Speed (mph)')\n",
    "print(f\"The r-squared is: {rvalue**2}\")\n",
    "plt.savefig(\"../Images/Linear Regression South Hemi Wind speed vs. Latitude.png\")\n",
    "plt.show()"
   ]
  },
  {
   "cell_type": "code",
   "execution_count": null,
   "metadata": {},
   "outputs": [],
   "source": []
  }
 ],
 "metadata": {
  "anaconda-cloud": {},
  "kernel_info": {
   "name": "python3"
  },
  "kernelspec": {
   "display_name": "Python [conda env:PythonData] *",
   "language": "python",
   "name": "conda-env-PythonData-py"
  },
  "language_info": {
   "codemirror_mode": {
    "name": "ipython",
    "version": 3
   },
   "file_extension": ".py",
   "mimetype": "text/x-python",
   "name": "python",
   "nbconvert_exporter": "python",
   "pygments_lexer": "ipython3",
   "version": "3.6.10"
  },
  "latex_envs": {
   "LaTeX_envs_menu_present": true,
   "autoclose": false,
   "autocomplete": true,
   "bibliofile": "biblio.bib",
   "cite_by": "apalike",
   "current_citInitial": 1,
   "eqLabelWithNumbers": true,
   "eqNumInitial": 1,
   "hotkeys": {
    "equation": "Ctrl-E",
    "itemize": "Ctrl-I"
   },
   "labels_anchors": false,
   "latex_user_defs": false,
   "report_style_numbering": false,
   "user_envs_cfg": false
  },
  "nteract": {
   "version": "0.12.3"
  }
 },
 "nbformat": 4,
 "nbformat_minor": 2
}
